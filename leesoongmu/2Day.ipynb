{
 "cells": [
  {
   "cell_type": "code",
   "execution_count": 168,
   "id": "f9a86a77",
   "metadata": {},
   "outputs": [
    {
     "name": "stderr",
     "output_type": "stream",
     "text": [
      "C:\\Users\\soldesk\\AppData\\Local\\Temp\\ipykernel_10576\\627556072.py:1: DeprecationWarning: Importing display from IPython.core.display is deprecated since IPython 7.14, please import from IPython display\n",
      "  from IPython.core.display import display, HTML\n"
     ]
    },
    {
     "data": {
      "text/html": [
       "<style>\n",
       "div.container { width:100% !important; }\n",
       "div.CodeMirror {font-family: Consolas; font-size: 25pt;}\n",
       "div.output { font-size: 20pt; font-weight: bold;}\n",
       "div.input { font-family: Consolas; font-size: 25pt;}\n",
       "div.prompt { min-width: 100px;}\n",
       "</style>\n"
      ],
      "text/plain": [
       "<IPython.core.display.HTML object>"
      ]
     },
     "metadata": {},
     "output_type": "display_data"
    }
   ],
   "source": [
    "from IPython.core.display import display, HTML\n",
    "display(HTML(\n",
    "\"\"\"<style>\n",
    "div.container { width:100% !important; }\n",
    "div.CodeMirror {font-family: Consolas; font-size: 25pt;}\n",
    "div.output { font-size: 20pt; font-weight: bold;}\n",
    "div.input { font-family: Consolas; font-size: 25pt;}\n",
    "div.prompt { min-width: 100px;}\n",
    "</style>\n",
    "\"\"\"))"
   ]
  },
  {
   "cell_type": "code",
   "execution_count": 3,
   "id": "fa694137",
   "metadata": {},
   "outputs": [
    {
     "name": "stdout",
     "output_type": "stream",
     "text": [
      "10\n",
      "20\n",
      "['Life', 'is', 'to', 'short']\n"
     ]
    }
   ],
   "source": [
    "# 리터널 : 자연어   : \n",
    "#             문자, 문자열 : \n",
    "#                 \"A\", 'a', \"\"\"a\"\"\", '''a''', \"10\", '10', a:변수\n",
    "#          자연수  : 정수 : 10, 20 ,3 \n",
    "#                    실수 : 10.5 , 0.5\n",
    "#          논리형  : 참 / 거짓\n",
    "# 리스트 : [] : 하나의 값만 가지고 있는 것이 아닌 \n",
    "#               여러개의 값을 가진 자료형\n",
    "#               여러 유형의 데이터를 여러개 담을 수 있게 만든 것\n",
    "#         [1,2,3,4] :  정수형리스트\n",
    "#         [0.2,0.4] :  실수형 리스트\n",
    "#         [\"이숭무\", \"이장범\"] : 문자열 리스트\n",
    "#         [10, 0.4, \"이숭무\"] : 혼합형 리스트\n",
    "a = 10;\n",
    "print(a)\n",
    "a = 20;\n",
    "print(a)\n",
    "str1 = \"Life is to short\"\n",
    "l1 = str1.split() # split의 결과는 리스트이다.\n",
    "print(l1)# ['Life', 'is', 'to', 'short']"
   ]
  },
  {
   "cell_type": "code",
   "execution_count": null,
   "id": "847ae587",
   "metadata": {},
   "outputs": [],
   "source": [
    "l2 = [] #  빈 리스트\n",
    "l3 = [1,2,3,4] # 정수형리스트\n",
    "l4 = [\"이숭무\", \"이상번\"] # 문자열 리스트\n",
    "l5 = [1,2,3,\"이숭무\", \"이상범\",0.5,10.5] # 혼합형 리스트\n",
    "l6 = [[1,2,3,4], [3,4,5]] # 리스트를 포함한 리스트\n",
    "l7 = [1,2,3,[4,5,6], \"이숭무\", 0.5] #리스트를 포함한 혼합형 리스트"
   ]
  },
  {
   "cell_type": "code",
   "execution_count": 16,
   "id": "e48b2da9",
   "metadata": {},
   "outputs": [
    {
     "name": "stdout",
     "output_type": "stream",
     "text": [
      "e\n",
      "e\n",
      "3\n",
      "3\n",
      "12\n",
      "['Life', 'is', 'too', 'short']\n",
      "is\n",
      "Life is\n",
      "Life\n",
      "i\n",
      "i\n",
      "Lifeis\n",
      "LifeLifeLife\n",
      "['Life', 'is', 'too', 'short', '3']\n",
      "LifeLifeLife\n"
     ]
    }
   ],
   "source": [
    "str1 = \"Life is too short\"\n",
    "#       01234567890123456\n",
    "#                 1\n",
    "#     - 76543210987654321   : index\n",
    "#              1\n",
    "print(str1[3])\n",
    "print(str1[-14]) # indexing\n",
    "l = [1,2,3,4,5,6,7,8] # 리스트에 있는 각각의 값을 요소라고 한다.\n",
    "#    0 1 2 3 4 5 6 7\n",
    "#  - 8 7 6 5 4 3 2 1 : index\n",
    "print(l[2]) # indexing\n",
    "print(l[-6]) # indexing을 하면 요소가 가지고 있는 자료형으로 출력\n",
    "print(l[3] + l[7]) # 4 + 8\n",
    "l1 = str1.split()\n",
    "print(l1)  # l1 = ['Life', 'is', 'too', 'short']\n",
    "#                     0     1      2       3\n",
    "print(l1[1])  # is\n",
    "print(l1[0]+ \" \" +l1[1])\n",
    "print(l1[0])  # l1[0] = \"Life\"\n",
    "#                        0123\n",
    "print(l1[0][1])\n",
    "print(\"Life\"[1])\n",
    "l2 = ['Life', 'is', 'too', 'short', 3]\n",
    "#       0       1      2      3     4\n",
    "print(l2[0]+ l2[1])\n",
    "#print(l2[0] + l2[4]) # 문자열 + 정수\n",
    "print(l2[0] * l2[4]) # \"Life\" * 3\n",
    "\n",
    "str3 = \"Life is too short 3\"\n",
    "l3 = str3.split()\n",
    "print(l3) # ['Life', 'is', 'too', 'short', '3']\n",
    "print(l3[0] * int(l3[4]))"
   ]
  },
  {
   "cell_type": "code",
   "execution_count": 19,
   "id": "5232f277",
   "metadata": {},
   "outputs": [
    {
     "name": "stdout",
     "output_type": "stream",
     "text": [
      "['a', 'b', 'c']\n",
      "b\n",
      "['a', 'b', 'c']\n",
      "b\n"
     ]
    }
   ],
   "source": [
    "a = [1, 2, 3, 4, ['a', 'b', 'c']]\n",
    "#    0  1  2  3         4\n",
    "#                  0    1    2\n",
    "#    5  4  3  2         1       -\n",
    "#                   3    2    1  -       \n",
    "print(a[4]) # ['a', 'b', 'c']\n",
    "print(a[4][1])\n",
    "print(a[-1]) # ['a', 'b', 'c']\n",
    "print(a[-1][-2])\n",
    "print(a[4][-2])\n",
    "print(a[-1][1])"
   ]
  },
  {
   "cell_type": "code",
   "execution_count": null,
   "id": "d0902949",
   "metadata": {},
   "outputs": [],
   "source": [
    "a = [1, 2, ['a', 'b', ['Life', 'is']]]\n",
    "#    0  1             2\n",
    "#            0    1          2\n",
    "#                         0      1\n",
    "# ['a', 'b', ['Life', 'is']]\n",
    "print(a[2])\n",
    "# ['Life', 'is']\n",
    "print(a[2][2])\n",
    " # Life\n",
    "print(a[2][2][0])\n",
    "# i\n",
    "print(a[2][2][0][1])"
   ]
  },
  {
   "cell_type": "code",
   "execution_count": 27,
   "id": "59c4a9ac",
   "metadata": {},
   "outputs": [
    {
     "name": "stdout",
     "output_type": "stream",
     "text": [
      "e i\n",
      "3\n",
      "[3, 4, 5]\n",
      "2\n",
      "3\n",
      "5\n",
      "[2]\n",
      "[3]\n",
      "[2, 3]\n",
      "[2, 2, 2]\n"
     ]
    }
   ],
   "source": [
    "# slicing\n",
    "str1 = \"Life is too short\"\n",
    "#e i\n",
    "print(str1[3:3+3])\n",
    "l = [1,2,3,4,5,6,7]\n",
    "#    0 1 2 3 4 5 6\n",
    "print(l[2])\n",
    "print(l[2:2+3])\n",
    "print(l[1])  # 2\n",
    "print(l[2])\n",
    "print(l[1]+l[2]) # indexing : 정수 + 정수\n",
    "print(l[1:1+1]) # [2] : 리스트로 출력\n",
    "print(l[2:2+1]) # [3] : 리스트\n",
    "print(l[1:1+1] + l[2:2+1] ) \n",
    "# [2, 3] # Slicing : 리스트와 리스트 연산\n",
    "print(l[1:1+1] * 3 ) # +: 연결연산자, *:반복연산자."
   ]
  },
  {
   "cell_type": "code",
   "execution_count": 31,
   "id": "ce94ca36",
   "metadata": {},
   "outputs": [
    {
     "name": "stdout",
     "output_type": "stream",
     "text": [
      "Life\n",
      "['Your leg', 'is', 'too', 'short']\n",
      "your leg is too short\n"
     ]
    }
   ],
   "source": [
    "c = ['Life', 'is', 'too', 'short'] \n",
    "### 'Life'를 ' Your leg'\n",
    "print(c[0])\n",
    "c[0] = 'Your leg'\n",
    "print(c)\n",
    "str1 = 'Life is too short'\n",
    "str2 = str1.replace(\"Life\", \"your leg\");\n",
    "print(str2)"
   ]
  },
  {
   "cell_type": "code",
   "execution_count": 37,
   "id": "0d005df0",
   "metadata": {},
   "outputs": [
    {
     "name": "stdout",
     "output_type": "stream",
     "text": [
      "[3, ['a', 'b', 'c'], 4]\n",
      "['a', 'b', 'c']\n",
      "['a', 'b', 'c']\n",
      "b\n",
      "b\n",
      "['b', 'c', 'b', 'c', 'b', 'c', 'b', 'c']\n",
      "5\n",
      "5\n",
      "6\n",
      "6\n"
     ]
    }
   ],
   "source": [
    "a = [1, 2, 3, ['a', 'b', 'c'], 4, 5]\n",
    "#    0  1  2         3         4  5\n",
    "#               0    1    2\n",
    "# [3, ['a', 'b', 'c'], 4]를 출력\n",
    "print(a[2: 2 + 3]) # [3, ['a', 'b', 'c'], 4]\n",
    "#                     0         1         2\n",
    "# ['a', 'b', 'c']를 출력\n",
    "print(a[3])\n",
    "print(a[2: 2 + 3][1])\n",
    "# 'b'를 출력\n",
    "print(a[3][1])\n",
    "print(a[2: 2 + 3][1][1])\n",
    "# 위 리스트를 이용해서 ['b', 'c','b', 'c','b', 'c','b', 'c'] \n",
    "# 가 출력되게 하시오\n",
    "print(a[3][1:1+2] * a[4])\n",
    "# 마지막 요소의 값을 출력하시오.\n",
    "print(a[5])\n",
    "print(a[len(a)-1])\n",
    "str1 = \"python\"\n",
    "print(len(str1))\n",
    "print(len(a))"
   ]
  },
  {
   "cell_type": "code",
   "execution_count": 44,
   "id": "5e667798",
   "metadata": {},
   "outputs": [
    {
     "name": "stdout",
     "output_type": "stream",
     "text": [
      "['Life', 'is', 'too']\n",
      "['Life', 'is', 'too', 'short']\n",
      "['Life', 'is', 'too', 'short', 3]\n",
      "['Life', 'is', 'short']\n",
      "['Life', 'is', 'too', 'short']\n",
      "['Life', 'is', 'too', 'short', 1, 2, 3]\n"
     ]
    }
   ],
   "source": [
    "# 리스트 함수\n",
    "### 리스트에 요소 추가 \n",
    "# append()\n",
    "l1 = ['Life','is']\n",
    "# 요소 'is' 뒤에 'too'를 추가  ['Life','is','too']\n",
    "l1.append(\"too\")\n",
    "print(l1)\n",
    "# ['Life','is','too']에 short 를 추가\n",
    "l1.append('short')\n",
    "print(l1)\n",
    "# ['Life','is','too', 3]\n",
    "l1.append(3)\n",
    "print(l1)\n",
    "# 원하는 위치에 요소 삽입하기\n",
    "l1 = ['Life','short']\n",
    "#       0       1\n",
    "l1.insert(1,'is')\n",
    "print(l1) # ['Life', 'is', 'short']\n",
    "#              0      1      2 \n",
    "# ['Life', 'is', 'too', 'short']\n",
    "l1.insert(2,'too')\n",
    "print(l1)  \n",
    "a = [1,2,3]\n",
    "# ['Life', 'is', 'too', 'short' , 1 , 2, 3]\n",
    "l1.extend(a)\n",
    "print(l1)"
   ]
  },
  {
   "cell_type": "code",
   "execution_count": 46,
   "id": "6f89721d",
   "metadata": {},
   "outputs": [
    {
     "name": "stdout",
     "output_type": "stream",
     "text": [
      "1\n"
     ]
    },
    {
     "ename": "TypeError",
     "evalue": "'int' object is not callable",
     "output_type": "error",
     "traceback": [
      "\u001b[1;31m---------------------------------------------------------------------------\u001b[0m",
      "\u001b[1;31mTypeError\u001b[0m                                 Traceback (most recent call last)",
      "Cell \u001b[1;32mIn[46], line 3\u001b[0m\n\u001b[0;32m      1\u001b[0m \u001b[38;5;28mint\u001b[39m \u001b[38;5;241m=\u001b[39m \u001b[38;5;241m1\u001b[39m;\n\u001b[0;32m      2\u001b[0m \u001b[38;5;28mprint\u001b[39m(\u001b[38;5;28mint\u001b[39m)\n\u001b[1;32m----> 3\u001b[0m \u001b[38;5;28mprint\u001b[39m(\u001b[38;5;28;43mint\u001b[39;49m\u001b[43m(\u001b[49m\u001b[38;5;124;43m\"\u001b[39;49m\u001b[38;5;124;43m1\u001b[39;49m\u001b[38;5;124;43m\"\u001b[39;49m\u001b[43m)\u001b[49m)\n",
      "\u001b[1;31mTypeError\u001b[0m: 'int' object is not callable"
     ]
    }
   ],
   "source": [
    "int = 1;\n",
    "print(int)\n",
    "print(int(\"1\"))"
   ]
  },
  {
   "cell_type": "code",
   "execution_count": 47,
   "id": "435bf426",
   "metadata": {},
   "outputs": [],
   "source": [
    "del int"
   ]
  },
  {
   "cell_type": "code",
   "execution_count": 48,
   "id": "da9132f0",
   "metadata": {},
   "outputs": [
    {
     "name": "stdout",
     "output_type": "stream",
     "text": [
      "1\n"
     ]
    }
   ],
   "source": [
    "print(int(\"1\"))"
   ]
  },
  {
   "cell_type": "code",
   "execution_count": 63,
   "id": "bf92e049",
   "metadata": {},
   "outputs": [
    {
     "name": "stdout",
     "output_type": "stream",
     "text": [
      "['Life', 'is', 'too', 'short', 2, 3]\n",
      "['too', 'short']\n",
      "['Life', 'is', 2, 3]\n",
      "['is', 2, 3]\n",
      "['Life']\n",
      "['Life', 'is', 'too', 1, 2, 3]\n",
      "['Life', 'is', 'too', 2, 3]\n",
      "['Life', 'too', 2, 3]\n",
      "None\n",
      "short\n",
      "['Life', 'is', 'too', 1, 2, 3]\n",
      "3\n",
      "['Life', 'is', 'too', 1, 2]\n"
     ]
    }
   ],
   "source": [
    "#요소 삭제\n",
    "l1 = ['Life', 'is', 'too', 'short', 1, 2, 3]\n",
    "#        0       1      2      3     4  5  6\n",
    "# indexing을 이용해서 요소 삭제\n",
    "del l1[4]\n",
    "print(l1)\n",
    "#slicing을 이용해서 삭제\n",
    "print(l1[2:2+2])\n",
    "del l1[2:2+2]\n",
    "print(l1)  # ['Life', 'is', 2, 3]\n",
    "#               0       1   2  3\n",
    "print(l1[1:])\n",
    "del l1[1:]\n",
    "print(l1)\n",
    "l1 = ['Life', 'is', 'too', 'short', 1, 2, 3]\n",
    "# 요소를 이용해서 삭제\n",
    "# 'short'를 삭제\n",
    "l1.remove('short')\n",
    "print(l1)\n",
    "l1.remove(1)\n",
    "print(l1)\n",
    "l1.remove('is')\n",
    "print(l1)\n",
    "result = l1.remove(2)\n",
    "print(result)\n",
    "l1 = ['Life', 'is', 'too', 'short', 1, 2, 3]\n",
    "result = l1.pop(3) # index를 이용해서\n",
    "print(result)\n",
    "print(l1)\n",
    "# 맨뒤에 있는 값을 가지고 나온 후 삭제\n",
    "result = l1.pop() # 비 복원 추출\n",
    "print(result)\n",
    "print(l1)\n",
    "# 주사위 : 복원 추출\n",
    "# 비 복원 추출을 하는 프로그램 : 로또 "
   ]
  },
  {
   "cell_type": "code",
   "execution_count": 68,
   "id": "c17a47e6",
   "metadata": {},
   "outputs": [
    {
     "name": "stdout",
     "output_type": "stream",
     "text": [
      "[1, 2, 3, 4, 5]\n",
      "[5, 4, 3, 2, 1]\n",
      "[3, 1, 5, 2, 4]\n",
      "['a', 'b', 'c']\n"
     ]
    },
    {
     "ename": "TypeError",
     "evalue": "'<' not supported between instances of 'int' and 'str'",
     "output_type": "error",
     "traceback": [
      "\u001b[1;31m---------------------------------------------------------------------------\u001b[0m",
      "\u001b[1;31mTypeError\u001b[0m                                 Traceback (most recent call last)",
      "Cell \u001b[1;32mIn[68], line 16\u001b[0m\n\u001b[0;32m     14\u001b[0m \u001b[38;5;28mprint\u001b[39m(l)\n\u001b[0;32m     15\u001b[0m l \u001b[38;5;241m=\u001b[39m [\u001b[38;5;124m'\u001b[39m\u001b[38;5;124mb\u001b[39m\u001b[38;5;124m'\u001b[39m,\u001b[38;5;124m'\u001b[39m\u001b[38;5;124ma\u001b[39m\u001b[38;5;124m'\u001b[39m,\u001b[38;5;124m'\u001b[39m\u001b[38;5;124mc\u001b[39m\u001b[38;5;124m'\u001b[39m,\u001b[38;5;241m3\u001b[39m, \u001b[38;5;241m1\u001b[39m,\u001b[38;5;241m2\u001b[39m]\n\u001b[1;32m---> 16\u001b[0m \u001b[43ml\u001b[49m\u001b[38;5;241;43m.\u001b[39;49m\u001b[43msort\u001b[49m\u001b[43m(\u001b[49m\u001b[43m)\u001b[49m\n",
      "\u001b[1;31mTypeError\u001b[0m: '<' not supported between instances of 'int' and 'str'"
     ]
    }
   ],
   "source": [
    "# 정렬 -- 오름차순, 내림차순\n",
    "l = [4,2,5,1,3]\n",
    "#오름차순\n",
    "l.sort()\n",
    "print(l)\n",
    "#내림차순\n",
    "l.sort(reverse=True)\n",
    "print(l)\n",
    "l = [4,2,5,1,3]\n",
    "l.reverse()\n",
    "print(l)\n",
    "l = ['b','a','c']\n",
    "l.sort()\n",
    "print(l)\n",
    "#l = ['b','a','c',3, 1,2]\n",
    "#l.sort()\n",
    "# 문자열과 숫자가 혼합된 리스트를 정렬 (x):"
   ]
  },
  {
   "cell_type": "code",
   "execution_count": 137,
   "id": "67fa29e6",
   "metadata": {},
   "outputs": [
    {
     "name": "stdout",
     "output_type": "stream",
     "text": [
      "[1]\n",
      "12\n",
      "1\n",
      "1\n",
      "(1,)\n",
      "(1, 2)\n",
      "(1, 2, 3, 4, 5, 6)\n"
     ]
    }
   ],
   "source": [
    "'''\n",
    "리터널 자료형: 숫자자료형 : 정수 : 10,  5\n",
    "                          실수 : 10.5 , 5.2\n",
    "             문자열자료형 : \"a\", 'a',\"\"\"a\"\"\", '''''' ,'10', '10.5'             \n",
    "리스트 자료형 : [], [1], [10.5], ['a'] , [1,2,'a'], [[1],2,(1,2)]\n",
    "튜플   자료형 : (), (1,), (10.5,), ('a',) , (1,2,'a'), ([1],2,(1,2))\n",
    "'''\n",
    "print([1])\n",
    "print((1 + 2) * 4)\n",
    "print((1))\n",
    "t = (1) # 최우선 연산자\n",
    "print(t)\n",
    "t = (1,)\n",
    "print(t)\n",
    "t = (1,2) # 정수형 튜플\n",
    "print(t)\n",
    "t = ('a','b')#문자열 튜플\n",
    "t= ('a','b',1,2,3) #혼합형튜플\n",
    "t= ('a','b',(1,2,3)) #튜플을 포함한 튜플\n",
    "t= ('a','b',(1,2,3),[1,2,3], 1,2,3) #리스트와 튜플을 포함한 튜플\n",
    "t = 1,2,3,4,5,6\n",
    "pint(t)"
   ]
  },
  {
   "cell_type": "code",
   "execution_count": 92,
   "id": "635feb2b",
   "metadata": {},
   "outputs": [
    {
     "name": "stdout",
     "output_type": "stream",
     "text": [
      "1\n",
      "1\n",
      "[3, 4]\n",
      "(3, 4, 3)\n",
      "[2]\n",
      "(2,)\n",
      "[2, 10]\n",
      "(2, 10)\n",
      "[1, 2, 3, 4]\n",
      "(1, 2, 3, 4)\n",
      "2\n"
     ]
    },
    {
     "ename": "ValueError",
     "evalue": "3 is not in list",
     "output_type": "error",
     "traceback": [
      "\u001b[1;31m---------------------------------------------------------------------------\u001b[0m",
      "\u001b[1;31mValueError\u001b[0m                                Traceback (most recent call last)",
      "Cell \u001b[1;32mIn[92], line 18\u001b[0m\n\u001b[0;32m     16\u001b[0m \u001b[38;5;28mprint\u001b[39m(l\u001b[38;5;241m.\u001b[39mindex(\u001b[38;5;241m3\u001b[39m)) \u001b[38;5;66;03m# 2\u001b[39;00m\n\u001b[0;32m     17\u001b[0m \u001b[38;5;66;03m# print(l.rindex(3)) :  리스트에서는\u001b[39;00m\n\u001b[1;32m---> 18\u001b[0m \u001b[38;5;28mprint\u001b[39m(\u001b[43ml\u001b[49m\u001b[38;5;241;43m.\u001b[39;49m\u001b[43mindex\u001b[49m\u001b[43m(\u001b[49m\u001b[38;5;241;43m3\u001b[39;49m\u001b[43m,\u001b[49m\u001b[43m \u001b[49m\u001b[38;5;241;43m3\u001b[39;49m\u001b[43m)\u001b[49m)\n\u001b[0;32m     19\u001b[0m \u001b[38;5;28mprint\u001b[39m(l\u001b[38;5;241m.\u001b[39mindex(\u001b[38;5;241m3\u001b[39m, l\u001b[38;5;241m.\u001b[39mindex(\u001b[38;5;241m3\u001b[39m) \u001b[38;5;241m+\u001b[39m \u001b[38;5;241m1\u001b[39m))\n\u001b[0;32m     21\u001b[0m \u001b[38;5;28mprint\u001b[39m(t\u001b[38;5;241m.\u001b[39mindex(\u001b[38;5;241m3\u001b[39m)) \u001b[38;5;66;03m# 2\u001b[39;00m\n",
      "\u001b[1;31mValueError\u001b[0m: 3 is not in list"
     ]
    }
   ],
   "source": [
    "l = [1,2,3,4,3] # indexing, slicing을 할 수 있다\n",
    "t = (1,2,3,4,3)\n",
    "print(l[0])\n",
    "print(t[0])\n",
    "print(l[2:])\n",
    "print(t[2:])\n",
    "print(l[1:1+1]) # 리스트\n",
    "print(t[1:1+1]) # 튜플\n",
    "# print(l[1:1+1] + 10)\n",
    "print(l[1:1+1] + [10])\n",
    "# print(t[1:1+1] + 10) \n",
    "print(t[1:1+1] + (10,)) \n",
    "print(l[:4])\n",
    "print(t[:4])\n",
    "# 리스트 l에서 3이 있는 위치(index)를 출력\n",
    "print(l.index(3)) # 2\n",
    "# print(l.rindex(3)) :  리스트에서는\n",
    "print(l.index(3, 3))\n",
    "print(l.index(3, l.index(3) + 1))\n",
    "\n",
    "print(t.index(3)) # 2\n",
    "print(t.index(3, 3))\n",
    "print(t.index(3, t.index(3) + 1))\n",
    "# print(l.find(3))\n",
    "\n",
    "print(l.count(3))\n",
    "print(t.count(3))\n",
    "\n",
    "print(len(l))\n",
    "print(len(t))"
   ]
  },
  {
   "cell_type": "code",
   "execution_count": 91,
   "id": "43fff8d7",
   "metadata": {},
   "outputs": [
    {
     "name": "stdout",
     "output_type": "stream",
     "text": [
      "2\n",
      "[1, 10, 3, 4]\n",
      "2\n",
      "[1, 3, 4]\n"
     ]
    }
   ],
   "source": [
    "# 리스트와 튜플의 차이점\n",
    "l = [1,2,3,4]\n",
    "t = (1,2,3,4) #  요소가 변경 되지 않는다.\n",
    "print(l[1])\n",
    "l[1] = 10\n",
    "print(l)\n",
    "print(t[1])\n",
    "#t[1] = 10 # 값을 변경 할 수 없다.\n",
    "del l[1]\n",
    "print(l)\n",
    "# del t[1]"
   ]
  },
  {
   "cell_type": "code",
   "execution_count": 96,
   "id": "0b78a53a",
   "metadata": {},
   "outputs": [
    {
     "name": "stdout",
     "output_type": "stream",
     "text": [
      "['h', 'e', 'l', 'l', 'o']\n",
      "('h', 'e', 'l', 'l', 'o')\n",
      "('h', 'e', 'l', 'l', 'o')\n",
      "['h', 'e', 'l', 'l', 'o']\n"
     ]
    }
   ],
   "source": [
    "str1 = \"hello\"\n",
    "l = list(str1)\n",
    "print(l)\n",
    "t = tuple(str1)\n",
    "print(t)\n",
    "t1 = tuple(l)\n",
    "print(t1)\n",
    "l1 = list(t)\n",
    "print(l1)\n",
    "a = \"10\"\n",
    "i = int(a)\n",
    "print(i)\n",
    "f = float(a)\n",
    "print(f)\n",
    "i = 10\n",
    "s = str(i)\n",
    "print(s)"
   ]
  },
  {
   "cell_type": "code",
   "execution_count": 104,
   "id": "b13fae0a",
   "metadata": {},
   "outputs": [
    {
     "name": "stdout",
     "output_type": "stream",
     "text": [
      "['Life', 'is', 'too', 'short']\n",
      "Lifeistooshort\n",
      "Life is too short\n",
      "('Life', 'is', 'too', 'short')\n",
      "Lifeistooshort\n",
      "Life is too short\n",
      "Life:is:too:short\n",
      "h,e,l,l,o\n"
     ]
    }
   ],
   "source": [
    "l = ['Life', 'is', 'too', 'short' ]\n",
    "str1 = str(l)\n",
    "print(str1)\n",
    "str1 = \"\".join(l) #리스트를 문자열로 변경할 때\n",
    "print(str1)\n",
    "str1 = \" \".join(l)\n",
    "print(str1)\n",
    "t = ('Life', 'is', 'too', 'short' )\n",
    "str1 = str(t)\n",
    "print(str1)\n",
    "str1 = \"\".join(t)\n",
    "print(str1)\n",
    "str1 = \" \".join(t)\n",
    "print(str1)\n",
    "str1 = \":\".join(t)\n",
    "print(str1)\n",
    "str2 =\"hello\"\n",
    "result = \",\".join(str2)\n",
    "print(result)"
   ]
  },
  {
   "cell_type": "code",
   "execution_count": 112,
   "id": "7e7dd1d7",
   "metadata": {},
   "outputs": [
    {
     "name": "stdout",
     "output_type": "stream",
     "text": [
      "이숭무\n",
      "3\n",
      "3\n",
      "35\n",
      "이숭무\n",
      "1\n",
      "[10, 2, 3, 4]\n",
      "{'name': '이숭무', 'age': 40, 'height': 175.5}\n",
      "{'name': '이숭무', 'age': 40, 'height': 175.5, 'addr': '성남'}\n",
      "{1: '이상범'}\n"
     ]
    }
   ],
   "source": [
    "# 리터널 자료형 : 정수, 실수, 문자열:\"\" '', 부울\n",
    "# 리스트 자료형 : [] ,[1]\n",
    "# 튜플 자료형 : (), (1,), (1,2,3)\n",
    "# 딕셔너리(사전) :{}, {key_1:value_1,..., key_n:value_n}\n",
    "                #자바스크립트 : json , 자바 : map<key, value>\n",
    "dic = {}\n",
    "dic1 = {'name':'이숭무', 'age':35, 'height':175.5}\n",
    "print(dic1['name'])\n",
    "l = [1,2,3,4]\n",
    "print(l[2])\n",
    "t = (1,2,3,4)\n",
    "print(t[2])\n",
    "print(dic1['age'])\n",
    "d2 = {2:'이숭무', 0:'이상범', 1:'이장범'}\n",
    "#        0           1          2  \n",
    "#딕셔너리는 index를 사용하지 않는다.키와 index가 중복 될 수 있어서\n",
    "print(d2[2])# 값을 key를 이용해서 가지고 온다.\n",
    "print(l[0])\n",
    "l[0] = 10 # index를 이용해서 값을 변경\n",
    "print(l)\n",
    "dic1['age'] = 40\n",
    "print(dic1) #키를 이용해서 값을 변경할 수 있다.\n",
    "#l[4] = 10 # IndexError: list assignment index out of range\n",
    "dic1['addr'] = '성남'\n",
    "print(dic1)\n",
    "# 키가 있는 경우 값을 변경하고 키가 없는 경우 요소를 추가\n",
    "# 키의 중복을 허용하지 않는다\n",
    "d3 = {1:'이숭무' , 1:'이상범' }\n",
    "print(d3)\n",
    "d3 = {1:'이숭무'}\n",
    "d3[1] = \"이상범\"\n",
    "print(d3)"
   ]
  },
  {
   "cell_type": "code",
   "execution_count": 118,
   "id": "3978b1af",
   "metadata": {},
   "outputs": [
    {
     "name": "stdout",
     "output_type": "stream",
     "text": [
      "[1, 3, 4]\n",
      "{'name': '이숭무', 'height': 175.5}\n",
      "dict_keys(['name', 'height'])\n",
      "dict_values(['이숭무', 175.5])\n",
      "dict_items([('name', '이숭무'), ('height', 175.5)])\n",
      "[1, 3, 4]\n",
      "[]\n",
      "{'name': '이숭무', 'height': 175.5}\n",
      "{}\n"
     ]
    }
   ],
   "source": [
    "#딕셔너리 함수\n",
    "dic1 = {'name':'이숭무', 'age':35, 'height':175.5}\n",
    "l = [1,2,3,4]\n",
    "del l[1]\n",
    "print(l)\n",
    "del dic1['age']\n",
    "print(dic1)\n",
    "### 딕셔너리에 있는 키만 가져오기\n",
    "print(dic1.keys())\n",
    "### 딕셔너리에 있는 값만 가져오기\n",
    "print(dic1.values())\n",
    "## 키와 값을 쌍으로 \n",
    "print(dic1.items())\n",
    "##########################################\n",
    "print(l)\n",
    "### 빈리스트\n",
    "l.clear()\n",
    "print(l)\n",
    "##############\n",
    "print(dic1)\n",
    "#### 빈 딕셔너리\n",
    "dic1.clear()\n",
    "print(dic1)"
   ]
  },
  {
   "cell_type": "code",
   "execution_count": 121,
   "id": "75483578",
   "metadata": {},
   "outputs": [
    {
     "name": "stdout",
     "output_type": "stream",
     "text": [
      "{'name': 'pey', 'phone': '0119993323', 'birth': '19981118'}\n",
      "19981118\n",
      "1998\n",
      "11\n",
      "18\n",
      "1998\n",
      "11\n",
      "11\n",
      "18\n"
     ]
    }
   ],
   "source": [
    "dic= {'name': 'pey', 'phone': '0119993323', 'birth': '1118'}\n",
    "dic['birth'] = '19981118'\n",
    "#             - 87654321\n",
    "print(dic)\n",
    "print(dic['birth'])\n",
    "## 년, 월 , 일을 따로 출력하세요\n",
    "print(dic['birth'][0:4])\n",
    "print(dic['birth'][4:4+2])\n",
    "print(dic['birth'][6:])\n",
    "\n",
    "print(dic['birth'][:-4])\n",
    "print(dic['birth'][-4:-4+2])\n",
    "print(dic['birth'][-4:4+2])\n",
    "print(dic['birth'][-2:])"
   ]
  },
  {
   "cell_type": "code",
   "execution_count": 130,
   "id": "233c09f4",
   "metadata": {},
   "outputs": [
    {
     "name": "stdout",
     "output_type": "stream",
     "text": [
      "pey\n",
      "pey\n",
      "None\n",
      "서울\n",
      "600\n",
      "600\n",
      "1200\n",
      "100\n"
     ]
    }
   ],
   "source": [
    "dic= {'name': 'pey', 'phone': '0119993323', 'birth': '1118'}\n",
    "print(dic['name'])\n",
    "print(dic.get('name'))\n",
    "\n",
    "#print(dic['addr'])\n",
    "print(dic.get('addr'))  # None\n",
    "print(dic.get('addr','서울'))\n",
    "\n",
    "dic1 = {'classic' : 500 ,  \"pop\" : 600 }\n",
    "dic2 = {'classic' : 500 ,  \"pop\" : 600, 'money': 100 }\n",
    "print(dic1['pop']) #정수\n",
    "print(dic2['pop']) #정수\n",
    "print(dic1['pop'] + dic2['pop'])\n",
    "# print(dic1['money'] + dic2['money'])\n",
    "print(dic1.get('money',0) + dic2.get('money', 0))\n",
    "print(dic1.get('pop',0) + dic2.get('pop', 0))"
   ]
  },
  {
   "cell_type": "code",
   "execution_count": 152,
   "id": "79d21d3d",
   "metadata": {},
   "outputs": [
    {
     "name": "stdout",
     "output_type": "stream",
     "text": [
      "(1, 2, 3, 4, 5)\n",
      "[1, 2, 3, 4, 5]\n",
      "1 2 3 4 5\n",
      "10\n",
      "{1, 2, 3, 4, 5}\n",
      "{1, 2, 3, 4, 5}\n",
      "{1, 2, 3, 4, 5, 6}\n",
      "{'h', 'o', 'l', 'e'}\n"
     ]
    }
   ],
   "source": [
    "# 집합(set) :교집합 ,합집합, 차집합\n",
    "dic = {1:'이', 2:'숭'}\n",
    "dic = {}\n",
    "s = {1,2,3,4,5}\n",
    "t  = tuple([1,2,3,4,5])\n",
    "print(t)\n",
    "l  = list((1,2,3,4,5))\n",
    "print(l)\n",
    "s = \" \".join(['1','2','3','4','5'])\n",
    "print(s)\n",
    "s1 = str(10)\n",
    "print(s1)\n",
    "s = set([1,2,3,4,5])\n",
    "print(s)\n",
    "s = set((1,2,3,4,5))\n",
    "print(s)\n",
    "s = {1,2,3,3,3,4,5,5,6}\n",
    "print(s)\n",
    "s = set(\"hello\") #집합자료형은 중복값을 허용하지 않는다.\n",
    "print(s) # 집합에 순서가 없다."
   ]
  },
  {
   "cell_type": "code",
   "execution_count": 138,
   "id": "c77edb9d",
   "metadata": {},
   "outputs": [
    {
     "name": "stdout",
     "output_type": "stream",
     "text": [
      "{4, 5}\n",
      "{4, 5}\n",
      "{1, 2, 3, 4, 5, 6, 7, 8}\n",
      "{1, 2, 3, 4, 5, 6, 7, 8}\n"
     ]
    }
   ],
   "source": [
    "s1 = {1,2,3,4,5}\n",
    "s2 = {4,5,6,7,8}\n",
    "#교집합\n",
    "print(s1 & s2)\n",
    "print(s1.intersection(s2))\n",
    "#합집합\n",
    "print(s1 | s2)\n",
    "print(s1.union(s2))\n",
    "#차집합\n",
    "print(s1 - s2)\n",
    "print(s2 - s1)\n",
    "print(s1.difference(s2))\n",
    "print(s2.difference(s1))"
   ]
  },
  {
   "cell_type": "code",
   "execution_count": 151,
   "id": "ea4f25fe",
   "metadata": {},
   "outputs": [
    {
     "name": "stdout",
     "output_type": "stream",
     "text": [
      "{1, 2, 3, 4, 5, 7}\n",
      "{1, 2, 3, 4, 5, 7, 9}\n",
      "{1, 2, 3, 4, 5, 'a', 7, 9}\n",
      "{1, 2, 3, 4, 5, 7, 9, (10, 11, 12), 'a'}\n",
      "{1, 2, 3, 4, 5, 7, 9, 10, 11, 12, (10, 11, 12), 'a'}\n",
      "{1, 2, 3, 4, 5, 7, 9, 10, 11, 12, (10, 11, 12), 13, 14, 15, 'a'}\n",
      "{1, 2, 3, 4, 5, 7, 9, 10, 11, 12, 13, 14, 15, 'a'}\n",
      "{1, 2, 3, 4, 5, 7, 9, 12, 13, 14, 15, 'a'}\n"
     ]
    }
   ],
   "source": [
    "# 집합 함수\n",
    "#요소 추가\n",
    "s1 = {1,2,3,4,5}\n",
    "s1.add(7)\n",
    "print(s1)\n",
    "s1.add(9)\n",
    "print(s1)\n",
    "s1.add('a')\n",
    "print(s1)\n",
    "#s1에 10,11,12를 추가\n",
    "#s1.add(10,11,12)\n",
    "s1.add((10,11,12))\n",
    "print(s1)\n",
    "# s1.add([10,11,12])\n",
    "# s1.update(10,11,12)\n",
    "s1.update((10,11,12)) \n",
    "print(s1)\n",
    "s1.update([13,14,15])\n",
    "print(s1)\n",
    "#  삭제\n",
    "#s1.remove(10,11,12);\n",
    "s1.remove((10,11,12))\n",
    "print(s1)\n",
    "s1.remove(10)\n",
    "s1.remove(11) #요소 하나씩만 가능\n",
    "print(s1)"
   ]
  },
  {
   "cell_type": "code",
   "execution_count": 160,
   "id": "e6c07508",
   "metadata": {},
   "outputs": [
    {
     "name": "stdout",
     "output_type": "stream",
     "text": [
      "True\n",
      "False\n",
      "True\n",
      "True\n",
      "False\n",
      "True\n",
      "True\n",
      "True\n",
      "False\n",
      "평년\n"
     ]
    }
   ],
   "source": [
    "#리터널 자료형 : 정수, 실수 : +, -, *, /, //, %, **\n",
    "#               문자열 : + , * : \" \",' ',\"\"\" \"\"\",''' '''\n",
    "#리스트 자료형 : [] : + , *\n",
    "#튜플 자료형 : (), (1,) : +, *\n",
    "#딕셔너리 : {}, {key:value,..., n}\n",
    "#집합 자료형 : {1,2,3} : & , |, -\n",
    "#부울 자료형 : True(참), False(거짓) \n",
    "i = 1\n",
    "srt1 = \"abc\"\n",
    "b = True\n",
    "print(b)\n",
    "b = False\n",
    "print(b)\n",
    "# b = true; # name 'true' is not defined\n",
    "true = True\n",
    "print(true)\n",
    "# 부울 자료형 : 논리연산 \n",
    "print(True and True)\n",
    "print(True and False)\n",
    "print(True or True)\n",
    "print(True or False)\n",
    "\n",
    "# 비교(관계)연산자 : < , > ,>=, <= , == , != : 결과는 부울타입\n",
    "mat = 40\n",
    "eng = 80\n",
    "#각 과목이 40점이상이고 평균이 60점 이상이면 True 아니면 Fasle\n",
    "result = mat >= 40 and eng >= 40 and (mat+eng)/2 >= 60\n",
    "print(result)\n",
    "### 2200년은 윤년일까요(True)? 평년일까요(False)? \n",
    "### 4년마다 윤년이지만 100년마다는 윤년이 아니다 \n",
    "### 그렇지만 400년마다는 윤년이다.\n",
    "year = 2200\n",
    "result = year % 4 == 0 and year % 100 !=0 or year % 400 == 0\n",
    "print(result)\n",
    "if year % 4 == 0 and year % 100 !=0 or year % 400 == 0:\n",
    "    print(\"윤년\")\n",
    "else :\n",
    "    print(\"평년\")\n",
    "if result:\n",
    "    print(\"윤년\")\n",
    "else :\n",
    "    print(\"평년\")    "
   ]
  },
  {
   "cell_type": "code",
   "execution_count": 162,
   "id": "409ebb58",
   "metadata": {},
   "outputs": [
    {
     "name": "stdout",
     "output_type": "stream",
     "text": [
      "True\n",
      "False\n",
      "True\n",
      "True\n",
      "False\n",
      "False\n",
      "True\n",
      "False\n",
      "True\n",
      "False\n",
      "True\n",
      "False\n",
      "False\n"
     ]
    }
   ],
   "source": [
    "print(bool('이숭무')) #\n",
    "print(bool('')) #blank , False\n",
    "print(bool(-1))\n",
    "print(bool(1))\n",
    "print(bool(0)) #False\n",
    "print(bool(0.0)) #False\n",
    "print(bool([1,2,3,4]))\n",
    "print(bool([])) #False\n",
    "print(bool((1,23)))\n",
    "print(bool(())) #False\n",
    "print(bool({1:'a'}))\n",
    "print(bool({}))#False\n",
    "print(bool(None)) #False"
   ]
  },
  {
   "cell_type": "code",
   "execution_count": 164,
   "id": "979d0760",
   "metadata": {},
   "outputs": [
    {
     "name": "stdout",
     "output_type": "stream",
     "text": [
      "<class 'str'>\n",
      "<class 'int'>\n",
      "<class 'float'>\n",
      "<class 'list'>\n",
      "<class 'tuple'>\n",
      "<class 'dict'>\n",
      "<class 'set'>\n",
      "<class 'bool'>\n"
     ]
    }
   ],
   "source": [
    "str1 = \"hello\" # str\n",
    "i = 10 #int\n",
    "f = 10.5 # float\n",
    "l = [1,2,3,4]  #list\n",
    "t = (1,2,3,4)  # tuple\n",
    "dic = {1:'이'} # dict\n",
    "s = {1,2,3,4} # set\n",
    "b = True # bool\n",
    "print(type(str1))\n",
    "print(type(i))\n",
    "print(type(f))\n",
    "print(type(l))\n",
    "print(type(t))\n",
    "print(type(dic))\n",
    "print(type(s))\n",
    "print(type(b))"
   ]
  },
  {
   "cell_type": "code",
   "execution_count": 166,
   "id": "3fcd5a7b",
   "metadata": {},
   "outputs": [
    {
     "name": "stdout",
     "output_type": "stream",
     "text": [
      "(1, 2, 3, 4)\n",
      "1 2 이숭무\n"
     ]
    },
    {
     "ename": "ValueError",
     "evalue": "not enough values to unpack (expected 3, got 2)",
     "output_type": "error",
     "traceback": [
      "\u001b[1;31m---------------------------------------------------------------------------\u001b[0m",
      "\u001b[1;31mValueError\u001b[0m                                Traceback (most recent call last)",
      "Cell \u001b[1;32mIn[166], line 15\u001b[0m\n\u001b[0;32m     13\u001b[0m a, b, c\u001b[38;5;241m=\u001b[39m \u001b[38;5;241m1\u001b[39m, \u001b[38;5;241m2\u001b[39m, \u001b[38;5;124m'\u001b[39m\u001b[38;5;124m이숭무\u001b[39m\u001b[38;5;124m'\u001b[39m\n\u001b[0;32m     14\u001b[0m \u001b[38;5;28mprint\u001b[39m(a,b,c)\n\u001b[1;32m---> 15\u001b[0m a, b, c\u001b[38;5;241m=\u001b[39m \u001b[38;5;241m1\u001b[39m, \u001b[38;5;241m2\u001b[39m\n",
      "\u001b[1;31mValueError\u001b[0m: not enough values to unpack (expected 3, got 2)"
     ]
    }
   ],
   "source": [
    "#파이썬의 변수 선언법\n",
    "t = 1,2,3,4\n",
    "print(t)\n",
    "a = 1\n",
    "a, b = 1, 2\n",
    "a, b = (1, 2)\n",
    "(a, b) = 1, 2\n",
    "(a, b) = (1, 2)\n",
    "(a,b,c) = 1,2,3\n",
    "[a, b] = 1, 2\n",
    "a, b = [1, 2]\n",
    "[a, b] = [1, 2]\n",
    "a, b, c= 1, 2, '이숭무'\n",
    "print(a,b,c)\n",
    "# a, b, c= 1, 2 오류"
   ]
  },
  {
   "cell_type": "code",
   "execution_count": 167,
   "id": "d9f78b3e",
   "metadata": {},
   "outputs": [
    {
     "name": "stdout",
     "output_type": "stream",
     "text": [
      "10 20\n"
     ]
    }
   ],
   "source": [
    "a = 10; b = 20\n",
    "# b에 있는 값을 a에주고 a에 있는 값을 b에 주기\n",
    "print(a, b)\n",
    "temp = b\n",
    "b = a\n",
    "a = temp\n",
    "print(a, b)\n",
    "##############\n",
    "a , b = b, a\n",
    "print(a, b)"
   ]
  },
  {
   "cell_type": "code",
   "execution_count": 169,
   "id": "9ca9714c",
   "metadata": {},
   "outputs": [
    {
     "name": "stdout",
     "output_type": "stream",
     "text": [
      "문자열은 참이기 때문에 실행이된다.\n"
     ]
    }
   ],
   "source": [
    "#제어문 : 조건문 , 반복문\n",
    "# 조건문\n",
    "## bool타입을 이용해서 원하는 결과를 가져오는 것\n",
    "## 조건식은  비교연산식과 논리연산식을 사용\n",
    "## 조건식의 결과에 따라 실행되거나 안된다.\n",
    "## 조건식이 True이면 if문 안에 있는 명령어가 실행이 된다.\n",
    "## if문 안에 있는 명령어는 Tab이나 공백문자를 이용해서 들여쓰기가 되어야한다.\n",
    "## 하지만 두개 혼용할 수 없다. tab을 많이 사용한다.\n",
    "## 조건식 뒤에는 :이 와야 한다.\n",
    "'''\n",
    "if  조건식:  # True \n",
    "    명령어1\n",
    "    명령어2\n",
    "    ...\n",
    "    명령어n\n",
    "'''\n",
    "if '이숭무': #True\n",
    "    print(\"문자열은 참이기 때문에 실행이된다.\")\n",
    "if '': # False\n",
    "    print('blank는 거짓이기 때문에 실행이 안된다.')\n"
   ]
  },
  {
   "cell_type": "code",
   "execution_count": 173,
   "id": "99de438b",
   "metadata": {},
   "outputs": [
    {
     "name": "stdout",
     "output_type": "stream",
     "text": [
      "a는 20보다 작다.\n",
      "안녕\n",
      "if문 끝\n",
      "if문의 끝\n"
     ]
    }
   ],
   "source": [
    "#  단일 if\n",
    "a = 10\n",
    "if a < 20: #True\n",
    "    print(\"a는 20보다 작다.\")#if문 안에 있는 명령문\n",
    "    \n",
    "    print(\"안녕\")#if문 안에 있는 명령문\n",
    "print(\"if문 끝\") # if문 밖에 있는 명령문\n",
    "\n",
    "if a > 20 : #Fasle\n",
    "    print(\"a는 20보다 크다.\") #if문 안에 있는 명령문\n",
    "    \n",
    "print(\"if문의 끝\") # if문 밖에 있는 명령문"
   ]
  },
  {
   "cell_type": "code",
   "execution_count": 174,
   "id": "6254aac8",
   "metadata": {},
   "outputs": [
    {
     "name": "stdout",
     "output_type": "stream",
     "text": [
      "차를타고 가시오\n"
     ]
    }
   ],
   "source": [
    "money = 2000\n",
    "if money >= 2000: # True\n",
    "    print(\"차를타고 가시오\")\n",
    "\n",
    "if money < 2000: # False\n",
    "    print(\"걸어가시오\")"
   ]
  },
  {
   "cell_type": "code",
   "execution_count": 175,
   "id": "610b4c0c",
   "metadata": {},
   "outputs": [
    {
     "name": "stdout",
     "output_type": "stream",
     "text": [
      "걸어가시오.\n"
     ]
    }
   ],
   "source": [
    "# if ~ else : 두개 중에 하나를 실행 시키고 싶을 때\n",
    "money = 3000\n",
    "if money >= 3000: # True\n",
    "    print(\"차를 타고 가시오\")\n",
    "else: #False\n",
    "    print(\"걸어가시오.\")\n",
    "    print(\"걸어가시오.\")\n",
    "    print(\"걸어가시오.\")\n",
    "'''\n",
    "if 조건식 : # True\n",
    "    명령어1\n",
    "    명령어2\n",
    "    ...\n",
    "    명령어n\n",
    "else:      # False\n",
    "    명령어11\n",
    "    명령어12\n",
    "    ...\n",
    "    명령어nn\n",
    "'''"
   ]
  },
  {
   "cell_type": "code",
   "execution_count": 182,
   "id": "00267946",
   "metadata": {},
   "outputs": [
    {
     "name": "stdout",
     "output_type": "stream",
     "text": [
      "차를타고 가시오\n",
      "x가 y보다 같지 않다\n",
      "x가 y보다 같지 않다\n"
     ]
    }
   ],
   "source": [
    "money = 2000\n",
    "if not money >= 2000: # not True ==> false\n",
    "    print(\"걸어가시오\")\n",
    "else: # False\n",
    "    print(\"차를타고 가시오\")\n",
    "\n",
    "x = 10; y = 20\n",
    "if  x == y:\n",
    "    print(\"x가 y보다 같다\")\n",
    "else :\n",
    "    print(\"x가 y보다 같지 않다\")\n",
    "\n",
    "x = 10; y = 20\n",
    "if x != y:\n",
    "    print(\"x가 y보다 같지 않다\")\n",
    "else :\n",
    "    print(\"x가 y보다 같다\")"
   ]
  },
  {
   "cell_type": "code",
   "execution_count": 183,
   "id": "033cc709",
   "metadata": {},
   "outputs": [
    {
     "name": "stdout",
     "output_type": "stream",
     "text": [
      "True\n"
     ]
    }
   ],
   "source": [
    "#in연산자 사용하기\n",
    "print(1 in [1,2,3])\n",
    "l = [1,2,3,4,5,6]\n",
    "print( 4 in l)\n",
    "print(10 in l)\n",
    "print(10 not in l)\n",
    "\n",
    "print( \"y\" in \"python\")\n",
    "print( \"yt\" in \"python\")\n",
    "print( \"이\" in \"python\")\n",
    "print( \"이\" not in \"python\")\n",
    "\n",
    "print(6 in (1,2,3,4,5,6))\n",
    "print(6 in {1,2,3,4,5,6})\n",
    "\n",
    "print(1 in {1:'이', 2:'숭'}) #키가 있는지"
   ]
  },
  {
   "cell_type": "code",
   "execution_count": null,
   "id": "c1652fea",
   "metadata": {},
   "outputs": [],
   "source": [
    "if 'k' in \"python\":\n",
    "    print(\"k 가 있습니다.\")\n",
    "else:\n",
    "    print(\"k가 없습니다.\")\n",
    "    \n",
    "str1 = \"python\"\n",
    "if 'k' in str1:\n",
    "    print(\"k 가 있습니다.\")\n",
    "else:\n",
    "    print(\"k가 없습니다.\")\n",
    "    \n",
    "l = [1,2,3,4,5,6]\n",
    "if 6 in l:\n",
    "    print(\"리스트에 6이 있습니다.\")\n",
    "else:\n",
    "    print(\"리스트에 6이 없습니다.\")\n",
    "    \n",
    "if 6 not in l:\n",
    "    print(\"리스트에 6이 없습니다.\")\n",
    "else:\n",
    "    print(\"리스트에 6이 있습니다.\")\n",
    "    \n",
    "pocket = ['paper', 'cellphone', 'money']\n",
    "if 'money' in pocket:\n",
    "    print(\"주머니에 돈이 있습니다.\")\n",
    "else:\n",
    "    print(\"주머니에 돈이 없습니다.\")"
   ]
  },
  {
   "cell_type": "code",
   "execution_count": 185,
   "id": "253dd5a0",
   "metadata": {},
   "outputs": [
    {
     "name": "stdout",
     "output_type": "stream",
     "text": [
      "False\n",
      "불합격\n"
     ]
    }
   ],
   "source": [
    "### 영어가 40이상이고, 국어가 40이상이고 , 수학이 40이상일 때 , \n",
    "### 평균이 60이상이면 합격 그렇지 않으면 불합격\n",
    "mat = 55\n",
    "eng = 70\n",
    "kor = 40\n",
    "result = (mat+eng+kor) / 3 >= 60 and mat >= 40 and eng >= 40 and kor >= 40\n",
    "print(result)\n",
    "if (mat+eng+kor) / 3 >= 60 and mat >= 40 and eng >= 40 and kor >= 40:\n",
    "    print('합격')\n",
    "else:\n",
    "    print('불합격')"
   ]
  },
  {
   "cell_type": "code",
   "execution_count": 186,
   "id": "b4bf392a",
   "metadata": {},
   "outputs": [
    {
     "name": "stdout",
     "output_type": "stream",
     "text": [
      "C\n"
     ]
    }
   ],
   "source": [
    "# score가 90이상이면 A, 80이상이면 B, 70이상이면 C, 60이상이면 D, 그렇지 않으면 F\n",
    "# 조건이 여러개인 경우\n",
    "score = 78\n",
    "if score >= 90 :\n",
    "    print(\"A\")\n",
    "else:\n",
    "    if score >= 80:\n",
    "        print(\"B\")\n",
    "    else:\n",
    "        if score >= 70:\n",
    "            print(\"C\")\n",
    "        else:\n",
    "            if score >= 60:\n",
    "                print(\"D\")\n",
    "            else :\n",
    "                print(\"F\")\n"
   ]
  },
  {
   "cell_type": "code",
   "execution_count": null,
   "id": "6f31c733",
   "metadata": {},
   "outputs": [],
   "source": [
    "# if ~ elif\n",
    "score = 78\n",
    "if score >= 90 :\n",
    "    print(\"A\")\n",
    "elif score >= 80:\n",
    "    print(\"B\")\n",
    "elif score >= 70:\n",
    "    print(\"C\")\n",
    "elif score >= 60:\n",
    "    print(\"D\")\n",
    "else :\n",
    "    print(\"F\")\n",
    "# 조건식은 항상 if문 뒤에 와야한다. else문 뒤에는 조건식이 올 수 없다"
   ]
  },
  {
   "cell_type": "code",
   "execution_count": null,
   "id": "0b5c9534",
   "metadata": {},
   "outputs": [],
   "source": [
    "### 95이상이면 A+ 이하면 A\n",
    "### 85이상이면 B+ 이하면 B\n",
    "### 75이상이면 C+ 이하면 C\n",
    "### 65이상이면 D+ 이하면 D\n",
    "score = 78\n",
    "if score >= 90 :\n",
    "    if score >= 95:\n",
    "        print(\"A+\")\n",
    "    else:\n",
    "        print(\"A\")\n",
    "elif score >= 80:\n",
    "    if score >= 85:\n",
    "        print(\"B+\")\n",
    "    else:\n",
    "        print(\"B\")\n",
    "elif score >= 70:\n",
    "    if score >= 75:\n",
    "        print('C+')\n",
    "    else:\n",
    "        print('C')\n",
    "elif score >= 60:\n",
    "    if score >= 65:\n",
    "        print('D+')\n",
    "    else:\n",
    "        print('D')\n",
    "else :\n",
    "    print(\"F\")"
   ]
  },
  {
   "cell_type": "code",
   "execution_count": null,
   "id": "ccf467ab",
   "metadata": {},
   "outputs": [],
   "source": [
    "'''\n",
    "score가 60이상이면 message 변수에 success를 아니면 message 에 failure를 \n",
    "저장한 후 출력\n",
    "'''\n",
    "score = 78\n",
    "if score >= 60:\n",
    "    message = \"success\"\n",
    "else:\n",
    "    message = \"failure\"\n",
    "print(message)\n",
    "\n",
    "message = \"success\" if score >= 60 else \"failure\"\n",
    "print(message)"
   ]
  },
  {
   "cell_type": "code",
   "execution_count": 187,
   "id": "a92d34dd",
   "metadata": {},
   "outputs": [
    {
     "name": "stdout",
     "output_type": "stream",
     "text": [
      "C\n",
      "C\n"
     ]
    }
   ],
   "source": [
    "score = 78\n",
    "if score >= 90 :\n",
    "    message = \"A\"\n",
    "else:\n",
    "    if score >= 80:\n",
    "        message =  \"B\"\n",
    "    else:\n",
    "        if score >= 70:\n",
    "            message =  \"C\"\n",
    "        else:\n",
    "            if score >= 60:\n",
    "                message = \"D\"\n",
    "            else :\n",
    "                message = \"F\"\n",
    "print(message)\n",
    "message = \"A\" if score >= 90 else ( \"B\" if score >= 80\n",
    "                             else ( \"C\" if score >= 70\n",
    "                             else ( \"D\" if score >= 60\n",
    "                             else \"F\")))\n",
    "print(message)"
   ]
  },
  {
   "cell_type": "code",
   "execution_count": 188,
   "id": "2ec421ed",
   "metadata": {},
   "outputs": [
    {
     "name": "stdout",
     "output_type": "stream",
     "text": [
      "-10\n"
     ]
    }
   ],
   "source": [
    "# 사직연산\n",
    "a = 10; b = 20; opt = \"sub\"\n",
    "if opt == 'add':\n",
    "    result = a + b\n",
    "elif opt == 'sub':\n",
    "    result = a - b\n",
    "elif opt == 'mul':\n",
    "    result = a * b\n",
    "else:\n",
    "    result = a / b\n",
    "print(result)"
   ]
  },
  {
   "cell_type": "code",
   "execution_count": 190,
   "id": "7d4fcabf",
   "metadata": {},
   "outputs": [
    {
     "name": "stdout",
     "output_type": "stream",
     "text": [
      "-10\n"
     ]
    }
   ],
   "source": [
    "if opt == 'add':\n",
    "    result = a + b\n",
    "else:\n",
    "    if opt == 'sub':\n",
    "        result = a - b\n",
    "    else:\n",
    "        if opt == 'mul':\n",
    "            result = a * b\n",
    "        else:\n",
    "            result = a / b\n",
    "print(result)"
   ]
  },
  {
   "cell_type": "code",
   "execution_count": 189,
   "id": "310ee6f5",
   "metadata": {},
   "outputs": [
    {
     "name": "stdout",
     "output_type": "stream",
     "text": [
      "-10\n"
     ]
    }
   ],
   "source": [
    "result = a + b if opt == 'add' else( a - b if opt == 'sub'\n",
    "                               else( a * b if opt == 'mul'\n",
    "                               else a / b))\n",
    "print(result)"
   ]
  },
  {
   "cell_type": "code",
   "execution_count": null,
   "id": "8b081c53",
   "metadata": {},
   "outputs": [],
   "source": [
    "# 반복문\n",
    "print(\"나무를 1번 찍었습니다.\")\n",
    "print(\"나무를 2번 찍었습니다.\")\n",
    "print(\"나무를 3번 찍었습니다.\")\n",
    "print(\"나무를 4번 찍었습니다.\")\n",
    "print(\"나무를 5번 찍었습니다.\")\n",
    "print(\"나무를 6번 찍었습니다.\")\n",
    "print(\"나무를 7번 찍었습니다.\")\n",
    "print(\"나무를 8번 찍었습니다.\")\n",
    "print(\"나무를 9번 찍었습니다.\")\n",
    "print(\"나무를 10번 찍었습니다.\")\n",
    "print(\"나무가 넘어갑니다.\")"
   ]
  },
  {
   "cell_type": "code",
   "execution_count": 191,
   "id": "92941977",
   "metadata": {},
   "outputs": [
    {
     "name": "stdout",
     "output_type": "stream",
     "text": [
      "나무를 1번 찍었습니다.\n",
      "나무를 2번 찍었습니다.\n",
      "나무를 3번 찍었습니다.\n",
      "나무를 4번 찍었습니다.\n",
      "나무를 5번 찍었습니다.\n",
      "나무를 6번 찍었습니다.\n",
      "나무를 7번 찍었습니다.\n",
      "나무를 8번 찍었습니다.\n",
      "나무를 9번 찍었습니다.\n",
      "나무를 10번 찍었습니다.\n"
     ]
    }
   ],
   "source": [
    "start = 1\n",
    "while start <= 10:\n",
    "    print(f\"나무를 {start}번 찍었습니다.\")\n",
    "    start += 1 # start = start + 1\n",
    "print(\"나무가 넘어갑니다.\")             \n",
    "###명령어가 반복이 될 때 명령문 하나를 이용해서 여러번 실행이 될 수 있게"
   ]
  },
  {
   "cell_type": "code",
   "execution_count": 195,
   "id": "0ca73251",
   "metadata": {},
   "outputs": [
    {
     "name": "stdout",
     "output_type": "stream",
     "text": [
      "8  * 1 = (8 * 1)\n",
      "8  * 2 = (8 * 2)\n",
      "8  * 3 = (8 * 3)\n",
      "8  * 4 = (8 * 4)\n",
      "8  * 5 = (8 * 5)\n",
      "8  * 6 = (8 * 6)\n",
      "8  * 7 = (8 * 7)\n",
      "8  * 8 = (8 * 8)\n",
      "8  * 9 = (8 * 9)\n"
     ]
    }
   ],
   "source": [
    "'''\n",
    "8단 출력\n",
    "8  * 1 = 8 * 1\n",
    "8  * 2 = 8 * 2\n",
    "8  * 3 = 8 * 3\n",
    "8  * 4 = 8 * 4\n",
    "8  * 5 = 8 * 5\n",
    "8  * 6 = 8 * 6\n",
    "8  * 7 = 8 * 7\n",
    "8  * 8 = 8 * 8\n",
    "8  * 9 = 8 * 9\n",
    "'''\n",
    "start = 1\n",
    "while start <= 9:\n",
    "    print(f\"8  * {start} = {8 * start}\")\n",
    "    start += 1"
   ]
  },
  {
   "cell_type": "code",
   "execution_count": null,
   "id": "2f5f5942",
   "metadata": {},
   "outputs": [],
   "source": []
  },
  {
   "cell_type": "code",
   "execution_count": null,
   "id": "31dbb507",
   "metadata": {},
   "outputs": [],
   "source": []
  },
  {
   "cell_type": "code",
   "execution_count": null,
   "id": "09300810",
   "metadata": {},
   "outputs": [],
   "source": []
  },
  {
   "cell_type": "code",
   "execution_count": null,
   "id": "5d238cd4",
   "metadata": {},
   "outputs": [],
   "source": []
  },
  {
   "cell_type": "code",
   "execution_count": null,
   "id": "1f868379",
   "metadata": {},
   "outputs": [],
   "source": []
  }
 ],
 "metadata": {
  "kernelspec": {
   "display_name": "Python 3 (ipykernel)",
   "language": "python",
   "name": "python3"
  },
  "language_info": {
   "codemirror_mode": {
    "name": "ipython",
    "version": 3
   },
   "file_extension": ".py",
   "mimetype": "text/x-python",
   "name": "python",
   "nbconvert_exporter": "python",
   "pygments_lexer": "ipython3",
   "version": "3.11.4"
  }
 },
 "nbformat": 4,
 "nbformat_minor": 5
}
