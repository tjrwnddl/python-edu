{
 "cells": [
  {
   "cell_type": "code",
   "execution_count": 1,
   "id": "da8b61c8",
   "metadata": {},
   "outputs": [
    {
     "name": "stdout",
     "output_type": "stream",
     "text": [
      "8\n"
     ]
    }
   ],
   "source": [
    "print(3 +5)"
   ]
  },
  {
   "cell_type": "code",
   "execution_count": 2,
   "id": "22e09e06",
   "metadata": {},
   "outputs": [
    {
     "name": "stdout",
     "output_type": "stream",
     "text": [
      "hello\n",
      "hello2\n",
      "hello3\n"
     ]
    }
   ],
   "source": [
    "print(\"hello\")\n",
    "print(\"hello2\")\n",
    "print(\"hello3\")"
   ]
  },
  {
   "cell_type": "code",
   "execution_count": 1,
   "id": "e6b7fa0f",
   "metadata": {},
   "outputs": [
    {
     "name": "stderr",
     "output_type": "stream",
     "text": [
      "C:\\Users\\USER\\AppData\\Local\\Temp\\ipykernel_15564\\1014303460.py:1: DeprecationWarning: Importing display from IPython.core.display is deprecated since IPython 7.14, please import from IPython display\n",
      "  from IPython.core.display import display, HTML\n"
     ]
    },
    {
     "data": {
      "text/html": [
       "<style>\n",
       "div.container { width:100% !important; }\n",
       "div.CodeMirror {font-family: Consolas; font-size: 30pt;}\n",
       "div.output { font-size: 20pt; font-weight: bold;}\n",
       "div.input { font-family: Consolas; font-size: 30pt;}\n",
       "div.prompt { min-width: 100px;}\n",
       "</style>\n"
      ],
      "text/plain": [
       "<IPython.core.display.HTML object>"
      ]
     },
     "metadata": {},
     "output_type": "display_data"
    }
   ],
   "source": [
    "from IPython.core.display import display, HTML\n",
    "display(HTML(\n",
    "\"\"\"<style>\n",
    "div.container { width:100% !important; }\n",
    "div.CodeMirror {font-family: Consolas; font-size: 30pt;}\n",
    "div.output { font-size: 20pt; font-weight: bold;}\n",
    "div.input { font-family: Consolas; font-size: 30pt;}\n",
    "div.prompt { min-width: 100px;}\n",
    "</style>\n",
    "\"\"\"))"
   ]
  },
  {
   "cell_type": "code",
   "execution_count": 2,
   "id": "99ac335f",
   "metadata": {},
   "outputs": [
    {
     "name": "stdout",
     "output_type": "stream",
     "text": [
      "8\n"
     ]
    }
   ],
   "source": [
    "print(3 + 5) # 행 단위 명령"
   ]
  },
  {
   "cell_type": "code",
   "execution_count": 5,
   "id": "5740f5ad",
   "metadata": {},
   "outputs": [
    {
     "name": "stdout",
     "output_type": "stream",
     "text": [
      "8\n",
      "hello\n"
     ]
    }
   ],
   "source": [
    "print(3 + 5); print(\"hello\")"
   ]
  },
  {
   "cell_type": "code",
   "execution_count": 6,
   "id": "4836233c",
   "metadata": {},
   "outputs": [
    {
     "name": "stdout",
     "output_type": "stream",
     "text": [
      "8\n",
      "hello\n"
     ]
    }
   ],
   "source": [
    "print(3+5)\n",
    "print(\"hello\")"
   ]
  },
  {
   "cell_type": "code",
   "execution_count": 7,
   "id": "a256c4ad",
   "metadata": {},
   "outputs": [
    {
     "name": "stdout",
     "output_type": "stream",
     "text": [
      "8\n"
     ]
    }
   ],
   "source": [
    "print(3 + 5);"
   ]
  },
  {
   "cell_type": "code",
   "execution_count": 14,
   "id": "621a4df4",
   "metadata": {},
   "outputs": [
    {
     "name": "stdout",
     "output_type": "stream",
     "text": [
      "3\n",
      "10.5\n",
      "3\n",
      "10\n",
      "10\n",
      "10.5\n",
      "10\n"
     ]
    }
   ],
   "source": [
    "# 자료형\n",
    "# 리터널 : 자연어 :  한글, 영어, 중국어, 일본어,...\n",
    "#                   문자 리터널 : a, 김,...\n",
    "#                   문자열 리터널 : ab , 이숭무\n",
    "#          자연수 : 숫자 : 정수 리터널 : 10, 1, 4\n",
    "#                         실수 리터널 : 10.5, 0.5\n",
    "print(3) \n",
    "print(10.5)\n",
    "\n",
    "#변수 = 리터널(값)\n",
    "# 변수란 ? 리터널을 저장하기 위해서 사용한다.\n",
    "a = 3 #  a : 정수리터널 변수 : 정수 변수\n",
    "print(a)\n",
    "a = 10 # 먼저 있던 값은 사라지고 마지막 값만 저장한다.\n",
    "print(a)\n",
    "# 변수의 특징 : 오직 하나의 값만 저장한다.\n",
    "# 파이썬 변수의 특징\n",
    "b = 10 # 정수 변수\n",
    "print(b)\n",
    "b = 10.5 # 실수 변수 \n",
    "print(b) # 파이썬은 변수의 성격을 바꿀 수 있다. (javascript)\n",
    "\n",
    "a = 10\n",
    "b = a\n",
    "print(b)"
   ]
  },
  {
   "cell_type": "code",
   "execution_count": 17,
   "id": "3a258ab2",
   "metadata": {},
   "outputs": [
    {
     "name": "stdout",
     "output_type": "stream",
     "text": [
      "12\n",
      "12\n",
      "3.3333333333333335\n",
      "3.3333333333333335\n"
     ]
    }
   ],
   "source": [
    "### 숫자 연산자 , + , - , * , /\n",
    "print( 10 + 2)\n",
    "a = 10 \n",
    "b = 2\n",
    "print(a + b)\n",
    "print( 10 / 3 )\n",
    "a = 10\n",
    "b = 3\n",
    "print( a / b )"
   ]
  },
  {
   "cell_type": "code",
   "execution_count": 20,
   "id": "46e5e876",
   "metadata": {},
   "outputs": [
    {
     "name": "stdout",
     "output_type": "stream",
     "text": [
      "숫자를 입력하세요5\n",
      "숫자를 입력하세요2\n",
      "2.5\n"
     ]
    }
   ],
   "source": [
    "a = int(input(\"숫자를 입력하세요\"))\n",
    "b = int(input(\"숫자를 입력하세요\"))\n",
    "print(a / b)"
   ]
  },
  {
   "cell_type": "code",
   "execution_count": 23,
   "id": "1df2cd9a",
   "metadata": {},
   "outputs": [
    {
     "name": "stdout",
     "output_type": "stream",
     "text": [
      "13\n",
      "7\n",
      "30\n",
      "3.3333333333333335\n",
      "1\n",
      "3\n",
      "1000\n"
     ]
    }
   ],
   "source": [
    "a = 10\n",
    "b = 3\n",
    "print(a + b)\n",
    "print(a - b)\n",
    "print(a * b)\n",
    "print(a / b)\n",
    "#### 나머지 : 10을 3으로 나눈 나머지는 1\n",
    "print(a % b)\n",
    "## 몫 : 10 을 3으로 나눈 몫은 : 3\n",
    "print(a // b)\n",
    "## 제곱승 : 10의 3승 : 100\n",
    "print(a ** b)\n",
    "# 숫자의 연산자는 + , -, * , / , % , // , **"
   ]
  },
  {
   "cell_type": "code",
   "execution_count": 27,
   "id": "099d1e1c",
   "metadata": {},
   "outputs": [
    {
     "name": "stdout",
     "output_type": "stream",
     "text": [
      "이\n",
      "이숭무\n",
      "이숭무\n"
     ]
    }
   ],
   "source": [
    "# 문자(문자열) 리터널 : 한국어 , 일본어 , 영어 \n",
    "#                   : 'a', '김', 'ab', '임숭'\n",
    "#변수 = 리터널\n",
    "i = 'x'\n",
    "a = 3 \n",
    "#변수 = 리터널값을 가진 변수\n",
    "b = a\n",
    "이숭무1 = '이'\n",
    "print(이숭무1) # print, str: 예약어\n",
    "# 문자열 : string : str\n",
    "str1 =  \"이숭무\"\n",
    "print(str1)\n",
    "str1 ='이숭무'\n",
    "print(str1)"
   ]
  },
  {
   "cell_type": "code",
   "execution_count": 33,
   "id": "eeb1ae44",
   "metadata": {},
   "outputs": [
    {
     "name": "stdout",
     "output_type": "stream",
     "text": [
      "10\n",
      "10\n",
      "10\n",
      "20\n",
      "1010\n",
      "1010\n",
      "20\n"
     ]
    }
   ],
   "source": [
    "print(10) # 정수 리터널\n",
    "print(\"10\") # 문자리터널\n",
    "print('10') # 문자 리터널\n",
    "print( 10 + 10 )\n",
    "print(\"10\" + \"10\")\n",
    "### 문자에서의 +연산자는 붙이기 연산자\n",
    "#print(\"10\"+ 10) # 문자와 숫자는 연산할 수 없다.\n",
    "print(\"10\"+str(10))\n",
    "print(int(\"10\")+ 10)"
   ]
  },
  {
   "cell_type": "code",
   "execution_count": 35,
   "id": "ec3ea41c",
   "metadata": {},
   "outputs": [
    {
     "name": "stdout",
     "output_type": "stream",
     "text": [
      "010\n"
     ]
    }
   ],
   "source": [
    "# 문자 리터널 : 'a' , 'ab', \"김\", \"이숭무\", a(변수), 이(변수)\n",
    "#              \"010\"\n",
    "a = \"010\"\n",
    "print(a)"
   ]
  },
  {
   "cell_type": "code",
   "execution_count": 40,
   "id": "e5c521c2",
   "metadata": {},
   "outputs": [
    {
     "name": "stdout",
     "output_type": "stream",
     "text": [
      "pythonisfun\n",
      "python is fun\n",
      "============================================================\n",
      "      제목     \n",
      "============================================================\n"
     ]
    }
   ],
   "source": [
    "a = \"python\"\n",
    "b = \"is\"\n",
    "c = \"fun\"\n",
    "print(a + b + c)\n",
    "print(a + \" \"+ b+ \" \" + c)\n",
    "print(\"==\" * 30) # *는 반복 연산자\n",
    "print(\"      제목     \")\n",
    "print(\"==\" * 30)"
   ]
  },
  {
   "cell_type": "code",
   "execution_count": 49,
   "id": "8eb9817b",
   "metadata": {},
   "outputs": [
    {
     "name": "stdout",
     "output_type": "stream",
     "text": [
      "이숭무\n",
      "이숭무\n",
      "Life's short,  You need python\n",
      "Life is short,  \"You need python\" \n",
      "Life's short,  You need python\n",
      "Life is short,  \"You need python\"\n",
      "tn\n",
      "\tn\n",
      "t\n",
      "a\n"
     ]
    }
   ],
   "source": [
    "print(\"이숭무\")\n",
    "print('이숭무')\n",
    "print(\"Life's short,  You need python\")\n",
    "print('Life is short,  \"You need python\" ')\n",
    "print('Life\\'s short,  You need python') # escape\n",
    "print(\"Life is short,  \\\"You need python\\\"\")\n",
    "print(\"tn\")\n",
    "print(\"\\tn\")\n",
    "print(\"t\\na\")"
   ]
  },
  {
   "cell_type": "code",
   "execution_count": 53,
   "id": "a534abed",
   "metadata": {},
   "outputs": [
    {
     "name": "stdout",
     "output_type": "stream",
     "text": [
      "Life's short, \n",
      "You need python\n",
      "Life's short, \n",
      "You need python\n",
      "Life's short, \n",
      "You need python\n"
     ]
    }
   ],
   "source": [
    "print(\"Life's short, \\nYou need python\")\n",
    "print(\"\"\"Life's short, \n",
    "You need python\"\"\")\n",
    "print('''Life\\'s short, \n",
    "You need python''')\n",
    "# 문자열 리터널 : \"a\", 'a', \"\"\"a\"\"\", '''a'''"
   ]
  },
  {
   "cell_type": "code",
   "execution_count": 60,
   "id": "2f950ffc",
   "metadata": {},
   "outputs": [
    {
     "name": "stdout",
     "output_type": "stream",
     "text": [
      "1000\n"
     ]
    },
    {
     "ename": "TypeError",
     "evalue": "'str' object is not callable",
     "output_type": "error",
     "traceback": [
      "\u001b[1;31m---------------------------------------------------------------------------\u001b[0m",
      "\u001b[1;31mTypeError\u001b[0m                                 Traceback (most recent call last)",
      "Cell \u001b[1;32mIn[60], line 3\u001b[0m\n\u001b[0;32m      1\u001b[0m \u001b[38;5;28mstr\u001b[39m \u001b[38;5;241m=\u001b[39m \u001b[38;5;124m\"\u001b[39m\u001b[38;5;124m1000\u001b[39m\u001b[38;5;124m\"\u001b[39m\n\u001b[0;32m      2\u001b[0m \u001b[38;5;28mprint\u001b[39m(\u001b[38;5;28mstr\u001b[39m)\n\u001b[1;32m----> 3\u001b[0m \u001b[38;5;28mprint\u001b[39m(\u001b[38;5;124m\"\u001b[39m\u001b[38;5;124m10\u001b[39m\u001b[38;5;124m\"\u001b[39m \u001b[38;5;241m+\u001b[39m \u001b[38;5;28;43mstr\u001b[39;49m\u001b[43m(\u001b[49m\u001b[38;5;241;43m10\u001b[39;49m\u001b[43m)\u001b[49m)\n",
      "\u001b[1;31mTypeError\u001b[0m: 'str' object is not callable"
     ]
    }
   ],
   "source": [
    "str = \"1000\"\n",
    "print(str)\n",
    "print(\"10\" + str(10))"
   ]
  },
  {
   "cell_type": "code",
   "execution_count": 61,
   "id": "cb218712",
   "metadata": {},
   "outputs": [],
   "source": [
    "del str"
   ]
  },
  {
   "cell_type": "code",
   "execution_count": 62,
   "id": "1a6bcdf4",
   "metadata": {},
   "outputs": [
    {
     "name": "stdout",
     "output_type": "stream",
     "text": [
      "1010\n"
     ]
    }
   ],
   "source": [
    "print(\"10\" + str(10))"
   ]
  },
  {
   "cell_type": "code",
   "execution_count": 69,
   "id": "4cdeaf1e",
   "metadata": {},
   "outputs": [
    {
     "name": "stdout",
     "output_type": "stream",
     "text": [
      "Life is too Short\n",
      "e\n",
      "L\n",
      "t\n",
      "17\n",
      "t\n",
      "n\n"
     ]
    }
   ],
   "source": [
    "# indexing\n",
    "str1 = \"Life is too Short\"\n",
    "#       01234567890123456    : index\n",
    "#                 1\n",
    "# 문자열에서 각 문자가 가지고 있는 번호를 index라고 한다.\n",
    "print(str1)\n",
    "print(str1[3])\n",
    "print(str1[0])\n",
    "print(str1[16])\n",
    "print(len(str1))\n",
    "print(str1[len(str1) -1])\n",
    "str2 = \"Life is short,  You need python\"\n",
    "print(str2[len(str2) -1])"
   ]
  },
  {
   "cell_type": "code",
   "execution_count": 72,
   "id": "c6287675",
   "metadata": {},
   "outputs": [
    {
     "name": "stdout",
     "output_type": "stream",
     "text": [
      "s\n",
      "s\n"
     ]
    }
   ],
   "source": [
    "str1 = \"Life is too short\"\n",
    "#       01234567890123456    : index\n",
    "#                 1\n",
    "print(str1[12])\n",
    "print(\"Life is too short\"[12])"
   ]
  },
  {
   "cell_type": "code",
   "execution_count": 79,
   "id": "ada1f3cd",
   "metadata": {},
   "outputs": [
    {
     "name": "stdout",
     "output_type": "stream",
     "text": [
      "L\n",
      "L\n",
      "L\n",
      "t\n",
      "t\n",
      "Life\n",
      "L\n",
      "i\n",
      "f\n",
      "e\n",
      "Life\n"
     ]
    }
   ],
   "source": [
    "str1 = \"Life is too short\"\n",
    "#       01234567890123456    : index\n",
    "#                 1\n",
    "#     - 76543210987654321\n",
    "#              1\n",
    "print(str1[0])\n",
    "print(str1[-17])\n",
    "print(str1[ - len(str1)]) # str1[-17]\n",
    "print(str1[16])\n",
    "print(str1[-1])\n",
    "print(\"Life\") # index를 Life\n",
    "print(str1[0])\n",
    "print(str1[1])\n",
    "print(str1[2])\n",
    "print(str1[3])\n",
    "print(str1[0] + str1[1] + str1[2] + str1[3])"
   ]
  },
  {
   "cell_type": "code",
   "execution_count": 92,
   "id": "a9ee9523",
   "metadata": {},
   "outputs": [
    {
     "name": "stdout",
     "output_type": "stream",
     "text": [
      "Life\n",
      "Life\n",
      "Life\n",
      "Lif\n",
      "too\n",
      "too\n",
      "too\n",
      "too\n",
      "short\n",
      "is too\n",
      "fe is\n",
      "too\n",
      "too\n",
      "too\n"
     ]
    }
   ],
   "source": [
    "#slicing\n",
    "str1 = \"Life is too short\"\n",
    "#       01234567890123456    : index\n",
    "#                 1\n",
    "#     - 76543210987654321\n",
    "#              1\n",
    "print(str1[0] + str1[1] + str1[2] + str1[3])\n",
    "print(str1[0: 0 + 4])\n",
    "print(str1[0:4]) # 0부터 4전까지 가지고 오기\n",
    "print(str1[0:3]) # 0부터 3전까지 가지고 오기\n",
    "print(str1[8:8+3])\n",
    "print(str1[8:10+1])\n",
    "\n",
    "print(str1[-9:-9+3])\n",
    "print(str1[-9:-6])\n",
    "print(str1[12:12+5])\n",
    "print(str1[-12:-12+6])\n",
    "\n",
    "idx = 2\n",
    "cnt = 5\n",
    "print(str1[idx:idx+cnt])\n",
    "\n",
    "# too\n",
    "print(str1[8 : 11])\n",
    "print(str1[8 : -6])\n",
    "print(str1[-9 : 11]) #index는 문자가 가지고 있는 고유의 번호\n",
    "print(str1[-9 : -6])"
   ]
  },
  {
   "cell_type": "code",
   "execution_count": 103,
   "id": "cf6c0156",
   "metadata": {},
   "outputs": [
    {
     "name": "stdout",
     "output_type": "stream",
     "text": [
      "Life\n",
      "Life\n",
      "short\n",
      "short\n",
      "short\n",
      "20010331\n",
      "Rainy\n",
      "Rainy\n",
      "Rainy\n",
      "2001\n",
      "03\n",
      "31\n",
      "2001년 ,03월 ,31일\n"
     ]
    }
   ],
   "source": [
    "str1 = \"Life is too short\"\n",
    "#       01234567890123456    : index\n",
    "#                 1\n",
    "#     - 76543210987654321\n",
    "#              1\n",
    "\"Life\"\n",
    "print(str1[0:4])\n",
    "print(str1[:4])\n",
    "\"short\"\n",
    "print(str1[12:17])\n",
    "print(str1[12:len(str1)])\n",
    "print(str1[12:])\n",
    "# 날짜와 이름을 분리하여 출력\n",
    "a = \"20010331Rainy\"\n",
    "###  0123456789012\n",
    "##             1\n",
    "##  -3210987654321\n",
    "#       1\n",
    "print(a[:8])\n",
    "print(a[8:])\n",
    "print(a[-5:])\n",
    "# print(a[-5:0]) : x\n",
    "print(a[-5:len(a)])\n",
    "###년 , 월 , 일\n",
    "print(a[:4])\n",
    "print(a[4:6])\n",
    "print(a[6:8])\n",
    "print(a[:4]+\"년 ,\"+a[4:6]+\"월 ,\"+a[6:8]+\"일\")"
   ]
  },
  {
   "cell_type": "code",
   "execution_count": 160,
   "id": "335e998a",
   "metadata": {},
   "outputs": [
    {
     "name": "stdout",
     "output_type": "stream",
     "text": [
      "Life is too short\n",
      "Life is too short\n",
      "Lf stosot\n",
      "Lesosr\n",
      "trohs oot si efiL\n",
      "fe is too sh\n",
      "f stos\n",
      "hs oot si ef\n"
     ]
    }
   ],
   "source": [
    "str1 = \"Life is too short\"\n",
    "#       01234567890123456    : index\n",
    "#                 1\n",
    "#     - 76543210987654321\n",
    "#              1\n",
    "# 한 글자씩 건너띄어서\n",
    "print(str1)\n",
    "print(str1[:])\n",
    "print(str1[::2])\n",
    "# 두 글자씩 건너띄어서\n",
    "print(str1[::3])\n",
    "# 뒤에서 부터 앞으로 \n",
    "print(str1[::-1])\n",
    "\"fe is too sh\"\n",
    "#2          13\n",
    "print(str1[2:14])\n",
    "print(str1[2:14:2])\n",
    "#print(str1[2:14:-1]) : 잘 못된 예\n",
    "print(str1[13:1:-1]) "
   ]
  },
  {
   "cell_type": "code",
   "execution_count": 114,
   "id": "9947af24",
   "metadata": {},
   "outputs": [
    {
     "name": "stdout",
     "output_type": "stream",
     "text": [
      "i\n",
      "python\n"
     ]
    }
   ],
   "source": [
    "str1 = \"pithon\"\n",
    "print(str1[1])\n",
    "#str1[1] = 'y' # 문자열은 index를 이용해서 변경할 수 없다.\n",
    "#print(str1)\n",
    "print(str1[0]+\"y\"+str1[2:])\n",
    "# indexing, slicing"
   ]
  },
  {
   "cell_type": "code",
   "execution_count": 124,
   "id": "da4817cb",
   "metadata": {},
   "outputs": [
    {
     "name": "stdout",
     "output_type": "stream",
     "text": [
      "나의 이름은 이숭무이고 나이는 30입니다.\n",
      "나의 이름은 이숭무이고 나이는 30입니다.\n",
      "나의 이름은 이숭무입니다.\n",
      "나의 이름은 이숭무이고 나이는 30입니다.\n"
     ]
    }
   ],
   "source": [
    "# 문자열 표현하기 : 포맷문자 포매팅\n",
    "'나의 이름은 이숭무이고 나이는 30입니다.'\n",
    "name = '이숭무'\n",
    "age = 30\n",
    "str2  = '나의 이름은 '+name+'이고 나이는 '+str(age)+'입니다.'\n",
    "str2 = '나의 이름은 %s이고 나이는 %d입니다.' % (name,age)\n",
    "print(str2)\n",
    "print('나의 이름은 %s이고 나이는 %d입니다.' % (name,age))\n",
    "'나의 이름은 이숭무입니다.'\n",
    "str2 = '나의 이름은 %s입니다.' % name\n",
    "print(str2)\n",
    "str2 = '나의 이름은 %s이고 나이는 %d입니다.' % ('이숭무',age)\n",
    "print(str2)"
   ]
  },
  {
   "cell_type": "code",
   "execution_count": 132,
   "id": "f5d48042",
   "metadata": {},
   "outputs": [
    {
     "name": "stdout",
     "output_type": "stream",
     "text": [
      "이숭무의 계좌번호는 1111잔액은 100입니다.\n"
     ]
    }
   ],
   "source": [
    "### 이숭무의 계좌번호는 1111이고 잔액은 100입니다.\n",
    "name = '이숭무'\n",
    "account = '1111'\n",
    "money = 100\n",
    "str3 = '%s의 계좌번호는 %s잔액은 %d입니다.' \\\n",
    "       % (name , account, money)\n",
    "print(str3)"
   ]
  },
  {
   "cell_type": "code",
   "execution_count": 143,
   "id": "abae188a",
   "metadata": {},
   "outputs": [
    {
     "name": "stdout",
     "output_type": "stream",
     "text": [
      "이숭무의 나이는 25살이고 키는 175.300000입니다\n",
      "이숭무의 나이는 25살이고 키는 175.3입니다\n",
      "이숭무의 나이는 25살이고 키는 175.300입니다\n",
      "이숭무의 나이는 25살이고 키는 175.300입니다\n",
      "이숭무의 나이는 25살이고 키는              175.300입니다\n",
      "       이숭무의 나이는         25살이고 키는              175.300입니다\n",
      "이숭무       의 나이는 25        살이고 키는              175.300입니다\n",
      "이숭무의 나이는 25살이고 키는 175.3입니다\n"
     ]
    }
   ],
   "source": [
    "\"이숭무의 나이는 25살이고 키는 175.3입니다\"\n",
    "name = '이숭무'\n",
    "age = 25\n",
    "height = 175.3\n",
    "str3 = \"%s의 나이는 %d살이고 키는 %f입니다\" % \\\n",
    "        (name, age, height)\n",
    "print(str3)\n",
    "str3 = \"%s의 나이는 %d살이고 키는 %5.1f입니다\" % \\\n",
    "        (name, age, height)\n",
    "print(str3)\n",
    "str3 = \"%s의 나이는 %d살이고 키는 %5.3f입니다\" % \\\n",
    "        (name, age, height)\n",
    "print(str3)\n",
    "str3 = \"%s의 나이는 %d살이고 키는 %.3f입니다\" % \\\n",
    "        (name, age, height)\n",
    "print(str3)\n",
    "str3 = \"%s의 나이는 %d살이고 키는 %20.3f입니다\" % \\\n",
    "        (name, age, height)\n",
    "print(str3)\n",
    "str3 = \"%10s의 나이는 %10d살이고 키는 %20.3f입니다\" % \\\n",
    "        (name, age, height)\n",
    "print(str3)\n",
    "str3 = \"%-10s의 나이는 %-10d살이고 키는 %20.3f입니다\" % \\\n",
    "        (name, age, height)\n",
    "print(str3)\n",
    "### 포맷문자\n",
    "## %s : string , %d : decimal , %f : float , %c : character\n",
    "str3 = \"%s의 나이는 %s살이고 키는 %s입니다\" % \\\n",
    "        (name, age, height)\n",
    "print(str3)"
   ]
  },
  {
   "cell_type": "code",
   "execution_count": 165,
   "id": "ebdd5c4d",
   "metadata": {},
   "outputs": [
    {
     "name": "stdout",
     "output_type": "stream",
     "text": [
      "이숭무님의 나이는 25살이고요 키는 175.3입니다\n",
      "이숭무님의 나이는 25살이고요 키는 175.3입니다\n",
      "이숭무의 나이는 25살이고요 이숭무의 키는 175.3입니다\n",
      "이숭무의 나이는 25살이고요 이숭무의 키는 175.3입니다\n"
     ]
    }
   ],
   "source": [
    "# format 함수를 사용한 포매팅\n",
    "# 문자 : \"a\" , 'a', '''a''', \"\"\"a\"\"\"\n",
    "# 정수 : 10\n",
    "# 실수 : 0.5\n",
    "# 변수 : a\n",
    "# 함수 : a(), print(), int(), str(), len(), format()\n",
    "# 이숭무님의 나이는 25살이고요 키는 175.3입니다\n",
    "str3 = '{0}님의 나이는 {1}살이고요 키는 {2}입니다'\\\n",
    "        .format(name, age, height)\n",
    "print(str3)\n",
    "str3 = '{1}님의 나이는 {0}살이고요 키는 {2}입니다'\\\n",
    "        .format( age, name, height)\n",
    "#                 0    1     2\n",
    "print(str3)\n",
    "# 이숭무의 나이는 25살이고요 이숭무의 키는 175.3입니다\n",
    "str3 = \"{0}의 나이는 {1}살이고요 {0}의 키는 {2}입니다\"\\\n",
    "        .format(name,age,height)\n",
    "print(str3)\n",
    "str3 = \"{0}의 나이는 {1}살이고요 {0}의 키는 {2}입니다\"\\\n",
    "        .format(name,25,height)\n",
    "print(str3)"
   ]
  },
  {
   "cell_type": "code",
   "execution_count": 175,
   "id": "8e85abb6",
   "metadata": {},
   "outputs": [
    {
     "name": "stdout",
     "output_type": "stream",
     "text": [
      "오늘 먹은 사과는 모두 3개입니다.\n",
      "오늘 먹은 사과는 모두 3개입니다.\n",
      "이숭무의 나이는 25살이고요 이숭무의 키는 175.3입니다\n",
      "이숭무의 나이는 25살이고요 이숭무의 키는 175.3입니다\n",
      "이숭무의 나이는 25살이고요 이숭무의 키는 175.3입니다\n"
     ]
    }
   ],
   "source": [
    "# 이름으로 넣기\n",
    "print(\"오늘 먹은 사과는 모두 {0}개입니다.\".format(3))\n",
    "print(\"오늘 먹은 사과는 모두 {count}개입니다.\".format(count=3))\n",
    "\n",
    "str3 = \"{0}의 나이는 {count}살이고요 {0}의 키는 {1}입니다\"\\\n",
    "        .format(name,height,count=25)\n",
    "print(str3)\n",
    "str3 = \"{0}의 나이는 {count}살이고요 {0}의 키는 {1}입니다\"\\\n",
    "        .format(name,height,count=age)\n",
    "#                 0    1      \n",
    "print(str3)\n",
    "\n",
    "#str3 = \"{0}의 나이는 {count}살이고요 {0}의 키는 {1}입니다\"\\\n",
    "#        .format(name,h=height,age)\n",
    "#                 0          \n",
    "#print(str3) # 이름이 중간에 있는 경우에는 사용할 수 없다.\n",
    "str3 = \"{0}의 나이는 {count}살이고요 {0}의 키는 {h}입니다\"\\\n",
    "        .format(name,h=height,count=age)\n",
    "#                 0        \n",
    "print(str3)"
   ]
  },
  {
   "cell_type": "code",
   "execution_count": 176,
   "id": "e17cb5bb",
   "metadata": {},
   "outputs": [
    {
     "name": "stdout",
     "output_type": "stream",
     "text": [
      "이숭무의 나이는 26살이고요 이숭무의 키는 175.3입니다\n"
     ]
    }
   ],
   "source": [
    "# 문자열 표현식 : 포맷문자 포맷팅, format()함수 포맷팅\n",
    "# f문자를 이용한 포맷팅\n",
    "name = '이숭무'\n",
    "age = 26\n",
    "height = 175.3\n",
    "# 이숭무의 나이는 25살이고요 이숭무의 키는 175.3입니다\n",
    "print(f\"{name}의 나이는 {age}살이고요 이숭무의 키는 {height}입니다\")"
   ]
  },
  {
   "cell_type": "code",
   "execution_count": 182,
   "id": "30fcb1bf",
   "metadata": {},
   "outputs": [
    {
     "name": "stdout",
     "output_type": "stream",
     "text": [
      "5\n",
      "2\n",
      "2\n",
      "Life is too short\n",
      "3\n"
     ]
    }
   ],
   "source": [
    "# 문자열 가공 : 문자열 함수\n",
    "a = \"hobby\"\n",
    "# 문자의 길이\n",
    "print(len(a))\n",
    "# 특정 문자의 갯수\n",
    "# 문자 b가 몇개\n",
    "print(a.count('b'))\n",
    "print(\"hobby\".count('b'))\n",
    "print(str1)\n",
    "# str1변수에서 'o' 문자기 몇개 있나요?\n",
    "print(str1.count('o'))"
   ]
  },
  {
   "cell_type": "code",
   "execution_count": 196,
   "id": "386c49d3",
   "metadata": {},
   "outputs": [
    {
     "name": "stdout",
     "output_type": "stream",
     "text": [
      "Lite is too short\n",
      "too\n",
      "8\n",
      "too\n",
      "2\n",
      "8\n",
      "12\n",
      "16\n",
      "8\n",
      "8\n",
      "too short\n",
      "too short\n",
      "is\n"
     ]
    }
   ],
   "source": [
    "str1 = 'Lite is too short'\n",
    "#       01234567890123456 :index\n",
    "#                 1\n",
    "print(str1)\n",
    "print(str1[8 : 8 + 3])\n",
    "# too에서 t가 있는 위치\n",
    "print(str1.index('too'))\n",
    "idx = str1.index('too')\n",
    "size = len('too')\n",
    "print(str1[idx:idx+size])\n",
    "#print(str1[str1.index('too'):str1.index('too')+len('too')])\n",
    "print(str1.index('t'))\n",
    "print(str1.index('too'))\n",
    "print(str1.index('short')) # left\n",
    "print(str1.rindex('t')) # right\n",
    "\n",
    "print(str1.index('t',3))  # 8,\n",
    "\n",
    "idx = str1.index('t')\n",
    "print(str1.index('t', idx + 1))\n",
    "# str1에서 too부터 모두\n",
    "idx = str1.index('too')\n",
    "print(str1[idx:])\n",
    "print(str1[str1.index('too'):])\n",
    "# 두번째 i부터 2글자\n",
    "idx = str1.index('i')\n",
    "idx = str1.index('i' , idx + 1)\n",
    "print(str1[idx:idx+2])"
   ]
  },
  {
   "cell_type": "code",
   "execution_count": 207,
   "id": "4ebe019b",
   "metadata": {},
   "outputs": [
    {
     "name": "stdout",
     "output_type": "stream",
     "text": [
      "8\n",
      "8\n",
      "8\n",
      "8\n",
      "16\n",
      "16\n",
      "-1\n",
      "-1\n"
     ]
    }
   ],
   "source": [
    "str1 = 'Lite is too short'\n",
    "#       01234567890123456 :index\n",
    "#                 1\n",
    "print(str1.index('too'))\n",
    "print(str1.find('too'))\n",
    "print(str1.index('t', 3))\n",
    "print(str1.find('t',3))\n",
    "print(str1.rindex('t'))\n",
    "print(str1.rfind('t'))\n",
    "# find와 index차이점\n",
    "print(str1.find('k')) # -1\n",
    "print(str1.find('test')) # -1\n",
    "# print(str1.index('k')) 오류"
   ]
  },
  {
   "cell_type": "code",
   "execution_count": 214,
   "id": "52dccf96",
   "metadata": {},
   "outputs": [
    {
     "name": "stdout",
     "output_type": "stream",
     "text": [
      "life is too short\n",
      "모두 소문자\n",
      "LIFE IS TOO SHORT\n",
      "모두 대문자\n",
      "Life is too short\n"
     ]
    }
   ],
   "source": [
    "str1 = 'Life is too short'\n",
    "# 대문자를 소문자로\n",
    "print(str1.lower())\n",
    "if str1.lower() == 'life is too short':\n",
    "    print('모두 소문자')\n",
    "# 소문자를 대문자 \n",
    "print(str1.upper())\n",
    "if str1.upper() == 'LIFE IS TOO SHORT':\n",
    "    print('모두 대문자')\n",
    "\n",
    "print(str1) # 함수를 사용해도 원 데이터는 변경되지 않는다."
   ]
  },
  {
   "cell_type": "code",
   "execution_count": 248,
   "id": "9b528a59",
   "metadata": {},
   "outputs": [
    {
     "name": "stdout",
     "output_type": "stream",
     "text": [
      "같다\n",
      "       highland0     \n",
      "highland0\n",
      "highland0\n",
      "Life is too short\n",
      "Life is too short  \n",
      " Life is too short\n",
      "highland0\n",
      "highabland0\n",
      "highland0\n",
      "highland0\n",
      "highland0\n"
     ]
    }
   ],
   "source": [
    "str3 = \"       highland0     \"\n",
    "result = str3.strip() # ******\n",
    "if result == 'highland0':\n",
    "    print('같다')\n",
    "print(str3)\n",
    "print(result)\n",
    "\n",
    "print(\"       highland0     \".strip())\n",
    "str1 = \" Life is too short  \" # 중간에 있는 공백문자는 데이터이다\n",
    "print(str1.strip())\n",
    "print(str1.lstrip())\n",
    "print(str1.rstrip())\n",
    "str3 = \"abhighland0ab\"\n",
    "print(str3.strip(\"ab\"))\n",
    "str3 = \"abhighabland0ab\"\n",
    "print(str3.strip(\"ab\"))\n",
    "str3 = \"  abhighland0ab  \"\n",
    "result1 = str3.strip()\n",
    "result2 = result1.strip(\"ab\")\n",
    "print(result2)\n",
    "print(str3.strip().strip(\"ab\"))\n",
    "str3 = \"  ab  highland0  ab  \"\n",
    "print(str3.strip().strip(\"ab\").strip())"
   ]
  },
  {
   "cell_type": "code",
   "execution_count": 229,
   "id": "5543a1d1",
   "metadata": {},
   "outputs": [
    {
     "name": "stdout",
     "output_type": "stream",
     "text": [
      "Your leg is too short\n",
      "Life is too short\n",
      "['Life', 'is', 'too', 'short']\n",
      "['Life', 'is', 'too', 'short']\n"
     ]
    }
   ],
   "source": [
    "# 대체\n",
    "str1 = \"Life is too short\"\n",
    "result = str1.replace('Life','Your leg')\n",
    "print(result)\n",
    "print(str1)\n",
    "# 쪼개기 : split을 하면 결과는 리스트로 가지고 온다.\n",
    "str1 = \"Life is too short\"\n",
    "result = str1.split()\n",
    "print(result)\n",
    "str1 = \"Life:is:too:short\"\n",
    "result = str1.split(\":\")\n",
    "print(result)\n",
    "# ['Life', 'is', 'too', 'short'] : 리스트"
   ]
  },
  {
   "cell_type": "code",
   "execution_count": null,
   "id": "0a96aeb2",
   "metadata": {},
   "outputs": [],
   "source": []
  }
 ],
 "metadata": {
  "kernelspec": {
   "display_name": "Python 3 (ipykernel)",
   "language": "python",
   "name": "python3"
  },
  "language_info": {
   "codemirror_mode": {
    "name": "ipython",
    "version": 3
   },
   "file_extension": ".py",
   "mimetype": "text/x-python",
   "name": "python",
   "nbconvert_exporter": "python",
   "pygments_lexer": "ipython3",
   "version": "3.12.5"
  }
 },
 "nbformat": 4,
 "nbformat_minor": 5
}
