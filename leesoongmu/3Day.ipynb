{
 "cells": [
  {
   "cell_type": "code",
   "execution_count": 1,
   "id": "a73c5304",
   "metadata": {},
   "outputs": [
    {
     "name": "stderr",
     "output_type": "stream",
     "text": [
      "C:\\Users\\soldesk\\AppData\\Local\\Temp\\ipykernel_4936\\627556072.py:1: DeprecationWarning: Importing display from IPython.core.display is deprecated since IPython 7.14, please import from IPython display\n",
      "  from IPython.core.display import display, HTML\n"
     ]
    },
    {
     "data": {
      "text/html": [
       "<style>\n",
       "div.container { width:100% !important; }\n",
       "div.CodeMirror {font-family: Consolas; font-size: 25pt;}\n",
       "div.output { font-size: 20pt; font-weight: bold;}\n",
       "div.input { font-family: Consolas; font-size: 25pt;}\n",
       "div.prompt { min-width: 100px;}\n",
       "</style>\n"
      ],
      "text/plain": [
       "<IPython.core.display.HTML object>"
      ]
     },
     "metadata": {},
     "output_type": "display_data"
    }
   ],
   "source": [
    "from IPython.core.display import display, HTML\n",
    "display(HTML(\n",
    "\"\"\"<style>\n",
    "div.container { width:100% !important; }\n",
    "div.CodeMirror {font-family: Consolas; font-size: 25pt;}\n",
    "div.output { font-size: 20pt; font-weight: bold;}\n",
    "div.input { font-family: Consolas; font-size: 25pt;}\n",
    "div.prompt { min-width: 100px;}\n",
    "</style>\n",
    "\"\"\"))"
   ]
  },
  {
   "cell_type": "code",
   "execution_count": 2,
   "id": "1ef2b51e",
   "metadata": {},
   "outputs": [
    {
     "name": "stdout",
     "output_type": "stream",
     "text": [
      "5  * 1 = 5\n",
      "5  * 2 = 10\n",
      "5  * 3 = 15\n",
      "5  * 4 = 20\n",
      "5  * 5 = 25\n",
      "5  * 6 = 30\n",
      "5  * 7 = 35\n",
      "5  * 8 = 40\n",
      "5  * 9 = 45\n"
     ]
    }
   ],
   "source": [
    "'''\n",
    "5  * 1 = 5    # 5 * 1 = (5 * 1)\n",
    "5  * 2 = 10   # 5 * 2 = (5 * 2)\n",
    "5  * 3 = 15   # 5 * 3 = (5 * 3)\n",
    "5  * 4 = 20   # 5 * 4 = (5 * 4)\n",
    "5  * 5 = 25   # 5 * 5 = (5 * 5)\n",
    "5  * 6 = 30   # 5 * 6 = (5 * 6)\n",
    "5  * 7 = 35   # 5 * 7 = (5 * 7)\n",
    "5  * 8 = 40   # 5 * 8 = (5 * 8)\n",
    "5  * 9 = 45   # 5 * 9 = (5 * 9)\n",
    "'''\n",
    "start = 1\n",
    "while start <= 9:\n",
    "    print(f\"5  * {start} = {5 * start}\")\n",
    "    start += 1 # start = start + 1\n"
   ]
  },
  {
   "cell_type": "code",
   "execution_count": 7,
   "id": "bc16b5e8",
   "metadata": {},
   "outputs": [
    {
     "name": "stdout",
     "output_type": "stream",
     "text": [
      "단을 입력시켜주세요. : 6\n",
      "6 * 1 = 6\n",
      "6 * 2 = 12\n",
      "6 * 3 = 18\n",
      "6 * 4 = 24\n",
      "6 * 5 = 30\n",
      "6 * 6 = 36\n",
      "6 * 7 = 42\n",
      "6 * 8 = 48\n",
      "6 * 9 = 54\n"
     ]
    }
   ],
   "source": [
    "# 4단 \n",
    "dan = int(input(\"단을 입력시켜주세요. : \")) # 문자를 숫자로 형변환\n",
    "start = 1\n",
    "while start <= 9:\n",
    "    print(f\"{dan} * {start} = {dan * start}\")\n",
    "    start += 1"
   ]
  },
  {
   "cell_type": "code",
   "execution_count": 15,
   "id": "be736f6a",
   "metadata": {},
   "outputs": [
    {
     "name": "stdout",
     "output_type": "stream",
     "text": [
      "단을 입력하세요. 4\n",
      "시작곱을 입력 : 5\n",
      " 마지막 곱을 입력 : 6\n",
      "4 * 5 = 20\n",
      "4 * 6 = 24\n"
     ]
    }
   ],
   "source": [
    "# 7단\n",
    "dan = int(input(\"단을 입력하세요. \"))\n",
    "startGop =  int(input(\"시작곱을 입력 : \"));\n",
    "endgop =  int(input(\" 마지막 곱을 입력 : \"))\n",
    "start = startGop\n",
    "while start <= endgop:\n",
    "    print(f\"{dan} * {start} = {dan * start}\")\n",
    "    start += 1"
   ]
  },
  {
   "cell_type": "code",
   "execution_count": 20,
   "id": "fb91d01c",
   "metadata": {},
   "outputs": [
    {
     "name": "stdout",
     "output_type": "stream",
     "text": [
      "9\n",
      "[1, 2, 3, 4, 5, 6, 7, 8, 9]\n",
      "8\n",
      "4\n",
      "[1, 2, 3, 5, 6, 7, 8, 9]\n",
      "5\n",
      "7\n",
      "[1, 2, 3, 6, 7, 8, 9]\n"
     ]
    }
   ],
   "source": [
    "# 로또\n",
    "l = [1,2,3,4,5,6,7,8,9]\n",
    "#    0 1 2 3 4 5 6 7 8\n",
    "print(len(l))\n",
    "print(l)\n",
    "result = l.pop(3) # pop를 하면 리스트의 크기가 1씩 준다.\n",
    "print(len(l))\n",
    "print(result) # 4\n",
    "print(l)\n",
    "# [1, 2, 3, 5, 6, 7, 8, 9]\n",
    "#  0  1  2  3  4  5  6  7\n",
    "result = l.pop(3)\n",
    "print(result)\n",
    "print(len(l))\n",
    "print(l) # [1, 2, 3, 6, 7, 8, 9]"
   ]
  },
  {
   "cell_type": "code",
   "execution_count": 46,
   "id": "41c143ef",
   "metadata": {},
   "outputs": [
    {
     "name": "stdout",
     "output_type": "stream",
     "text": [
      "5\n",
      "3\n",
      "4\n"
     ]
    }
   ],
   "source": [
    "import random\n",
    "idx = random.randint(0,8)\n",
    "print(idx)\n",
    "l = [1,2,3,4,5,6,7,8,9]\n",
    "#    0 1 2 3 4 5 6 7 8\n",
    "idx = random.randint(0,8)\n",
    "print(idx)\n",
    "print(l[idx])"
   ]
  },
  {
   "cell_type": "code",
   "execution_count": 54,
   "id": "58068602",
   "metadata": {},
   "outputs": [
    {
     "name": "stdout",
     "output_type": "stream",
     "text": [
      "[1, 2, 3, 4, 5, 6, 7, 8, 9, 10, 11, 12, 13, 14, 15, 16, 17, 18, 19, 20, 21, 22, 23, 24, 25, 26, 27, 28, 29, 30, 31, 32, 33, 34, 35, 36, 37, 38, 39, 40, 41, 42, 43, 44, 45]\n",
      "4, 38, 7, 17, 42, 41, "
     ]
    }
   ],
   "source": [
    "import random\n",
    "lotto = []\n",
    "i = 1\n",
    "while i <= 45:\n",
    "    lotto.append(i)\n",
    "    i+=1\n",
    "print(lotto)\n",
    "\n",
    "size = len(lotto) # 45\n",
    "\n",
    "y = 1\n",
    "while y <= 6:\n",
    "    size -= 1\n",
    "    idx = random.randint(0,size)\n",
    "    lottoNum = lotto.pop(idx);\n",
    "    print(lottoNum, end=\", \")\n",
    "    y += 1"
   ]
  },
  {
   "cell_type": "code",
   "execution_count": 56,
   "id": "fcdc3a21",
   "metadata": {},
   "outputs": [
    {
     "name": "stdout",
     "output_type": "stream",
     "text": [
      "3 * 1 = 3\n",
      "3 * 2 = 6\n",
      "3 * 3 = 9\n",
      "3 * 4 = 12\n",
      "3 * 5 = 15\n",
      "3 * 6 = 18\n",
      "3 * 7 = 21\n",
      "3 * 8 = 24\n",
      "3 * 9 = 27\n",
      "4 * 1 = 4\n",
      "4 * 2 = 8\n",
      "4 * 3 = 12\n",
      "4 * 4 = 16\n",
      "4 * 5 = 20\n",
      "4 * 6 = 24\n",
      "4 * 7 = 28\n",
      "4 * 8 = 32\n",
      "4 * 9 = 36\n",
      "5 * 1 = 5\n",
      "5 * 2 = 10\n",
      "5 * 3 = 15\n",
      "5 * 4 = 20\n",
      "5 * 5 = 25\n",
      "5 * 6 = 30\n",
      "5 * 7 = 35\n",
      "5 * 8 = 40\n",
      "5 * 9 = 45\n",
      "6 * 1 = 6\n",
      "6 * 2 = 12\n",
      "6 * 3 = 18\n",
      "6 * 4 = 24\n",
      "6 * 5 = 30\n",
      "6 * 6 = 36\n",
      "6 * 7 = 42\n",
      "6 * 8 = 48\n",
      "6 * 9 = 54\n"
     ]
    }
   ],
   "source": [
    "#3단\n",
    "start = 1\n",
    "while start <= 9:\n",
    "    print(f\"3 * {start} = {3 * start}\")\n",
    "    start += 1\n",
    "\n",
    "#4단\n",
    "start = 1\n",
    "while start <= 9:\n",
    "    print(f\"4 * {start} = {4 * start}\")\n",
    "    start += 1\n",
    "\n",
    "#5단\n",
    "start = 1\n",
    "while start <= 9:\n",
    "    print(f\"5 * {start} = {5 * start}\")\n",
    "    start += 1\n",
    "# 6\n",
    "start = 1\n",
    "while start <= 9:\n",
    "    print(f\"6 * {start} = {6 * start}\")\n",
    "    start += 1"
   ]
  },
  {
   "cell_type": "code",
   "execution_count": 57,
   "id": "02889cc0",
   "metadata": {},
   "outputs": [
    {
     "name": "stdout",
     "output_type": "stream",
     "text": [
      "3 * 1 = 3\n",
      "3 * 2 = 6\n",
      "3 * 3 = 9\n",
      "3 * 4 = 12\n",
      "3 * 5 = 15\n",
      "3 * 6 = 18\n",
      "3 * 7 = 21\n",
      "3 * 8 = 24\n",
      "3 * 9 = 27\n",
      "4 * 1 = 4\n",
      "4 * 2 = 8\n",
      "4 * 3 = 12\n",
      "4 * 4 = 16\n",
      "4 * 5 = 20\n",
      "4 * 6 = 24\n",
      "4 * 7 = 28\n",
      "4 * 8 = 32\n",
      "4 * 9 = 36\n",
      "5 * 1 = 5\n",
      "5 * 2 = 10\n",
      "5 * 3 = 15\n",
      "5 * 4 = 20\n",
      "5 * 5 = 25\n",
      "5 * 6 = 30\n",
      "5 * 7 = 35\n",
      "5 * 8 = 40\n",
      "5 * 9 = 45\n",
      "6 * 1 = 6\n",
      "6 * 2 = 12\n",
      "6 * 3 = 18\n",
      "6 * 4 = 24\n",
      "6 * 5 = 30\n",
      "6 * 6 = 36\n",
      "6 * 7 = 42\n",
      "6 * 8 = 48\n",
      "6 * 9 = 54\n"
     ]
    }
   ],
   "source": [
    "# 2중 반복문\n",
    "dan = 3\n",
    "while dan <= 6:\n",
    "    start = 1\n",
    "    while start <= 9:\n",
    "        print(f\"{dan} * {start} = {dan * start}\")\n",
    "        start += 1    \n",
    "    dan += 1"
   ]
  },
  {
   "cell_type": "code",
   "execution_count": 62,
   "id": "7dff65f5",
   "metadata": {},
   "outputs": [
    {
     "name": "stdout",
     "output_type": "stream",
     "text": [
      "시작 단을 입력 : 2\n",
      " 마지막 단을 입력 : 3\n",
      "시작 곱 : 4\n",
      "마지막 곱 : 5\n",
      "2 * 4 = 8\n",
      "2 * 5 = 10\n",
      "3 * 4 = 12\n",
      "3 * 5 = 15\n"
     ]
    }
   ],
   "source": [
    "# 2중 반복문\n",
    "startDan = int(input(\"시작 단을 입력 : \"))\n",
    "endDan = int(input(\" 마지막 단을 입력 : \"))\n",
    "\n",
    "startGop = int(input(\"시작 곱 : \"))\n",
    "endGop = int(input(\"마지막 곱 : \"))\n",
    "\n",
    "dan = startDan\n",
    "while dan <= endDan:\n",
    "    start = startGop\n",
    "    while start <= endGop:\n",
    "        #print(f\"{dan} * {start} = {dan * start}\")\n",
    "        #print(\"%d * %d = %d\" % (dan , start , dan * start))\n",
    "        print(\"{0} * {1} = {2}\".format(dan, start, dan * start))\n",
    "        start += 1    \n",
    "    dan += 1"
   ]
  },
  {
   "cell_type": "code",
   "execution_count": 80,
   "id": "98e54079",
   "metadata": {},
   "outputs": [
    {
     "name": "stdout",
     "output_type": "stream",
     "text": [
      "구매수량을 입력하세요. : 6\n",
      "27, 1, 31, 10, 34, 7, \n",
      "3, 44, 27, 1, 12, 30, \n",
      "41, 6, 45, 29, 15, 42, \n",
      "45, 7, 33, 18, 5, 35, \n",
      "28, 10, 14, 6, 3, 44, \n",
      "1, 18, 16, 21, 15, 17, \n"
     ]
    }
   ],
   "source": [
    "import random\n",
    "lotto = []\n",
    "qty = int(input(\"구매수량을 입력하세요. : \"))\n",
    "cnt = 1\n",
    "while cnt <= qty:\n",
    "    i = 1\n",
    "    while i <= 45:\n",
    "        lotto.append(i)\n",
    "        i+=1\n",
    "\n",
    "    size = len(lotto) # 45\n",
    "\n",
    "    y = 1\n",
    "    while y <= 6:\n",
    "        size -= 1\n",
    "        idx = random.randint(0,size)\n",
    "        lottoNum = lotto.pop(idx);\n",
    "        print(lottoNum, end=\", \")\n",
    "        y += 1\n",
    "    print()\n",
    "    lotto.clear()\n",
    "    cnt += 1"
   ]
  },
  {
   "cell_type": "code",
   "execution_count": 81,
   "id": "64741ffa",
   "metadata": {},
   "outputs": [
    {
     "name": "stdout",
     "output_type": "stream",
     "text": [
      "5050\n"
     ]
    }
   ],
   "source": [
    "### 1 ~ 100까지의 합을 구하시오.\n",
    "'''\n",
    "sum = 0\n",
    "sum = sum + 1\n",
    "sum = sum + 2\n",
    "sum = sum + 3\n",
    "sum = sum + 4\n",
    "...\n",
    "sum = sum + 100\n",
    "'''\n",
    "sum = 0\n",
    "i = 1\n",
    "while i <= 100:\n",
    "    sum = sum + i\n",
    "    i += 1\n",
    "print(sum)"
   ]
  },
  {
   "cell_type": "code",
   "execution_count": 86,
   "id": "51f6a736",
   "metadata": {},
   "outputs": [
    {
     "name": "stdout",
     "output_type": "stream",
     "text": [
      "2550\n",
      "2550\n",
      "2550\n"
     ]
    }
   ],
   "source": [
    "### 1 ~ 100까지의 짝수의 합을 구하시오.\n",
    "sum = 0\n",
    "i = 0\n",
    "while i <= 99:\n",
    "    i += 1\n",
    "    if i % 2 != 0:\n",
    "        continue\n",
    "    sum = sum + i\n",
    "print(sum)\n",
    "\n",
    "sum = 0\n",
    "i = 0\n",
    "while i <= 99:\n",
    "    i += 1\n",
    "    if i % 2 == 0:\n",
    "        sum = sum + i\n",
    "print(sum)\n",
    "\n",
    "sum = 0\n",
    "i = 1\n",
    "while i <= 100:\n",
    "    if i % 2 == 0:\n",
    "        sum = sum + i\n",
    "    i += 1\n",
    "print(sum)"
   ]
  },
  {
   "cell_type": "code",
   "execution_count": 85,
   "id": "2f4b2c18",
   "metadata": {},
   "outputs": [
    {
     "name": "stdout",
     "output_type": "stream",
     "text": [
      "2500\n",
      "========================================================================================================================\n",
      "2500\n",
      "==========================================================================================\n",
      "2500\n",
      "==========================================================================================\n",
      "2550\n"
     ]
    }
   ],
   "source": [
    "### 1 ~ 100까지의 홀수의 합을 구하시오.\n",
    "sum = 0\n",
    "i = 0\n",
    "while i <= 99:\n",
    "    i += 1\n",
    "    if i % 2 == 0:\n",
    "        continue\n",
    "    sum = sum + i\n",
    "print(sum)\n",
    "\n",
    "print(\"===\" * 30)\n",
    "\n",
    "sum = 0\n",
    "i = 1\n",
    "while i <= 100:\n",
    "    if i % 2 != 0:\n",
    "        sum = sum + i\n",
    "    i += 1\n",
    "print(sum)\n",
    "\n",
    "print(\"===\" * 30)\n",
    "\n",
    "sum = 0\n",
    "i = 0\n",
    "while i <= 99:\n",
    "    i += 1\n",
    "    if i % 2 != 0:\n",
    "        sum = sum + i\n",
    "print(sum)\n",
    "\n",
    "print(\"===\" * 30)\n",
    "sum = 0\n",
    "i = 1\n",
    "while i <= 100:\n",
    "    if i % 2 != 0:\n",
    "        i += 1\n",
    "        continue\n",
    "    sum = sum + i\n",
    "    i += 1\n",
    "print(sum)"
   ]
  },
  {
   "cell_type": "code",
   "execution_count": 88,
   "id": "2debea4f",
   "metadata": {},
   "outputs": [
    {
     "name": "stdout",
     "output_type": "stream",
     "text": [
      "반복 종료\n",
      "2500\n"
     ]
    }
   ],
   "source": [
    "### 1 ~ 100까지의 합 중 홀수만 구하시오.  while문에 True를 이용\n",
    "i = 0\n",
    "sum = 0\n",
    "while True:\n",
    "    i += 1\n",
    "    if i > 100:\n",
    "        print(\"반복 종료\")\n",
    "        break\n",
    "    if i % 2 == 0:\n",
    "        continue\n",
    "    sum += i\n",
    "print(sum)"
   ]
  },
  {
   "cell_type": "code",
   "execution_count": 92,
   "id": "6a985337",
   "metadata": {},
   "outputs": [
    {
     "name": "stdout",
     "output_type": "stream",
     "text": [
      "421\n",
      "421\n",
      "============================================================\n",
      "421\n"
     ]
    }
   ],
   "source": [
    "# 리스트에 있는 합을 구하시오\n",
    "l = [34,76,99,45,78,89]\n",
    "#     0  1  2 3   4  5\n",
    "sum = 0\n",
    "sum = sum + l[0]\n",
    "sum = sum + l[1]\n",
    "sum = sum + l[2]\n",
    "sum = sum + l[3]\n",
    "sum = sum + l[4]\n",
    "sum = sum + l[5]\n",
    "print(sum)\n",
    "\n",
    "sum = 0\n",
    "idx = 0\n",
    "size = len(l) # 6\n",
    "while idx < size :\n",
    "    sum = sum + l[idx]\n",
    "    idx += 1\n",
    "print(sum)\n",
    "\n",
    "print(\"==\" * 30)\n",
    "sum = 0\n",
    "# for each\n",
    "for num in l: \n",
    "    sum += num # sum = sum +l[idx] ; idx += 1\n",
    "print(sum)"
   ]
  },
  {
   "cell_type": "code",
   "execution_count": 93,
   "id": "ba07aa16",
   "metadata": {},
   "outputs": [
    {
     "name": "stdout",
     "output_type": "stream",
     "text": [
      "1690\n",
      "1690\n"
     ]
    }
   ],
   "source": [
    "t = (111,333,45,666,535)\n",
    "sum = 0\n",
    "for num in t:\n",
    "    sum += num\n",
    "print(sum)\n",
    "\n",
    "sum = 0\n",
    "idx = 0\n",
    "while idx < len(t):\n",
    "    sum += t[idx]\n",
    "    idx += 1\n",
    "print(sum)"
   ]
  },
  {
   "cell_type": "code",
   "execution_count": 95,
   "id": "75c36684",
   "metadata": {},
   "outputs": [
    {
     "name": "stdout",
     "output_type": "stream",
     "text": [
      "5050\n",
      "5050\n"
     ]
    }
   ],
   "source": [
    "# 1 ~ 100까지의 합을 구하시오\n",
    "i = 1\n",
    "sum = 0\n",
    "while i <= 100:\n",
    "    sum += i\n",
    "    i += 1\n",
    "print(sum)\n",
    "\n",
    "### for each\n",
    "sum = 0\n",
    "for i in range(1, 1 + 100): # range(1, 1 + 100) : [1,2,3,4,5,...,100]\n",
    "    sum += i\n",
    "print(sum)"
   ]
  },
  {
   "cell_type": "code",
   "execution_count": 97,
   "id": "6e2dfc94",
   "metadata": {},
   "outputs": [
    {
     "name": "stdout",
     "output_type": "stream",
     "text": [
      "2500\n",
      "============================================================\n",
      "2500\n"
     ]
    }
   ],
   "source": [
    "# 1~100까지의 합중 홀수만 더하시오.\n",
    "i = 0\n",
    "sum = 0\n",
    "while i < 100:\n",
    "    i += 1\n",
    "    if i % 2 == 0:\n",
    "        continue\n",
    "    sum += i\n",
    "print(sum)\n",
    "print(\"==\" * 30)\n",
    "\n",
    "sum = 0\n",
    "for i in range(1, 101):\n",
    "    if i % 2 == 0:\n",
    "        continue\n",
    "    sum += i\n",
    "print(sum)"
   ]
  },
  {
   "cell_type": "code",
   "execution_count": null,
   "id": "4b6bc9b1",
   "metadata": {},
   "outputs": [],
   "source": [
    "### 1 ~ 100까지의 합 구하시오.  while문에 True를 이용\n",
    "i = 1\n",
    "sum = 0\n",
    "while True:    # 무한루프인 경우\n",
    "    if i > 100:\n",
    "        break;\n",
    "    sum += 1\n",
    "    i += 1\n",
    "print(sum)\n",
    "sum = 0\n",
    "for i in range(1, 10000): # 범위, 리스트, 튜플\n",
    "    if i > 100:\n",
    "        break\n",
    "    sum += i\n",
    "print(sum)"
   ]
  },
  {
   "cell_type": "code",
   "execution_count": 100,
   "id": "b975cee8",
   "metadata": {},
   "outputs": [
    {
     "name": "stdout",
     "output_type": "stream",
     "text": [
      "5 * 1 = 5\n",
      "5 * 2 = 10\n",
      "5 * 3 = 15\n",
      "5 * 4 = 20\n",
      "5 * 5 = 25\n",
      "5 * 6 = 30\n",
      "5 * 7 = 35\n",
      "5 * 8 = 40\n",
      "5 * 9 = 45\n",
      "5 * 1 = 5\n",
      "5 * 2 = 10\n",
      "5 * 3 = 15\n",
      "5 * 4 = 20\n",
      "5 * 5 = 25\n",
      "5 * 6 = 30\n",
      "5 * 7 = 35\n",
      "5 * 8 = 40\n",
      "5 * 9 = 45\n",
      "6 * 1 = 6\n",
      "6 * 2 = 12\n",
      "6 * 3 = 18\n",
      "6 * 4 = 24\n",
      "6 * 5 = 30\n",
      "6 * 6 = 36\n",
      "6 * 7 = 42\n",
      "6 * 8 = 48\n",
      "6 * 9 = 54\n",
      "7 * 1 = 7\n",
      "7 * 2 = 14\n",
      "7 * 3 = 21\n",
      "7 * 4 = 28\n",
      "7 * 5 = 35\n",
      "7 * 6 = 42\n",
      "7 * 7 = 49\n",
      "7 * 8 = 56\n",
      "7 * 9 = 63\n",
      "5 * 1 = 5\n",
      "5 * 2 = 10\n",
      "5 * 3 = 15\n",
      "5 * 4 = 20\n",
      "5 * 5 = 25\n",
      "5 * 6 = 30\n",
      "5 * 7 = 35\n",
      "5 * 8 = 40\n",
      "5 * 9 = 45\n",
      "6 * 1 = 6\n",
      "6 * 2 = 12\n",
      "6 * 3 = 18\n",
      "6 * 4 = 24\n",
      "6 * 5 = 30\n",
      "6 * 6 = 36\n",
      "6 * 7 = 42\n",
      "6 * 8 = 48\n",
      "6 * 9 = 54\n",
      "7 * 1 = 7\n",
      "7 * 2 = 14\n",
      "7 * 3 = 21\n",
      "7 * 4 = 28\n",
      "7 * 5 = 35\n",
      "7 * 6 = 42\n",
      "7 * 7 = 49\n",
      "7 * 8 = 56\n",
      "7 * 9 = 63\n"
     ]
    }
   ],
   "source": [
    "# 5단\n",
    "start = 1\n",
    "while start <= 9:\n",
    "    print(f\"5 * {start} = {5 * start}\")\n",
    "    start += 1\n",
    "\n",
    "for start in range(1, 10):\n",
    "    print(f\"5 * {start} = {5 * start}\")\n",
    "\n",
    "for start in range(1, 10):\n",
    "    print(f\"6 * {start} = {6 * start}\")\n",
    "    \n",
    "for start in range(1, 10):\n",
    "    print(f\"7 * {start} = {7 * start}\")\n",
    "\n",
    "for dan in range(5, 8):\n",
    "    for start in range(1, 10):\n",
    "        print(f\"{dan} * {start} = {dan * start}\")"
   ]
  },
  {
   "cell_type": "code",
   "execution_count": 105,
   "id": "425398a2",
   "metadata": {},
   "outputs": [
    {
     "name": "stdout",
     "output_type": "stream",
     "text": [
      "시작 단을 입력 : 3\n",
      "마지막 단을 입력 : 4\n",
      "시작 곱을 입력 : 5\n",
      "마지막 곱을 입력 : 6\n",
      "3 * 5 = 15\n",
      "3 * 6 = 18\n",
      "4 * 5 = 20\n",
      "4 * 6 = 24\n"
     ]
    }
   ],
   "source": [
    "startDan = int(input(\"시작 단을 입력 : \"))\n",
    "endDan = int(input(\"마지막 단을 입력 : \"))\n",
    "startGop = int(input(\"시작 곱을 입력 : \"))\n",
    "endGop = int(input(\"마지막 곱을 입력 : \"))\n",
    "for dan in range(startDan, endDan + 1):\n",
    "    for start in range(startGop, endGop + 1):\n",
    "        print(f\"{dan} * {start} = {dan * start}\")"
   ]
  },
  {
   "cell_type": "code",
   "execution_count": null,
   "id": "7ba2bc8e",
   "metadata": {},
   "outputs": [],
   "source": [
    "import random\n",
    "lotto = []\n",
    "i = 1\n",
    "while i <= 45:\n",
    "    lotto.append(i)\n",
    "    i+=1\n",
    "print(lotto)\n",
    "\n",
    "size = len(lotto) # 45\n",
    "\n",
    "y = 1\n",
    "while y <= 6:\n",
    "    size -= 1\n",
    "    idx = random.randint(0,size)\n",
    "    lottoNum = lotto.pop(idx);\n",
    "    print(lottoNum, end=\", \")\n",
    "    y += 1"
   ]
  },
  {
   "cell_type": "code",
   "execution_count": 184,
   "id": "37dd2850",
   "metadata": {},
   "outputs": [
    {
     "name": "stdout",
     "output_type": "stream",
     "text": [
      "22, 44, 30, 26, 40, 12, "
     ]
    }
   ],
   "source": [
    "import random\n",
    "lotto = []\n",
    "for i in range(1, 45 + 1):\n",
    "    lotto.append(i)\n",
    "\n",
    "size = len(lotto)\n",
    "\n",
    "for num in range(0, 6):  # range(0, 6) ==> 0,1,2,3,4,5\n",
    "    size -= 1\n",
    "    idx = random.randint(0,size)\n",
    "    lottoNum = lotto.pop(idx);\n",
    "    print(lottoNum, end=\", \")"
   ]
  },
  {
   "cell_type": "code",
   "execution_count": 135,
   "id": "750aad1c",
   "metadata": {},
   "outputs": [
    {
     "name": "stdout",
     "output_type": "stream",
     "text": [
      "구매 수량을 입력 : 5\n",
      "16, 8, 19, 6, 42, 44, \n",
      "20, 18, 44, 19, 22, 4, \n",
      "33, 14, 11, 18, 43, 4, \n",
      "8, 35, 41, 38, 15, 19, \n",
      "32, 13, 45, 9, 34, 22, \n"
     ]
    }
   ],
   "source": [
    "import random\n",
    "#lotto = []\n",
    "qty = int(input(\"구매 수량을 입력 : \")) # 5\n",
    "for num in range(qty): #  range(0, 5) ==> 0,1,2,3,4\n",
    "    #for i in range(1, 45 + 1):\n",
    "    #    lotto.append(i)\n",
    "    lotto = [i for i in range(1, 45 + 1)]\n",
    "    size = len(lotto)\n",
    "\n",
    "    for num in range(0, 6):  # range(0, 6) ==> 0,1,2,3,4,5\n",
    "        size -= 1\n",
    "        idx = random.randint(0,size)\n",
    "        lottoNum = lotto.pop(idx);\n",
    "        print(lottoNum, end=\", \")\n",
    "    #lotto.clear\n",
    "    print()"
   ]
  },
  {
   "cell_type": "code",
   "execution_count": 114,
   "id": "e9b513ef",
   "metadata": {},
   "outputs": [
    {
     "name": "stdout",
     "output_type": "stream",
     "text": [
      "(1, 2)\n",
      "(3, 4)\n",
      "(5, 6)\n",
      "1 2\n",
      "3\n",
      "3 4\n",
      "7\n",
      "5 6\n",
      "11\n"
     ]
    }
   ],
   "source": [
    "l1 = [(1,2),(3,4),(5,6)]\n",
    "for i in l1:\n",
    "    print(i)\n",
    "    \n",
    "for i, j in l1: # a , b = (1 , 2)\n",
    "    print(i, j)\n",
    "    print(i + j)\n",
    "    \n",
    "for (i, j) in l1: # (a , b) = (1 , 2)\n",
    "    print(i, j)\n",
    "    print(i + j)"
   ]
  },
  {
   "cell_type": "code",
   "execution_count": 119,
   "id": "66448d9e",
   "metadata": {},
   "outputs": [
    {
     "name": "stdout",
     "output_type": "stream",
     "text": [
      "[1, 2, 3]\n",
      "[4, 5, 6]\n",
      "[7, 8, 9]\n",
      "1 2 3\n",
      "4 5 6\n",
      "7 8 9\n",
      "1 2 3\n",
      "4 5 6\n",
      "7 8 9\n",
      "1 2 3\n",
      "4 5 6\n",
      "7 8 9\n"
     ]
    }
   ],
   "source": [
    "l1 = [[1,2,3],[4,5,6],[7,8,9]]\n",
    "for i in l1:\n",
    "    print(i)\n",
    "\n",
    "for i,j, k in l1:\n",
    "    print(i, j, k)\n",
    "    \n",
    "for (i,j, k) in l1:\n",
    "    print(i, j, k) \n",
    "    \n",
    "for [i,j, k] in l1:\n",
    "    print(i, j, k)   "
   ]
  },
  {
   "cell_type": "code",
   "execution_count": 121,
   "id": "6c5f9dfc",
   "metadata": {},
   "outputs": [
    {
     "name": "stdout",
     "output_type": "stream",
     "text": [
      "[1, 2, 3]\n",
      "[4, 5]\n",
      "[6, 7, 8, 9]\n"
     ]
    },
    {
     "ename": "ValueError",
     "evalue": "not enough values to unpack (expected 4, got 3)",
     "output_type": "error",
     "traceback": [
      "\u001b[1;31m---------------------------------------------------------------------------\u001b[0m",
      "\u001b[1;31mValueError\u001b[0m                                Traceback (most recent call last)",
      "Cell \u001b[1;32mIn[121], line 4\u001b[0m\n\u001b[0;32m      2\u001b[0m \u001b[38;5;28;01mfor\u001b[39;00m i \u001b[38;5;129;01min\u001b[39;00m l1:\n\u001b[0;32m      3\u001b[0m     \u001b[38;5;28mprint\u001b[39m(i)\n\u001b[1;32m----> 4\u001b[0m \u001b[38;5;28;01mfor\u001b[39;00m i,j,k,l \u001b[38;5;129;01min\u001b[39;00m l1:\n\u001b[0;32m      5\u001b[0m     \u001b[38;5;28mprint\u001b[39m(i,j,k,l)\n",
      "\u001b[1;31mValueError\u001b[0m: not enough values to unpack (expected 4, got 3)"
     ]
    }
   ],
   "source": [
    "l1 = [[1,2,3],[4,5],[6,7,8,9]]\n",
    "for i in l1:\n",
    "    print(i)\n",
    "for i,j,k,l in l1: #  요소의 크기가 같아야 한다.\n",
    "    print(i,j,k,l)"
   ]
  },
  {
   "cell_type": "code",
   "execution_count": 126,
   "id": "5dac084f",
   "metadata": {},
   "outputs": [
    {
     "name": "stdout",
     "output_type": "stream",
     "text": [
      "[1, 2, 3, 4, 5, 6, 7, 8, 9]\n",
      "[1, 2, 3, 4, 5, 6, 7, 8, 9]\n"
     ]
    }
   ],
   "source": [
    "# 리스트를 포함한 반복문\n",
    "l = []\n",
    "for num in range(1, 10):\n",
    "    l.append(num)\n",
    "print(l)\n",
    "\n",
    "l = [num for num in range(1, 10) ]\n",
    "print(l)"
   ]
  },
  {
   "cell_type": "code",
   "execution_count": 128,
   "id": "40b36101",
   "metadata": {},
   "outputs": [
    {
     "name": "stdout",
     "output_type": "stream",
     "text": [
      "[3, 6, 9, 12]\n",
      "[3, 6, 9, 12]\n"
     ]
    }
   ],
   "source": [
    "t = (1,2,3,4)\n",
    "l = [] \n",
    "for num in t:\n",
    "    l.append(num * 3)\n",
    "print(l)\n",
    "\n",
    "l = [num * 3 for num in t]\n",
    "print(l)"
   ]
  },
  {
   "cell_type": "code",
   "execution_count": 133,
   "id": "899fd428",
   "metadata": {},
   "outputs": [
    {
     "name": "stdout",
     "output_type": "stream",
     "text": [
      "[6, 12, 18]\n",
      "[3, 6, 9, 12, 15, 18, 21, 24, 27, 4, 8, 12, 16, 20, 24, 28, 32, 36, 5, 10, 15, 20, 25, 30, 35, 40, 45]\n",
      "[3, 6, 9, 12, 15, 18, 21, 24, 27, 4, 8, 12, 16, 20, 24, 28, 32, 36, 5, 10, 15, 20, 25, 30, 35, 40, 45]\n",
      "[6, 12, 18, 24, 8, 16, 24, 32]\n",
      "[6, 12, 18, 24, 8, 16, 24, 32]\n"
     ]
    }
   ],
   "source": [
    "#튜플에 있는 값 중 짝수만 3을 곱한 값을 리스트에 저장\n",
    "t = (1,2,3,4,5,6)\n",
    "l = []\n",
    "for num in t:\n",
    "    if num % 2 == 0:\n",
    "        l.append(num * 3)\n",
    "    \n",
    "l = [num * 3 for num in t  if num % 2 == 0]\n",
    "print(l)\n",
    "\n",
    "# 3단 5단까지의 값을 리스트에 저장\n",
    "l = []\n",
    "for dan in range(3,6):\n",
    "    for gop in range(1, 10):\n",
    "        l.append(dan * gop)\n",
    "print(l)\n",
    "\n",
    "l = [dan * gop for dan in range(3,6) \n",
    "               for gop in range(1, 10)]\n",
    "print(l)\n",
    "\n",
    "\n",
    "# 3단 5단까지의 값중 곱이 짝인 값만 리스트에 저장\n",
    "l = []\n",
    "for dan in range(3, 5):\n",
    "    for gop in range(1, 10):\n",
    "        if gop % 2 == 0:\n",
    "            l.append(dan * gop)\n",
    "print(l)\n",
    "\n",
    "l = [dan * gop for dan in range(3, 5) \n",
    "               for gop in range(1, 10) if gop % 2 == 0]\n",
    "print(l)"
   ]
  },
  {
   "cell_type": "code",
   "execution_count": null,
   "id": "dc8f4e85",
   "metadata": {},
   "outputs": [],
   "source": [
    "#제어문 : 조건문 if , 반복문 while, for each"
   ]
  },
  {
   "cell_type": "code",
   "execution_count": 143,
   "id": "a4c66d0f",
   "metadata": {},
   "outputs": [],
   "source": [
    "# 함수(function) : x 값에 따라 y값이 변화하도록 만들어주는 것\n",
    "'''\n",
    "func(x) = 2x + 3일 때 \n",
    "y = func(4)라면 y는 얼마입니까? y = 11\n",
    "y = func(5)라면 y는 얼마입니까? y = 13\n",
    "'''\n",
    "def func(x): # x:parameter\n",
    "    return 2 * x + 3"
   ]
  },
  {
   "cell_type": "code",
   "execution_count": 144,
   "id": "f36a0b97",
   "metadata": {},
   "outputs": [
    {
     "name": "stdout",
     "output_type": "stream",
     "text": [
      "11\n",
      "13\n"
     ]
    }
   ],
   "source": [
    "y = func(4)  # 4 : argument\n",
    "print(y)\n",
    "y = func(5)  # 5 : argument\n",
    "print(y)"
   ]
  },
  {
   "cell_type": "code",
   "execution_count": 146,
   "id": "26e6cb81",
   "metadata": {},
   "outputs": [],
   "source": [
    "'''\n",
    "f(x1 , x2) = 3x1 + 2x2 + 5일때\n",
    "y = f(3, 5)라면 y 값은?\n",
    "'''\n",
    "def f(x1 , x2, x3): # x1, x2 : 매개변수, 가인자 : parameter\n",
    "    return 3 * x1 + 2 * x2 + 5"
   ]
  },
  {
   "cell_type": "code",
   "execution_count": 147,
   "id": "a4eb561c",
   "metadata": {},
   "outputs": [
    {
     "name": "stdout",
     "output_type": "stream",
     "text": [
      "24\n"
     ]
    }
   ],
   "source": [
    "y = f(3, 5 , 6)   # 3, 5 : 인자 , 실안자 : argument\n",
    "print(y)\n",
    "# argument는 parameter에 전달된다. \n",
    "# 그러므로 argument와 parameter의 갯수는 같아야 한다.\n",
    "# argument와 parameter는 1대 1 대응한다.\n",
    "'''\n",
    "\n",
    "# 피 호출함수 : 함수정의\n",
    "def function명(parameter1,parameter2,parameter3,...,parameter_n):\n",
    "    명령문1\n",
    "    명령문2\n",
    "    ....\n",
    "    결과값 = 명령문_n\n",
    "    return  결과값  \n",
    "\n",
    "\n",
    "#       호출함수\n",
    "변수 =  function명(argument1,argument2,argument3,...,argument_n)\n",
    "print(변수)\n",
    "..."
   ]
  },
  {
   "cell_type": "code",
   "execution_count": 149,
   "id": "1a87da96",
   "metadata": {},
   "outputs": [],
   "source": [
    "def sum(x1 , x2): # 피호출함수\n",
    "    return x1 + x2"
   ]
  },
  {
   "cell_type": "code",
   "execution_count": 152,
   "id": "fb06431c",
   "metadata": {},
   "outputs": [
    {
     "name": "stdout",
     "output_type": "stream",
     "text": [
      "8\n",
      "13\n"
     ]
    }
   ],
   "source": [
    "y = sum(3, 5) # 호출함수\n",
    "print(y)\n",
    "y = sum(5, 8)\n",
    "print(y)"
   ]
  },
  {
   "cell_type": "code",
   "execution_count": 153,
   "id": "1bb6ca11",
   "metadata": {},
   "outputs": [
    {
     "name": "stdout",
     "output_type": "stream",
     "text": [
      "3 * 1 = 3\n",
      "3 * 2 = 6\n",
      "3 * 3 = 9\n",
      "3 * 4 = 12\n",
      "3 * 5 = 15\n",
      "3 * 6 = 18\n",
      "3 * 7 = 21\n",
      "3 * 8 = 24\n",
      "3 * 9 = 27\n"
     ]
    }
   ],
   "source": [
    "# 3단 \n",
    "for gop in range(1, 10):\n",
    "    print(f\"3 * {gop} = {3 * gop}\")"
   ]
  },
  {
   "cell_type": "code",
   "execution_count": 154,
   "id": "1b6fb1d9",
   "metadata": {},
   "outputs": [],
   "source": [
    "def gug3():\n",
    "    for gop in range(1, 10):\n",
    "        print(f\"3 * {gop} = {3 * gop}\")"
   ]
  },
  {
   "cell_type": "code",
   "execution_count": null,
   "id": "6e51d6b2",
   "metadata": {},
   "outputs": [],
   "source": [
    "gug3()\n",
    "gug3()\n",
    "gug3()\n",
    "gug3()\n",
    "gug3()"
   ]
  },
  {
   "cell_type": "code",
   "execution_count": 159,
   "id": "e199eab9",
   "metadata": {},
   "outputs": [
    {
     "name": "stdout",
     "output_type": "stream",
     "text": [
      "5 * 1 = 5\n",
      "5 * 2 = 10\n",
      "5 * 3 = 15\n",
      "5 * 4 = 20\n",
      "5 * 5 = 25\n",
      "5 * 6 = 30\n",
      "5 * 7 = 35\n",
      "5 * 8 = 40\n",
      "5 * 9 = 45\n"
     ]
    }
   ],
   "source": [
    "dan = 5\n",
    "for gop in range(1, 10):\n",
    "    print(f\"{dan} * {gop} = {dan * gop}\")"
   ]
  },
  {
   "cell_type": "code",
   "execution_count": 163,
   "id": "37d88389",
   "metadata": {},
   "outputs": [],
   "source": [
    "def guguDan(dan):\n",
    "    for gop in range(1, 10):\n",
    "        print(f\"{dan} * {gop} = {dan * gop}\")"
   ]
  },
  {
   "cell_type": "code",
   "execution_count": 162,
   "id": "19637567",
   "metadata": {},
   "outputs": [
    {
     "name": "stdout",
     "output_type": "stream",
     "text": [
      "4 * 1 = 4\n",
      "4 * 2 = 8\n",
      "4 * 3 = 12\n",
      "4 * 4 = 16\n",
      "4 * 5 = 20\n",
      "4 * 6 = 24\n",
      "4 * 7 = 28\n",
      "4 * 8 = 32\n",
      "4 * 9 = 36\n",
      "7 * 1 = 7\n",
      "7 * 2 = 14\n",
      "7 * 3 = 21\n",
      "7 * 4 = 28\n",
      "7 * 5 = 35\n",
      "7 * 6 = 42\n",
      "7 * 7 = 49\n",
      "7 * 8 = 56\n",
      "7 * 9 = 63\n"
     ]
    }
   ],
   "source": [
    "guguDan(4)\n",
    "guguDan(7)"
   ]
  },
  {
   "cell_type": "code",
   "execution_count": 164,
   "id": "884326d1",
   "metadata": {},
   "outputs": [],
   "source": [
    "# 함수의 유형 : 4가지 유형\n",
    "# 1. 입력값(parameter)이 있고 출력값(return)도 있는 경우\n",
    "def add(x1 , x2):\n",
    "    result = x1 + x2\n",
    "    return result"
   ]
  },
  {
   "cell_type": "code",
   "execution_count": 165,
   "id": "f155669b",
   "metadata": {},
   "outputs": [
    {
     "name": "stdout",
     "output_type": "stream",
     "text": [
      "8\n"
     ]
    }
   ],
   "source": [
    "y = add(3, 5)\n",
    "print(y)"
   ]
  },
  {
   "cell_type": "code",
   "execution_count": 166,
   "id": "73f4c00a",
   "metadata": {},
   "outputs": [],
   "source": [
    "# 2. 입력값은 없고 출력값만 있는 경우\n",
    "def add():\n",
    "    x1 = int(input(\"수를 입력해주세요. : \"))\n",
    "    x2 = int(input(\"수를 입력해주세요 . : \"))\n",
    "    result = x1 + x2\n",
    "    return result"
   ]
  },
  {
   "cell_type": "code",
   "execution_count": 169,
   "id": "54e6c96a",
   "metadata": {},
   "outputs": [
    {
     "name": "stdout",
     "output_type": "stream",
     "text": [
      "수를 입력해주세요. : 4\n",
      "수를 입력해주세요 . : 5\n",
      "9\n"
     ]
    }
   ],
   "source": [
    "y = add()\n",
    "print(y)"
   ]
  },
  {
   "cell_type": "code",
   "execution_count": 170,
   "id": "0daaa77a",
   "metadata": {},
   "outputs": [],
   "source": [
    "# 3. 입력값은 있고 출력값이 없는 경우\n",
    "def add(x1 , x2):\n",
    "    result = x1 + x2\n",
    "    print(result)"
   ]
  },
  {
   "cell_type": "code",
   "execution_count": 172,
   "id": "76f4e240",
   "metadata": {},
   "outputs": [
    {
     "name": "stdout",
     "output_type": "stream",
     "text": [
      "9\n",
      "30\n"
     ]
    }
   ],
   "source": [
    "add(4, 5)\n",
    "add(10, 20)"
   ]
  },
  {
   "cell_type": "code",
   "execution_count": 173,
   "id": "43cf9b1b",
   "metadata": {},
   "outputs": [],
   "source": [
    "# 4. 입력값이 없고 출력값도 없는 경우\n",
    "def add():\n",
    "    x1 = int(input(\"수를 압력하세요. : \"))\n",
    "    x2 = int(input(\"수를 입력하세요. : \"))\n",
    "    result = x1 + x2\n",
    "    print(result)"
   ]
  },
  {
   "cell_type": "code",
   "execution_count": 174,
   "id": "bcbc82c4",
   "metadata": {},
   "outputs": [
    {
     "name": "stdout",
     "output_type": "stream",
     "text": [
      "수를 압력하세요. : 10\n",
      "수를 입력하세요. : 20\n",
      "30\n"
     ]
    }
   ],
   "source": [
    "add()"
   ]
  },
  {
   "cell_type": "code",
   "execution_count": 176,
   "id": "84acb719",
   "metadata": {},
   "outputs": [],
   "source": [
    "def lottoPro():    \n",
    "    #lotto = []\n",
    "    qty = int(input(\"구매 수량을 입력 : \")) # 5\n",
    "    for num in range(qty): #  range(0, 5) ==> 0,1,2,3,4\n",
    "        #for i in range(1, 45 + 1):\n",
    "        #    lotto.append(i)\n",
    "        lotto = [i for i in range(1, 45 + 1)]\n",
    "        size = len(lotto)\n",
    "\n",
    "        for num in range(0, 6):  # range(0, 6) ==> 0,1,2,3,4,5\n",
    "            size -= 1\n",
    "            idx = random.randint(0,size)\n",
    "            lottoNum = lotto.pop(idx);\n",
    "            print(lottoNum, end=\", \")\n",
    "        #lotto.clear\n",
    "        print()"
   ]
  },
  {
   "cell_type": "code",
   "execution_count": 177,
   "id": "66975e9b",
   "metadata": {},
   "outputs": [
    {
     "name": "stdout",
     "output_type": "stream",
     "text": [
      "구매 수량을 입력 : 4\n",
      "24, 36, 37, 25, 19, 41, \n",
      "36, 11, 10, 22, 14, 7, \n",
      "36, 19, 2, 1, 4, 15, \n",
      "22, 15, 43, 42, 1, 5, \n"
     ]
    }
   ],
   "source": [
    "lottoPro()"
   ]
  },
  {
   "cell_type": "code",
   "execution_count": 178,
   "id": "e4c6669a",
   "metadata": {},
   "outputs": [
    {
     "name": "stdout",
     "output_type": "stream",
     "text": [
      "구매 수량을 입력 : 5\n",
      "28, 39, 12, 16, 42, 37, \n",
      "40, 17, 13, 3, 19, 8, \n",
      "40, 9, 29, 41, 1, 13, \n",
      "34, 43, 19, 33, 1, 42, \n",
      "27, 1, 8, 18, 13, 4, \n"
     ]
    }
   ],
   "source": [
    "lottoPro()"
   ]
  },
  {
   "cell_type": "code",
   "execution_count": 179,
   "id": "7f9a96ab",
   "metadata": {},
   "outputs": [],
   "source": [
    "def lottoPro(qty):    \n",
    "    #lotto = []\n",
    "    for num in range(qty): #  range(0, 5) ==> 0,1,2,3,4\n",
    "        #for i in range(1, 45 + 1):\n",
    "        #    lotto.append(i)\n",
    "        lotto = [i for i in range(1, 45 + 1)]\n",
    "        size = len(lotto)\n",
    "\n",
    "        for num in range(0, 6):  # range(0, 6) ==> 0,1,2,3,4,5\n",
    "            size -= 1\n",
    "            idx = random.randint(0,size)\n",
    "            lottoNum = lotto.pop(idx);\n",
    "            print(lottoNum, end=\", \")\n",
    "        #lotto.clear\n",
    "        print()"
   ]
  },
  {
   "cell_type": "code",
   "execution_count": 180,
   "id": "dd3606b0",
   "metadata": {},
   "outputs": [
    {
     "name": "stdout",
     "output_type": "stream",
     "text": [
      "구매 수량을 입력 : 4\n",
      "9, 39, 32, 22, 14, 38, \n",
      "27, 32, 25, 39, 3, 26, \n",
      "39, 32, 22, 18, 15, 40, \n",
      "40, 14, 11, 42, 39, 27, \n"
     ]
    }
   ],
   "source": [
    "qty = int(input(\"구매 수량을 입력 : \")) # 5\n",
    "lottoPro(qty)"
   ]
  },
  {
   "cell_type": "code",
   "execution_count": 181,
   "id": "c64ed2cd",
   "metadata": {},
   "outputs": [
    {
     "name": "stdout",
     "output_type": "stream",
     "text": [
      "22, 36, 18, 27, 39, 3, \n",
      "27, 34, 11, 35, 2, 33, \n",
      "26, 2, 22, 33, 1, 35, \n",
      "6, 42, 33, 41, 23, 4, \n",
      "31, 39, 35, 34, 27, 19, \n"
     ]
    }
   ],
   "source": [
    "lottoPro(5)"
   ]
  },
  {
   "cell_type": "code",
   "execution_count": 185,
   "id": "b3338718",
   "metadata": {},
   "outputs": [],
   "source": [
    "def lottoFunc():\n",
    "    lotto = []\n",
    "    for i in range(1, 45 + 1):\n",
    "        lotto.append(i)\n",
    "\n",
    "    size = len(lotto)\n",
    "\n",
    "    for num in range(0, 6):  # range(0, 6) ==> 0,1,2,3,4,5\n",
    "        size -= 1\n",
    "        idx = random.randint(0,size)\n",
    "        lottoNum = lotto.pop(idx);\n",
    "        print(lottoNum, end=\", \")"
   ]
  },
  {
   "cell_type": "code",
   "execution_count": 189,
   "id": "d81af7e6",
   "metadata": {},
   "outputs": [
    {
     "name": "stdout",
     "output_type": "stream",
     "text": [
      "구매수량을 입력하세요 . : 5\n",
      "16, 5, 14, 39, 38, 42, \n",
      "19, 37, 24, 16, 32, 41, \n",
      "16, 39, 30, 15, 35, 18, \n",
      "26, 3, 40, 20, 35, 5, \n",
      "33, 45, 3, 8, 1, 18, \n"
     ]
    }
   ],
   "source": [
    "qty = int(input(\"구매수량을 입력하세요 . : \"))\n",
    "for i in range(qty):\n",
    "    lottoFunc()\n",
    "    print()"
   ]
  },
  {
   "cell_type": "code",
   "execution_count": 190,
   "id": "2761bbfa",
   "metadata": {},
   "outputs": [],
   "source": [
    "def lottoFun():\n",
    "    qty = int(input(\"구매수량을 입력하세요 . : \"))\n",
    "    for i in range(qty):\n",
    "        lottoFunc()\n",
    "        print()"
   ]
  },
  {
   "cell_type": "code",
   "execution_count": 191,
   "id": "1f1a9413",
   "metadata": {},
   "outputs": [
    {
     "name": "stdout",
     "output_type": "stream",
     "text": [
      "구매수량을 입력하세요 . : 4\n",
      "31, 1, 28, 24, 6, 5, \n",
      "18, 30, 38, 29, 44, 6, \n",
      "26, 25, 45, 42, 12, 29, \n",
      "29, 1, 33, 26, 9, 16, \n"
     ]
    }
   ],
   "source": [
    "lottoFun()"
   ]
  },
  {
   "cell_type": "code",
   "execution_count": 192,
   "id": "437e5a04",
   "metadata": {},
   "outputs": [
    {
     "name": "stdout",
     "output_type": "stream",
     "text": [
      "5050\n"
     ]
    }
   ],
   "source": [
    "# 1 ~ 100까지의 합을 구하시오.\n",
    "sum = 0\n",
    "for num in range(1, 100 + 1):\n",
    "    sum += num\n",
    "print(sum)"
   ]
  },
  {
   "cell_type": "code",
   "execution_count": 193,
   "id": "9b3d24fd",
   "metadata": {},
   "outputs": [],
   "source": [
    "def sum1():\n",
    "    sum = 0\n",
    "    for num in range(1, 100 + 1):\n",
    "        sum += num\n",
    "    print(sum)"
   ]
  },
  {
   "cell_type": "code",
   "execution_count": 196,
   "id": "169fd42a",
   "metadata": {},
   "outputs": [
    {
     "name": "stdout",
     "output_type": "stream",
     "text": [
      "5050\n",
      "5050\n"
     ]
    }
   ],
   "source": [
    "sum1()\n",
    "sum1()"
   ]
  },
  {
   "cell_type": "code",
   "execution_count": 197,
   "id": "3ea5074d",
   "metadata": {},
   "outputs": [],
   "source": [
    "def sum1(start, end):\n",
    "    sum = 0\n",
    "    for num in range(start, end + 1):\n",
    "        sum += num\n",
    "    print(sum)    "
   ]
  },
  {
   "cell_type": "code",
   "execution_count": 199,
   "id": "0aee8f9b",
   "metadata": {},
   "outputs": [
    {
     "name": "stdout",
     "output_type": "stream",
     "text": [
      "5050\n",
      "500455\n"
     ]
    }
   ],
   "source": [
    "sum1(1, 100)\n",
    "sum1(10, 1000)"
   ]
  },
  {
   "cell_type": "code",
   "execution_count": 202,
   "id": "d8f0318d",
   "metadata": {},
   "outputs": [],
   "source": [
    "def sum1(start, end):\n",
    "    sum = 0\n",
    "    for num in range(start, end + 1):\n",
    "        sum += num\n",
    "    return sum "
   ]
  },
  {
   "cell_type": "code",
   "execution_count": 205,
   "id": "98440845",
   "metadata": {},
   "outputs": [
    {
     "name": "stdout",
     "output_type": "stream",
     "text": [
      "5050\n",
      "5005\n"
     ]
    }
   ],
   "source": [
    "y = sum1(1, 100)\n",
    "print(y)\n",
    "y = sum1(10, 100)\n",
    "print(y)"
   ]
  },
  {
   "cell_type": "code",
   "execution_count": 211,
   "id": "ffa96ff2",
   "metadata": {},
   "outputs": [
    {
     "name": "stdout",
     "output_type": "stream",
     "text": [
      "5005\n",
      "5050\n",
      "5050\n"
     ]
    }
   ],
   "source": [
    "# parameter이름을 이용해서 값을 전달\n",
    "y = sum1(end=100, start=10)\n",
    "print(y)\n",
    "y = sum1(start = 1, end= 100)\n",
    "print(y)\n",
    "y = sum1(1, end=100)\n",
    "print(y)"
   ]
  },
  {
   "cell_type": "code",
   "execution_count": 212,
   "id": "6d428707",
   "metadata": {},
   "outputs": [],
   "source": [
    "def sum12(a,b,c,d):\n",
    "    print(a+b+c+d)"
   ]
  },
  {
   "cell_type": "code",
   "execution_count": 215,
   "id": "eff550bc",
   "metadata": {},
   "outputs": [
    {
     "name": "stdout",
     "output_type": "stream",
     "text": [
      "10\n",
      "25\n",
      "42\n"
     ]
    }
   ],
   "source": [
    "sum12(1,2,3,4)\n",
    "sum12(c=10, a=5, d=7, b=3)\n",
    "sum12(10, 20, d= 10, c= 2)"
   ]
  },
  {
   "cell_type": "code",
   "execution_count": 218,
   "id": "5ef51fb3",
   "metadata": {},
   "outputs": [],
   "source": [
    "def sum11(* para):\n",
    "    print(para)\n",
    "    result = 0\n",
    "    for i in para:\n",
    "        result += i\n",
    "    print(result)"
   ]
  },
  {
   "cell_type": "code",
   "execution_count": 220,
   "id": "c34872a4",
   "metadata": {},
   "outputs": [
    {
     "name": "stdout",
     "output_type": "stream",
     "text": [
      "(1, 2)\n",
      "3\n",
      "(1, 2, 3)\n",
      "6\n",
      "(1, 2, 3, 4, 5)\n",
      "15\n",
      "(1, 2, 3, 4, 5)\n",
      "(1, 2, 3, 4, 5)\n"
     ]
    }
   ],
   "source": [
    "sum11(1,2)\n",
    "sum11(1,2,3)\n",
    "sum11(1,2,3,4,5)\n",
    "\n",
    "t = (1,2,3,4,5)\n",
    "print(t)\n",
    "t = 1,2,3,4,5\n",
    "print(t)"
   ]
  },
  {
   "cell_type": "code",
   "execution_count": 224,
   "id": "71a2268c",
   "metadata": {},
   "outputs": [],
   "source": [
    "def sum13(* para):\n",
    "    print(para)\n",
    "    result = 1\n",
    "    if para[0] == 'add':\n",
    "        for idx in range(1, len(para)):\n",
    "            result += para[idx]\n",
    "    elif para[0] == 'mul':\n",
    "        for idx in range(1, len(para)):\n",
    "            result *= para[idx]\n",
    "    elif para[0] == 'sub':\n",
    "        for idx in range(1, len(para)):\n",
    "            result *= para[idx]\n",
    "    print(result)"
   ]
  },
  {
   "cell_type": "code",
   "execution_count": 225,
   "id": "adf6155e",
   "metadata": {},
   "outputs": [
    {
     "name": "stdout",
     "output_type": "stream",
     "text": [
      "('add', 1, 2)\n",
      "4\n",
      "('mul', 1, 2, 3)\n",
      "6\n",
      "('sub', 1, 2, 3, 4, 5)\n",
      "120\n"
     ]
    }
   ],
   "source": [
    "sum13(\"add\",1,2)\n",
    "sum13(\"mul\",1,2,3)\n",
    "sum13(\"sub\",1,2,3,4,5)"
   ]
  },
  {
   "cell_type": "code",
   "execution_count": 232,
   "id": "07db2f4a",
   "metadata": {},
   "outputs": [],
   "source": [
    "def sum13(opt, * para):\n",
    "    print(para)\n",
    "    result = 1\n",
    "    if opt == 'add':\n",
    "        result = 0\n",
    "        for num in para:\n",
    "            result += num\n",
    "    elif opt == 'mul':\n",
    "        for num in para:\n",
    "            result *= num\n",
    "    elif opt == 'sub':\n",
    "        result = 0\n",
    "        for num in para:\n",
    "            result -= num\n",
    "    print(result)"
   ]
  },
  {
   "cell_type": "code",
   "execution_count": 233,
   "id": "e228da26",
   "metadata": {},
   "outputs": [
    {
     "name": "stdout",
     "output_type": "stream",
     "text": [
      "(1, 2)\n",
      "3\n",
      "(1, 2, 3)\n",
      "6\n",
      "(1, 2, 3, 4, 5)\n",
      "-15\n"
     ]
    }
   ],
   "source": [
    "sum13(\"add\",1,2)\n",
    "sum13(\"mul\",1,2,3)\n",
    "sum13(\"sub\",1,2,3,4,5)"
   ]
  },
  {
   "cell_type": "code",
   "execution_count": 234,
   "id": "f01b64f0",
   "metadata": {},
   "outputs": [],
   "source": [
    "def add_mul(x, y):\n",
    "    i = x + y \n",
    "    j = x * y \n",
    "    return i, j\n",
    "\n",
    "# 함수의 기본 : 결과값은 오직 하나이어야 한다."
   ]
  },
  {
   "cell_type": "code",
   "execution_count": 236,
   "id": "1d14cd0b",
   "metadata": {},
   "outputs": [
    {
     "name": "stdout",
     "output_type": "stream",
     "text": [
      "(5, 6)\n",
      "8 15\n"
     ]
    }
   ],
   "source": [
    "y = add_mul(2, 3)\n",
    "print(y)\n",
    "\n",
    "y , z= add_mul(3, 5)\n",
    "print(y, z)"
   ]
  },
  {
   "cell_type": "code",
   "execution_count": 240,
   "id": "50e888b0",
   "metadata": {},
   "outputs": [],
   "source": [
    "def add_mul(x, y):\n",
    "    i = x + y \n",
    "    j = x * y \n",
    "    return i   # retrun은  함수를 종료한다.\n",
    "    return j "
   ]
  },
  {
   "cell_type": "code",
   "execution_count": 241,
   "id": "4207847a",
   "metadata": {},
   "outputs": [
    {
     "name": "stdout",
     "output_type": "stream",
     "text": [
      "None\n"
     ]
    }
   ],
   "source": [
    "y = add_mul(3, 5)\n",
    "print(y)"
   ]
  },
  {
   "cell_type": "code",
   "execution_count": 242,
   "id": "2344c483",
   "metadata": {},
   "outputs": [],
   "source": [
    "#### 매개변수에 초깃값 미리 설정하기 \n",
    "def say_myself(name, old, man):\n",
    "    print(\"나의 이름은 %s입니다\" %  name)\n",
    "    print(\"나의 나이는 %d입니다.\"% old)\n",
    "    if man:\n",
    "        print(\"남자입니다.\")\n",
    "    else:\n",
    "        print(\"여자입니다.\")"
   ]
  },
  {
   "cell_type": "code",
   "execution_count": 246,
   "id": "4311f05c",
   "metadata": {},
   "outputs": [
    {
     "name": "stdout",
     "output_type": "stream",
     "text": [
      "나의 이름은 이숭무입니다\n",
      "나의 나이는 34입니다.\n",
      "남자입니다.\n",
      "나의 이름은 이숭무입니다\n",
      "나의 나이는 5입니다.\n",
      "남자입니다.\n"
     ]
    }
   ],
   "source": [
    "say_myself('이숭무', 34, True)\n",
    "say_myself(man = True, name= '이숭무', old =5)"
   ]
  },
  {
   "cell_type": "code",
   "execution_count": 247,
   "id": "bdcd5306",
   "metadata": {},
   "outputs": [],
   "source": [
    "def say_myself(name, old, man=True):\n",
    "    print(\"나의 이름은 %s입니다\" %  name)\n",
    "    print(\"나의 나이는 %d입니다.\"% old)\n",
    "    if man:\n",
    "        print(\"남자입니다.\")\n",
    "    else:\n",
    "        print(\"여자입니다.\")"
   ]
  },
  {
   "cell_type": "code",
   "execution_count": 250,
   "id": "b4624290",
   "metadata": {},
   "outputs": [
    {
     "name": "stdout",
     "output_type": "stream",
     "text": [
      "나의 이름은 이숭무입니다\n",
      "나의 나이는 35입니다.\n",
      "남자입니다.\n",
      "나의 이름은 박준현입니다\n",
      "나의 나이는 55입니다.\n",
      "여자입니다.\n",
      "나의 이름은 이숭무입니다\n",
      "나의 나이는 35입니다.\n",
      "남자입니다.\n"
     ]
    }
   ],
   "source": [
    "say_myself('이숭무', 35)\n",
    "say_myself('박준현', 55, False)\n",
    "say_myself('이숭무', 35, True)"
   ]
  },
  {
   "cell_type": "code",
   "execution_count": 251,
   "id": "ba201c06",
   "metadata": {},
   "outputs": [],
   "source": [
    "def say_myself(name, old = 35, man=True):\n",
    "    print(\"나의 이름은 %s입니다\" %  name)\n",
    "    print(\"나의 나이는 %d입니다.\"% old)\n",
    "    if man:\n",
    "        print(\"남자입니다.\")\n",
    "    else:\n",
    "        print(\"여자입니다.\")"
   ]
  },
  {
   "cell_type": "code",
   "execution_count": 255,
   "id": "2ecef354",
   "metadata": {},
   "outputs": [
    {
     "name": "stdout",
     "output_type": "stream",
     "text": [
      "나의 이름은 이숭무입니다\n",
      "나의 나이는 35입니다.\n",
      "남자입니다.\n",
      "나의 이름은 이숭무입니다\n",
      "나의 나이는 35입니다.\n",
      "여자입니다.\n",
      "나의 이름은 이숭무입니다\n",
      "나의 나이는 0입니다.\n",
      "남자입니다.\n",
      "나의 이름은 이숭무입니다\n",
      "나의 나이는 50입니다.\n",
      "남자입니다.\n"
     ]
    }
   ],
   "source": [
    "say_myself('이숭무')\n",
    "say_myself('이숭무', man = False)\n",
    "say_myself('이숭무', False)\n",
    "say_myself('이숭무', 50)"
   ]
  },
  {
   "cell_type": "code",
   "execution_count": 256,
   "id": "eb8953da",
   "metadata": {},
   "outputs": [
    {
     "ename": "SyntaxError",
     "evalue": "non-default argument follows default argument (1424017197.py, line 1)",
     "output_type": "error",
     "traceback": [
      "\u001b[1;36m  Cell \u001b[1;32mIn[256], line 1\u001b[1;36m\u001b[0m\n\u001b[1;33m    def say_myself(name, old = 35, man):\u001b[0m\n\u001b[1;37m                                   ^\u001b[0m\n\u001b[1;31mSyntaxError\u001b[0m\u001b[1;31m:\u001b[0m non-default argument follows default argument\n"
     ]
    }
   ],
   "source": [
    "'''\n",
    "def say_myself(name, old = 35, man):\n",
    "    print(\"나의 이름은 %s입니다\" %  name)\n",
    "    print(\"나의 나이는 %d입니다.\"% old)\n",
    "    if man:\n",
    "        print(\"남자입니다.\")\n",
    "    else:\n",
    "        print(\"여자입니다.\")\n",
    "'''"
   ]
  },
  {
   "cell_type": "code",
   "execution_count": 257,
   "id": "011414e9",
   "metadata": {},
   "outputs": [],
   "source": [
    "### lambda함수\n",
    "def add(a, b):\n",
    "    return a+ b;"
   ]
  },
  {
   "cell_type": "code",
   "execution_count": 259,
   "id": "81f55536",
   "metadata": {},
   "outputs": [
    {
     "name": "stdout",
     "output_type": "stream",
     "text": [
      "7\n"
     ]
    }
   ],
   "source": [
    "result = add(3, 4)\n",
    "print(result)"
   ]
  },
  {
   "cell_type": "code",
   "execution_count": 260,
   "id": "2c1c02b6",
   "metadata": {},
   "outputs": [],
   "source": [
    "add = lambda a, b : a+ b"
   ]
  },
  {
   "cell_type": "code",
   "execution_count": 261,
   "id": "703a3fe4",
   "metadata": {},
   "outputs": [
    {
     "name": "stdout",
     "output_type": "stream",
     "text": [
      "7\n"
     ]
    }
   ],
   "source": [
    "result = add(3, 4)\n",
    "print(result)"
   ]
  },
  {
   "cell_type": "code",
   "execution_count": 264,
   "id": "798f32b0",
   "metadata": {},
   "outputs": [],
   "source": [
    "def add(a, b):\n",
    "    print(a + b)\n",
    "add(3, 4)"
   ]
  },
  {
   "cell_type": "code",
   "execution_count": 266,
   "id": "5ae6d5b4",
   "metadata": {},
   "outputs": [
    {
     "name": "stdout",
     "output_type": "stream",
     "text": [
      "7\n"
     ]
    }
   ],
   "source": [
    "add = lambda a, b : print(a + b)\n",
    "add(3, 4)"
   ]
  },
  {
   "cell_type": "code",
   "execution_count": 276,
   "id": "001e425c",
   "metadata": {},
   "outputs": [],
   "source": [
    "def calu(opt , a, b):\n",
    "    if opt == \"add\":\n",
    "        return a + b\n",
    "    else:\n",
    "        return a - b"
   ]
  },
  {
   "cell_type": "code",
   "execution_count": 274,
   "id": "08686c6d",
   "metadata": {},
   "outputs": [],
   "source": [
    "calu = lambda opt , a, b : a + b if opt == \"add\" else a - b"
   ]
  },
  {
   "cell_type": "code",
   "execution_count": 275,
   "id": "5dff81b0",
   "metadata": {},
   "outputs": [
    {
     "name": "stdout",
     "output_type": "stream",
     "text": [
      "10\n"
     ]
    }
   ],
   "source": [
    "result = calu(\"add\", 4, 6)\n",
    "print(result)"
   ]
  },
  {
   "cell_type": "code",
   "execution_count": 277,
   "id": "f92ec7f4",
   "metadata": {},
   "outputs": [
    {
     "name": "stdout",
     "output_type": "stream",
     "text": [
      "덧샘만가능\n"
     ]
    }
   ],
   "source": [
    "calu = lambda opt,a,b: print(a+b) if opt == \"add\" else print(\"덧샘만가능\")\n",
    "calu(\"sub\",4,5)"
   ]
  },
  {
   "cell_type": "code",
   "execution_count": null,
   "id": "95edf107",
   "metadata": {},
   "outputs": [],
   "source": [
    "opt = 'mul'; a = 10; b = 20 \n",
    "if opt == 'add':\n",
    "    result = a + b\n",
    "else:\n",
    "    if opt == 'sub':\n",
    "        result = a - b\n",
    "    else:\n",
    "        if opt == 'mul':\n",
    "            result = a * b\n",
    "        else:\n",
    "            result = a / b"
   ]
  },
  {
   "cell_type": "code",
   "execution_count": 278,
   "id": "4494eb53",
   "metadata": {},
   "outputs": [
    {
     "name": "stdout",
     "output_type": "stream",
     "text": [
      "200\n"
     ]
    }
   ],
   "source": [
    "opt = 'mul'; a = 10; b = 20 \n",
    "result = a + b if opt == 'add' else ( \n",
    "         a - b if opt == 'sub' else ( \n",
    "         a * b if opt == 'mul' else a / b ))\n",
    "print(result)"
   ]
  },
  {
   "cell_type": "code",
   "execution_count": null,
   "id": "31b907c5",
   "metadata": {},
   "outputs": [],
   "source": [
    "def calc(opt, a, b):\n",
    "    if opt == 'add':\n",
    "        return a + b\n",
    "    else:\n",
    "        if opt == 'sub':\n",
    "            return a - b\n",
    "        else:\n",
    "            if opt == 'mul':\n",
    "                return a * b\n",
    "            else:\n",
    "                return  a / b"
   ]
  },
  {
   "cell_type": "code",
   "execution_count": 279,
   "id": "d55e6ed1",
   "metadata": {},
   "outputs": [],
   "source": [
    "calc = lambda opt, a, b : a + b if opt == 'add' else (\n",
    "                          a - b if opt == 'sub' else (\n",
    "                          a * b if opt == 'mul' else \n",
    "                          a / b ))"
   ]
  },
  {
   "cell_type": "code",
   "execution_count": 281,
   "id": "28305f60",
   "metadata": {},
   "outputs": [
    {
     "name": "stdout",
     "output_type": "stream",
     "text": [
      "10\n"
     ]
    }
   ],
   "source": [
    "result = calc(\"add\", 4, 6)\n",
    "print(result)"
   ]
  },
  {
   "cell_type": "code",
   "execution_count": null,
   "id": "2110033f",
   "metadata": {},
   "outputs": [],
   "source": [
    "def add(a, b=4):\n",
    "    return a + b"
   ]
  },
  {
   "cell_type": "code",
   "execution_count": 282,
   "id": "c1b72586",
   "metadata": {},
   "outputs": [],
   "source": [
    "add = lambda a, b=4 : a + b"
   ]
  },
  {
   "cell_type": "code",
   "execution_count": 283,
   "id": "4d85314b",
   "metadata": {},
   "outputs": [
    {
     "name": "stdout",
     "output_type": "stream",
     "text": [
      "7\n"
     ]
    }
   ],
   "source": [
    "result = add(3, 4)\n",
    "print(result)"
   ]
  },
  {
   "cell_type": "code",
   "execution_count": 289,
   "id": "b080e5f1",
   "metadata": {},
   "outputs": [],
   "source": [
    "#전역변수 : 프로그램 전체에서 사용 가능한 변수, 함수밖에 있는 변수\n",
    "#지역변수 : 함수안에서만 사용가능한 변수\n",
    "b = 1 # 전역변수\n",
    "def test3():\n",
    "    b = 100 # 지역변수\n",
    "    c = 1000 # 지역변수\n",
    "    print(\"함수안에 있는 :\" + str(b))\n",
    "    print(\"함수안에 있는 :\" + str(c))"
   ]
  },
  {
   "cell_type": "code",
   "execution_count": 290,
   "id": "5b1ccd11",
   "metadata": {},
   "outputs": [
    {
     "name": "stdout",
     "output_type": "stream",
     "text": [
      "함수안에 있는 :100\n",
      "함수안에 있는 :1000\n",
      "1\n"
     ]
    }
   ],
   "source": [
    "test3()\n",
    "print(b)"
   ]
  },
  {
   "cell_type": "code",
   "execution_count": 291,
   "id": "5ada6397",
   "metadata": {},
   "outputs": [],
   "source": [
    "b = 1 # 전역변수\n",
    "def test3():\n",
    "    global b\n",
    "    b = 100 # 전역변수\n",
    "    c = 1000 # 지역변수\n",
    "    print(\"함수안에 있는 :\" + str(b))\n",
    "    print(\"함수안에 있는 :\" + str(c))"
   ]
  },
  {
   "cell_type": "code",
   "execution_count": 297,
   "id": "fcb5a9f7",
   "metadata": {},
   "outputs": [
    {
     "name": "stdout",
     "output_type": "stream",
     "text": [
      "함수안에 있는 :100\n",
      "함수안에 있는 :1000\n",
      "100\n"
     ]
    }
   ],
   "source": [
    "test3()\n",
    "print(b)\n",
    "# print(c) # 지역변수는 함수 밖에서는 사용할 수 없다."
   ]
  },
  {
   "cell_type": "code",
   "execution_count": 303,
   "id": "cc445f3f",
   "metadata": {},
   "outputs": [],
   "source": [
    "## 파일 입출력\n",
    "## 데이터를 파일에 저장하거나 파일에 있는 내용을 가지고 오는 것\n",
    "## 파일에 데이터 저장\n",
    "#f = open(\"C:\\Users\\soldesk\\Desktop\\파이썬\\python\\data.txt\",\"w\",encoding='UTF-8' )\n",
    "#open(file, mode='r', buffering=None, encoding=None, errors=None, newline=None, closefd=True):\n",
    "f = open(\"data.txt\", \"w\", encoding='UTF-8')\n",
    "f.write(\"1번째줄입니다. \\n\")\n",
    "f.write(\"2번째줄입니다. \\n\")\n",
    "f.write(\"3번째줄입니다. \\n\")\n",
    "f.write(\"4번째줄입니다. \\n\")\n",
    "f.write(\"5번째줄입니다. \\n\")\n",
    "f.close()"
   ]
  },
  {
   "cell_type": "code",
   "execution_count": 304,
   "id": "bb9892e8",
   "metadata": {},
   "outputs": [],
   "source": [
    "f = open(\"data.txt\", \"w\",encoding='UTF-8' ) \n",
    "f.write(\"6번째줄입니다. \\n\")\n",
    "f.write(\"7번째줄입니다. \\n\")\n",
    "f.write(\"8번째줄입니다. \\n\")\n",
    "f.write(\"9번째줄입니다. \\n\")\n",
    "f.write(\"10번째줄입니다. \\n\")\n",
    "f.close()"
   ]
  },
  {
   "cell_type": "code",
   "execution_count": 305,
   "id": "c49e55ae",
   "metadata": {},
   "outputs": [],
   "source": [
    "f = open(\"data.txt\", \"w\",encoding='UTF-8' ) \n",
    "for i in range(1, 11):\n",
    "    f.write(f\"{i}번째줄입니다. \\n\")\n",
    "f.close()"
   ]
  },
  {
   "cell_type": "code",
   "execution_count": 306,
   "id": "a8436a60",
   "metadata": {},
   "outputs": [],
   "source": [
    "f = open(\"data.txt\", \"a\",encoding='UTF-8' ) \n",
    "for i in range(11, 21):\n",
    "    f.write(f\"{i}번째줄입니다. \\n\")\n",
    "f.close()"
   ]
  },
  {
   "cell_type": "code",
   "execution_count": 309,
   "id": "d54a7f94",
   "metadata": {},
   "outputs": [
    {
     "name": "stdout",
     "output_type": "stream",
     "text": [
      "1번째줄입니다. \n",
      "\n",
      "2번째줄입니다. \n",
      "\n",
      "3번째줄입니다. \n",
      "\n",
      "4번째줄입니다. \n",
      "\n",
      "5번째줄입니다. \n",
      "\n"
     ]
    }
   ],
   "source": [
    "f = open(\"data.txt\", \"r\",encoding='UTF-8' ) \n",
    "line = f.readline()\n",
    "print(line)\n",
    "line = f.readline()\n",
    "print(line)\n",
    "line = f.readline()\n",
    "print(line)\n",
    "line = f.readline()\n",
    "print(line)\n",
    "line = f.readline()\n",
    "print(line)\n",
    "f.close()"
   ]
  },
  {
   "cell_type": "code",
   "execution_count": 311,
   "id": "78de5aca",
   "metadata": {},
   "outputs": [
    {
     "name": "stdout",
     "output_type": "stream",
     "text": [
      "1번째줄입니다. \n",
      "2번째줄입니다. \n",
      "3번째줄입니다. \n",
      "4번째줄입니다. \n",
      "5번째줄입니다. \n",
      "6번째줄입니다. \n",
      "7번째줄입니다. \n",
      "8번째줄입니다. \n",
      "9번째줄입니다. \n",
      "10번째줄입니다. \n",
      "11번째줄입니다. \n",
      "12번째줄입니다. \n",
      "13번째줄입니다. \n",
      "14번째줄입니다. \n",
      "15번째줄입니다. \n",
      "16번째줄입니다. \n",
      "17번째줄입니다. \n",
      "18번째줄입니다. \n",
      "19번째줄입니다. \n",
      "20번째줄입니다. \n"
     ]
    }
   ],
   "source": [
    "f = open(\"data.txt\", \"r\",encoding='UTF-8' ) \n",
    "while True:\n",
    "    line = f.readline()\n",
    "    if not line:\n",
    "        break\n",
    "    print(line,end=\"\")\n",
    "f.close()"
   ]
  },
  {
   "cell_type": "code",
   "execution_count": null,
   "id": "444e6663",
   "metadata": {},
   "outputs": [],
   "source": [
    "f = open(\"data.txt\", \"r\",encoding='UTF-8' ) \n",
    "lines = f.readlines()\n",
    "f.close()\n",
    "print(lines)\n",
    "\n",
    "print(\"\".join(lines))\n",
    "\n",
    "for line in lines:\n",
    "    print(line, end=\"\")\n"
   ]
  },
  {
   "cell_type": "code",
   "execution_count": null,
   "id": "ccc1588d",
   "metadata": {},
   "outputs": [],
   "source": [
    "f = open(\"data.txt\",\"r\", encoding = \"utf-8\")\n",
    "data = f.read()\n",
    "f.close()\n",
    "print(data)\n"
   ]
  },
  {
   "cell_type": "code",
   "execution_count": 320,
   "id": "6d9870e3",
   "metadata": {},
   "outputs": [],
   "source": [
    "with open(\"data.txt\",\"w\", encoding = \"utf-8\") as f:\n",
    "    f.write(\"1번째입니다. \\n\")\n",
    "    f.write(\"2번째입니다. \\n\")\n",
    "    f.write(\"3번째입니다. \\n\")\n",
    "    f.write(\"4번째입니다. \\n\")\n",
    "    f.write(\"5번째입니다. \\n\")"
   ]
  },
  {
   "cell_type": "code",
   "execution_count": 321,
   "id": "63d0ba4f",
   "metadata": {},
   "outputs": [],
   "source": [
    "with open(\"data.txt\",\"w\", encoding = \"utf-8\") as f:\n",
    "    for i in range(1, 11):\n",
    "        f.write(f\"{i}번째입니다. \\n\")"
   ]
  },
  {
   "cell_type": "code",
   "execution_count": 322,
   "id": "184b2ef5",
   "metadata": {},
   "outputs": [],
   "source": [
    "with open(\"data.txt\",\"a\", encoding = \"utf-8\") as f:\n",
    "    f.write(\"11번째입니다. \\n\")\n",
    "    f.write(\"12번째입니다. \\n\")\n",
    "    f.write(\"13번째입니다. \\n\")\n",
    "    f.write(\"14번째입니다. \\n\")\n",
    "    f.write(\"15번째입니다. \\n\")"
   ]
  },
  {
   "cell_type": "code",
   "execution_count": 323,
   "id": "b2fb9626",
   "metadata": {},
   "outputs": [],
   "source": [
    "with open(\"data.txt\",\"a\", encoding = \"utf-8\") as f:\n",
    "    for i in range(15,21):\n",
    "        f.write(f\"{i}번째입니다. \\n\")"
   ]
  },
  {
   "cell_type": "code",
   "execution_count": null,
   "id": "36839616",
   "metadata": {},
   "outputs": [],
   "source": [
    "with open(\"data.txt\",\"r\", encoding = \"utf-8\") as f:\n",
    "    data = f.read()\n",
    "print(data)"
   ]
  },
  {
   "cell_type": "code",
   "execution_count": null,
   "id": "93616f6a",
   "metadata": {},
   "outputs": [],
   "source": [
    "# class : 변수, 함수를 하나로 묶어서 반복적으로 사용\n",
    "result = 1 #전역변수\n",
    "def f(x):  # 함수\n",
    "    global reulst \n",
    "    result += x"
   ]
  },
  {
   "cell_type": "code",
   "execution_count": 332,
   "id": "7d3c5c9e",
   "metadata": {},
   "outputs": [],
   "source": [
    "class TestF:\n",
    "    result = 1 # 멤버 변수\n",
    "    def f(self, x): # 메서드\n",
    "        self.result += x\n",
    "# 클래스안에 있는 메서드는 멤버변수를 사용하기 위해서 만든 것이다."
   ]
  },
  {
   "cell_type": "code",
   "execution_count": 334,
   "id": "4a3f9a7f",
   "metadata": {},
   "outputs": [
    {
     "name": "stdout",
     "output_type": "stream",
     "text": [
      "1\n",
      "이숭무\n",
      "1\n",
      "11\n"
     ]
    }
   ],
   "source": [
    "a = 1\n",
    "print(a)\n",
    "a = \"이숭무\"\n",
    "print(a)\n",
    "a = TestF() # result, f()\n",
    "print(a.result)\n",
    "a.f(10)\n",
    "print(a.result)"
   ]
  },
  {
   "cell_type": "code",
   "execution_count": 337,
   "id": "7de37391",
   "metadata": {},
   "outputs": [],
   "source": [
    "a = TestF() # result, f()\n",
    "b = TestF() # result , f()"
   ]
  },
  {
   "cell_type": "code",
   "execution_count": 338,
   "id": "ffabd865",
   "metadata": {},
   "outputs": [
    {
     "name": "stdout",
     "output_type": "stream",
     "text": [
      "10\n",
      "1\n"
     ]
    }
   ],
   "source": [
    "a.result = 10\n",
    "print(a.result)\n",
    "print(b.result)"
   ]
  },
  {
   "cell_type": "code",
   "execution_count": 339,
   "id": "72f234d0",
   "metadata": {},
   "outputs": [],
   "source": [
    "c = TestF()"
   ]
  },
  {
   "cell_type": "code",
   "execution_count": 341,
   "id": "29300470",
   "metadata": {},
   "outputs": [
    {
     "name": "stdout",
     "output_type": "stream",
     "text": [
      "100\n",
      "10\n",
      "1\n"
     ]
    }
   ],
   "source": [
    "b.result = 100\n",
    "print(b.result)\n",
    "print(a.result)\n",
    "print(c.result)"
   ]
  },
  {
   "cell_type": "code",
   "execution_count": null,
   "id": "e65f6a4f",
   "metadata": {},
   "outputs": [],
   "source": [
    "####  class 구성요소 : 변수(맴버필드) , 메서드 \n",
    "class Calculator:\n",
    "    num1 = 0 # 멤버필드 :멤버필드임을 나타내기 위해 멤버필드앞에 self를 적어준다.\n",
    "    num2 = 0\n",
    "    def add(self, num1, num2):\n",
    "        self.num1 = num1\n",
    "        self.num2 = num2\n",
    "        self.result = self.num1 + self.num2\n",
    "    def sub(self, num1, num2):\n",
    "        self.num1 = num1\n",
    "        self.num2 = num2\n",
    "        self.result = self.num1 - self.num2"
   ]
  },
  {
   "cell_type": "code",
   "execution_count": 342,
   "id": "1dc30aab",
   "metadata": {},
   "outputs": [],
   "source": [
    "class Calculator:\n",
    "    # 파이썬에서는 멤버필드를 생략할 수 있다.\n",
    "    # self를 가진 변수가 암시적으로 멤버필드가 된다.\n",
    "    # 멤버필드를 사용하기 위해서는 멤버필드가 초기화되어야 한다.\n",
    "    def add(self, num1, num2):\n",
    "        self.num1 = num1\n",
    "        self.num2 = num2\n",
    "        self.result = self.num1 + self.num2\n",
    "    def sub(self, num1, num2):\n",
    "        self.num1 = num1\n",
    "        self.num2 = num2\n",
    "        self.result = self.num1 - self.num2"
   ]
  },
  {
   "cell_type": "code",
   "execution_count": 345,
   "id": "b98530ec",
   "metadata": {},
   "outputs": [
    {
     "name": "stdout",
     "output_type": "stream",
     "text": [
      "30\n",
      "10\n",
      "20\n"
     ]
    }
   ],
   "source": [
    "a = Calculator()\n",
    "a.add(10,20)\n",
    "print(a.result)\n",
    "print(a.num1)\n",
    "print(a.num2)"
   ]
  },
  {
   "cell_type": "code",
   "execution_count": 351,
   "id": "a42c1cc2",
   "metadata": {},
   "outputs": [],
   "source": [
    "class Calculator:\n",
    "    def setData(self, num1, num2):\n",
    "        self.num1 = num1\n",
    "        self.num2 = num2\n",
    "    def add(self):\n",
    "        self.result = self.num1 + self.num2\n",
    "    def sub(self):\n",
    "        self.result = self.num1 - self.num2"
   ]
  },
  {
   "cell_type": "code",
   "execution_count": 353,
   "id": "5022306c",
   "metadata": {},
   "outputs": [
    {
     "name": "stdout",
     "output_type": "stream",
     "text": [
      "10\n",
      "20\n",
      "30\n",
      "30\n"
     ]
    }
   ],
   "source": [
    "a = Calculator()\n",
    "a.setData(10, 20)\n",
    "print(a.num1)\n",
    "print(a.num2)\n",
    "a.add()\n",
    "print(a.result)\n",
    "y = a.result\n",
    "print(y)"
   ]
  },
  {
   "cell_type": "code",
   "execution_count": null,
   "id": "6a6a6cf8",
   "metadata": {},
   "outputs": [],
   "source": [
    "\n"
   ]
  },
  {
   "cell_type": "code",
   "execution_count": null,
   "id": "6be4a1ba",
   "metadata": {},
   "outputs": [],
   "source": []
  },
  {
   "cell_type": "code",
   "execution_count": null,
   "id": "904d8778",
   "metadata": {},
   "outputs": [],
   "source": []
  },
  {
   "cell_type": "code",
   "execution_count": null,
   "id": "1c30f525",
   "metadata": {},
   "outputs": [],
   "source": []
  },
  {
   "cell_type": "code",
   "execution_count": null,
   "id": "27ce9799",
   "metadata": {},
   "outputs": [],
   "source": []
  },
  {
   "cell_type": "code",
   "execution_count": null,
   "id": "04873f72",
   "metadata": {},
   "outputs": [],
   "source": []
  },
  {
   "cell_type": "code",
   "execution_count": null,
   "id": "0a330fa1",
   "metadata": {},
   "outputs": [],
   "source": []
  }
 ],
 "metadata": {
  "kernelspec": {
   "display_name": "Python 3 (ipykernel)",
   "language": "python",
   "name": "python3"
  },
  "language_info": {
   "codemirror_mode": {
    "name": "ipython",
    "version": 3
   },
   "file_extension": ".py",
   "mimetype": "text/x-python",
   "name": "python",
   "nbconvert_exporter": "python",
   "pygments_lexer": "ipython3",
   "version": "3.11.4"
  }
 },
 "nbformat": 4,
 "nbformat_minor": 5
}
