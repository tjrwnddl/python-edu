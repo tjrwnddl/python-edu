{
 "cells": [
  {
   "cell_type": "markdown",
   "metadata": {
    "id": "SQ7Of14tMqgk"
   },
   "source": [
    "# 파이썬 맛보기\n",
    "\n",
    "우리가 앞으로 배울 파이썬을 활용한 예제 코드들을 간단하게 미리 살펴봅시다"
   ]
  },
  {
   "cell_type": "markdown",
   "metadata": {
    "id": "_IYPddlsMqgl"
   },
   "source": [
    "https://namu.wiki/w/Hello%2C%20world!"
   ]
  },
  {
   "cell_type": "code",
   "execution_count": null,
   "metadata": {
    "id": "lf4bPHn_Mqgm",
    "outputId": "84095458-ea3f-4c0a-e51f-dde60ce6359b"
   },
   "outputs": [
    {
     "name": "stdout",
     "output_type": "stream",
     "text": [
      "Hello, World!\n"
     ]
    }
   ],
   "source": [
    "print('Hello, World!')"
   ]
  },
  {
   "cell_type": "markdown",
   "metadata": {
    "id": "jMMcUHT8Mqgn"
   },
   "source": [
    "### 1. 숫자 계산하기"
   ]
  },
  {
   "cell_type": "code",
   "execution_count": null,
   "metadata": {
    "id": "pbxARmn8Mqgn",
    "outputId": "0071eeeb-ef5e-4af8-d336-7b4ec25fc968"
   },
   "outputs": [
    {
     "data": {
      "text/plain": [
       "4"
      ]
     },
     "execution_count": 1,
     "metadata": {},
     "output_type": "execute_result"
    }
   ],
   "source": [
    "1 + 3 #덧셈"
   ]
  },
  {
   "cell_type": "code",
   "execution_count": null,
   "metadata": {
    "id": "ekmWew-DMqgn",
    "outputId": "dd254fb1-5b02-4f6e-f4a7-59e44c3e89d5"
   },
   "outputs": [
    {
     "data": {
      "text/plain": [
       "-23"
      ]
     },
     "execution_count": 2,
     "metadata": {},
     "output_type": "execute_result"
    }
   ],
   "source": [
    "14 - 37 #뺄셈"
   ]
  },
  {
   "cell_type": "code",
   "execution_count": null,
   "metadata": {
    "id": "pTrEwNv3Mqgo",
    "outputId": "f0c1b438-cfb7-46d0-ae3f-47dc2fcc431d"
   },
   "outputs": [
    {
     "data": {
      "text/plain": [
       "3.5"
      ]
     },
     "execution_count": 13,
     "metadata": {},
     "output_type": "execute_result"
    }
   ],
   "source": [
    "7/2 #나눗셈"
   ]
  },
  {
   "cell_type": "code",
   "execution_count": null,
   "metadata": {
    "id": "wevvcUAYMqgo",
    "outputId": "d5728ac3-860a-4e77-828a-f5b680bc9c22"
   },
   "outputs": [
    {
     "data": {
      "text/plain": [
       "28.274328000000004"
      ]
     },
     "execution_count": 8,
     "metadata": {},
     "output_type": "execute_result"
    }
   ],
   "source": [
    "3.141592 * 3 * 3 #곱셈"
   ]
  },
  {
   "cell_type": "code",
   "execution_count": null,
   "metadata": {
    "id": "LgEWYyc7Mqgo",
    "outputId": "a96e7beb-164e-4be5-df7d-de8e2778357b"
   },
   "outputs": [
    {
     "data": {
      "text/plain": [
       "28.274328"
      ]
     },
     "execution_count": 9,
     "metadata": {},
     "output_type": "execute_result"
    }
   ],
   "source": [
    "3.141592 * (3 ** 2) #거듭제곱"
   ]
  },
  {
   "cell_type": "markdown",
   "metadata": {
    "id": "EDqoavK_Mqgo"
   },
   "source": [
    "### 2. 변수와 구조체 만들기"
   ]
  },
  {
   "cell_type": "code",
   "execution_count": null,
   "metadata": {
    "id": "Tmyx_clZMqgp",
    "outputId": "395218f5-8389-4042-8823-81dfe643608e"
   },
   "outputs": [
    {
     "name": "stdout",
     "output_type": "stream",
     "text": [
      "28.274328\n"
     ]
    }
   ],
   "source": [
    "r = 3 \n",
    "pi  = 3.141592\n",
    "\n",
    "circle = pi * r ** 2\n",
    "print(circle)"
   ]
  },
  {
   "cell_type": "code",
   "execution_count": null,
   "metadata": {
    "id": "UQVLzyu-Mqgp",
    "outputId": "bdaccf03-f3b5-4b53-d879-dd8cfc59bec0"
   },
   "outputs": [
    {
     "name": "stdout",
     "output_type": "stream",
     "text": [
      "10\n"
     ]
    }
   ],
   "source": [
    "# 대입 연산자\n",
    "a = 1\n",
    "b = 2\n",
    "c = 3\n",
    "d = 4\n",
    "\n",
    "s = a + b + c + d \n",
    "print(s)"
   ]
  },
  {
   "cell_type": "code",
   "execution_count": null,
   "metadata": {
    "id": "amrjSR1pMqgp",
    "outputId": "3685bc6d-80f4-40a0-c1f9-ca01f1c9729b"
   },
   "outputs": [
    {
     "name": "stdout",
     "output_type": "stream",
     "text": [
      "9\n"
     ]
    }
   ],
   "source": [
    "odd_number = [1, 3, 5, 7, 9]\n",
    "print(max(odd_number))"
   ]
  },
  {
   "cell_type": "code",
   "execution_count": null,
   "metadata": {
    "id": "15u2W1WIMqgp",
    "outputId": "78bbcacf-7f54-4e9a-ca42-900cc0e0f352"
   },
   "outputs": [
    {
     "name": "stdout",
     "output_type": "stream",
     "text": [
      "1000 Won\n"
     ]
    }
   ],
   "source": [
    "price = {'apple' : 1000, 'banana' : 300, 'cherry' : 2500}\n",
    "print(price['apple'], 'Won')"
   ]
  },
  {
   "cell_type": "markdown",
   "metadata": {
    "id": "QcSqsCgCMqgp"
   },
   "source": [
    "### 3. 조건 확인하기"
   ]
  },
  {
   "cell_type": "code",
   "execution_count": null,
   "metadata": {
    "id": "kXGZaJGAMqgq",
    "outputId": "49fa0728-ac1b-4db6-c509-db3d662081eb"
   },
   "outputs": [
    {
     "data": {
      "text/plain": [
       "True"
      ]
     },
     "execution_count": 10,
     "metadata": {},
     "output_type": "execute_result"
    }
   ],
   "source": [
    "4 > 3 #크다/작다"
   ]
  },
  {
   "cell_type": "code",
   "execution_count": null,
   "metadata": {
    "id": "QYy0WKlIMqgq",
    "outputId": "a24153ee-da29-40f6-ec09-486c80a0298c"
   },
   "outputs": [
    {
     "data": {
      "text/plain": [
       "False"
      ]
     },
     "execution_count": 11,
     "metadata": {},
     "output_type": "execute_result"
    }
   ],
   "source": [
    "-7 == 9 #같다"
   ]
  },
  {
   "cell_type": "code",
   "execution_count": null,
   "metadata": {
    "id": "WNQV-uhQMqgq",
    "outputId": "b176e725-dd4f-467f-f224-1a185c66ec37"
   },
   "outputs": [
    {
     "data": {
      "text/plain": [
       "True"
      ]
     },
     "execution_count": 15,
     "metadata": {},
     "output_type": "execute_result"
    }
   ],
   "source": [
    "3.1415 * (3 ** 2) >= 1/2 * 5**2 #원과 직각 삼각형의 넓이 비교"
   ]
  },
  {
   "cell_type": "markdown",
   "metadata": {
    "id": "ajCliZEkMqgq"
   },
   "source": [
    "#### 3.1 조건에 따른 분기문"
   ]
  },
  {
   "cell_type": "code",
   "execution_count": null,
   "metadata": {
    "id": "DHtVYTrmMqgq",
    "outputId": "a324465f-c5b5-4867-96cc-6eec0e765f86"
   },
   "outputs": [
    {
     "name": "stdout",
     "output_type": "stream",
     "text": [
      "원이 더 큽니다.\n"
     ]
    }
   ],
   "source": [
    "r = 3 \n",
    "pi  = 3.141592\n",
    "circle = pi * r ** 2\n",
    "\n",
    "a = 5\n",
    "tri = a * a / 2\n",
    "\n",
    "if circle >= tri :\n",
    "    print('원이 더 큽니다.')\n",
    "else :\n",
    "    print('삼각형이 더 큽니다.')"
   ]
  },
  {
   "cell_type": "markdown",
   "metadata": {
    "id": "Ir9gFUS-Mqgq"
   },
   "source": [
    "### 4. 반복문"
   ]
  },
  {
   "cell_type": "code",
   "execution_count": null,
   "metadata": {
    "id": "BsS8jnx8Mqgr",
    "outputId": "69f06e93-209e-428d-d056-473714133d1b"
   },
   "outputs": [
    {
     "name": "stdout",
     "output_type": "stream",
     "text": [
      "1\n",
      "2\n",
      "3\n",
      "4\n"
     ]
    }
   ],
   "source": [
    "for number in [1, 2, 3, 4]:\n",
    "    print(number)"
   ]
  },
  {
   "cell_type": "code",
   "execution_count": null,
   "metadata": {
    "id": "T1_lxxAZMqgr",
    "outputId": "78fdd4d6-6bcb-40b4-f535-f77655275f3f"
   },
   "outputs": [
    {
     "name": "stdout",
     "output_type": "stream",
     "text": [
      "10\n"
     ]
    }
   ],
   "source": [
    "s = 0\n",
    "for number in [1, 2, 3, 4]:\n",
    "    s = s + number\n",
    "    \n",
    "print(s)"
   ]
  },
  {
   "cell_type": "markdown",
   "metadata": {
    "id": "qmZyLvOMMqgr"
   },
   "source": [
    "### 5. I/O (입력과 출력)"
   ]
  },
  {
   "cell_type": "code",
   "execution_count": null,
   "metadata": {
    "id": "g7t2VuEMMqgr",
    "outputId": "aa668075-34c5-461b-a054-2a458b70ebd0"
   },
   "outputs": [
    {
     "name": "stdout",
     "output_type": "stream",
     "text": [
      "hello world!\n"
     ]
    }
   ],
   "source": [
    "#출력하기\n",
    "print('hello world!')"
   ]
  },
  {
   "cell_type": "code",
   "execution_count": null,
   "metadata": {
    "id": "U1aRzldGMqgr",
    "outputId": "b01479e0-2f6d-41be-ce2c-8de0f1ae9430"
   },
   "outputs": [
    {
     "name": "stdout",
     "output_type": "stream",
     "text": [
      "3\n"
     ]
    }
   ],
   "source": [
    "print(3) #숫자 출력하기"
   ]
  },
  {
   "cell_type": "code",
   "execution_count": null,
   "metadata": {
    "id": "vm9ZaraMMqgr",
    "outputId": "e2fb82e2-b77e-4084-8b36-25d57fafc706"
   },
   "outputs": [
    {
     "name": "stdout",
     "output_type": "stream",
     "text": [
      "28.274328\n"
     ]
    }
   ],
   "source": [
    "pi = 3.141592\n",
    "print(pi * 3**2) # print 내에 코드가 들어올 수 있다"
   ]
  },
  {
   "cell_type": "code",
   "execution_count": null,
   "metadata": {
    "id": "3DO1TJPUMqgs",
    "outputId": "f002a28c-5f57-4cfd-9836-29c58a7efe0b"
   },
   "outputs": [
    {
     "name": "stdout",
     "output_type": "stream",
     "text": [
      "삼각형의 넓이는 12.5 입니다\n"
     ]
    }
   ],
   "source": [
    "a = 5\n",
    "print('삼각형의 넓이는', a*a/2, '입니다') #한번에 여러개가 들어올 수 있다."
   ]
  },
  {
   "cell_type": "code",
   "execution_count": null,
   "metadata": {
    "id": "ZsYGMsQPMqgs",
    "outputId": "060591d8-af2a-4499-fecf-19447314d67d"
   },
   "outputs": [
    {
     "name": "stdout",
     "output_type": "stream",
     "text": [
      "12\n"
     ]
    }
   ],
   "source": [
    "# 사용자 입력 받기 <-- 코딩 테스트 문제 풀 때 많이 씁니다.\n",
    "my_number = input('enter your number : ')\n",
    "print(my_number)"
   ]
  },
  {
   "cell_type": "code",
   "execution_count": null,
   "metadata": {
    "id": "AJGMSUBmMqgs",
    "outputId": "87a57ec8-22b0-4d79-a31c-72e3afbe9913"
   },
   "outputs": [
    {
     "name": "stdout",
     "output_type": "stream",
     "text": [
      "28.274328\n"
     ]
    }
   ],
   "source": [
    "#사용자 입력을 받아서 원의 넓이 구하기 \n",
    "my_radius = input('enter your number : ')\n",
    "print(pi * int(my_radius)**2) "
   ]
  },
  {
   "cell_type": "markdown",
   "metadata": {
    "id": "Jbxs8Cn1Mqgs"
   },
   "source": [
    "#### 5.1 파일 입출력"
   ]
  },
  {
   "cell_type": "code",
   "execution_count": null,
   "metadata": {
    "id": "4zLxRhIkMqgs"
   },
   "outputs": [],
   "source": [
    "#새로운 파일 만들기\n",
    "with open('out_file.txt', 'wt') as f:\n",
    "    f.write('짜잔 새로운 파일을 만들었습니다!!!')    "
   ]
  },
  {
   "cell_type": "code",
   "execution_count": null,
   "metadata": {
    "id": "eo14VnOsMqgt",
    "outputId": "595675ea-6d03-4624-c924-76115651c2c0"
   },
   "outputs": [
    {
     "name": "stdout",
     "output_type": "stream",
     "text": [
      "짜잔 새로운 파일을 만들었습니다!!!\n"
     ]
    }
   ],
   "source": [
    "#파일 읽어오기\n",
    "with open('out_file.txt', 'rt') as f:\n",
    "    text = f.read()\n",
    "    print(text)    "
   ]
  },
  {
   "cell_type": "markdown",
   "metadata": {
    "id": "oIjHHL2NMqgt"
   },
   "source": [
    "### 6. 많이 쓰는 기능들 미리 선언하기 (함수)\n",
    "\n",
    "여기에서부터 일반적으로 `프로그래밍`이라고 부릅니다.\n",
    "\n",
    "이제 우리는 좀 더 멋진 걸 할 수 있죠"
   ]
  },
  {
   "cell_type": "code",
   "execution_count": null,
   "metadata": {
    "id": "t9KzI9cDMqgt",
    "outputId": "dbbd970e-79c3-4eeb-ac6b-c9456b46ca8d"
   },
   "outputs": [
    {
     "name": "stdout",
     "output_type": "stream",
     "text": [
      "반지름이 3인 원의 넓이는 28.274328 입니다\n",
      "높이가 5인 직각 이등변 삼각형의 넓이는 12.5 입니다\n"
     ]
    }
   ],
   "source": [
    "def calc_circle_area(r):\n",
    "    pi = 3.141592\n",
    "    area = pi * r ** 2\n",
    "    return area\n",
    "\n",
    "def calc_tri_area(a):\n",
    "    return a*a/2\n",
    "\n",
    "r = 3\n",
    "print(f'반지름이 {r}인 원의 넓이는 {calc_circle_area(r)} 입니다')\n",
    "\n",
    "a = 5\n",
    "print(f'높이가 {a}인 직각 이등변 삼각형의 넓이는 {calc_tri_area(a)} 입니다')"
   ]
  },
  {
   "cell_type": "code",
   "execution_count": null,
   "metadata": {
    "id": "_8yV947pMqgt",
    "outputId": "a68b0079-9f1b-4223-ab11-ff58069e179f"
   },
   "outputs": [
    {
     "name": "stdout",
     "output_type": "stream",
     "text": [
      "삼각형의 면적이 더 큽니다.\n"
     ]
    }
   ],
   "source": [
    "def compare_area(name1:str, area1:int, name2:str, area2:int):\n",
    "    if area1 >= area2 :\n",
    "        print(f'{name1}의 면적이 더 큽니다.')\n",
    "    else :\n",
    "        \n",
    "        print(f'{name2}의 면적이 더 큽니다.')\n",
    "        \n",
    "c_area = calc_circle_area(3)\n",
    "t_area = calc_tri_area(8)\n",
    "\n",
    "compare_area('원', c_area, '삼각형', t_area)"
   ]
  },
  {
   "cell_type": "markdown",
   "metadata": {
    "id": "Cz0p_XSVMvIB"
   },
   "source": [
    "#### Tip \n",
    "잘 모를 때에는 뒤에 ?를 붙이고 실행해 봅시다."
   ]
  },
  {
   "cell_type": "code",
   "execution_count": 1,
   "metadata": {
    "executionInfo": {
     "elapsed": 10,
     "status": "ok",
     "timestamp": 1684788181310,
     "user": {
      "displayName": "Jt k",
      "userId": "13310786192597199844"
     },
     "user_tz": -540
    },
    "id": "n25ouxI1Mqgt"
   },
   "outputs": [],
   "source": [
    "print?"
   ]
  }
 ],
 "metadata": {
  "colab": {
   "provenance": []
  },
  "kernelspec": {
   "display_name": "Python 3 (ipykernel)",
   "language": "python",
   "name": "python3"
  },
  "language_info": {
   "codemirror_mode": {
    "name": "ipython",
    "version": 3
   },
   "file_extension": ".py",
   "mimetype": "text/x-python",
   "name": "python",
   "nbconvert_exporter": "python",
   "pygments_lexer": "ipython3",
   "version": "3.11.4"
  }
 },
 "nbformat": 4,
 "nbformat_minor": 1
}
