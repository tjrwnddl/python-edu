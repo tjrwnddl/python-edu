{
 "cells": [
  {
   "cell_type": "markdown",
   "metadata": {},
   "source": [
    "전에 배웠던 이야기들!!"
   ]
  },
  {
   "cell_type": "code",
   "execution_count": 144,
   "metadata": {},
   "outputs": [
    {
     "name": "stdout",
     "output_type": "stream",
     "text": [
      "[1 2 3]\n"
     ]
    }
   ],
   "source": [
    "import numpy as np\n",
    "x = np.array([1,2,3])\n",
    "y = np.array([4,5,6])\n",
    "z=x+y\n",
    "z\n",
    "z=np.concatenate((x,y))\n",
    "print(x)\n"
   ]
  },
  {
   "cell_type": "markdown",
   "metadata": {},
   "source": [
    "오늘 부터 배울 내용 \n"
   ]
  },
  {
   "cell_type": "code",
   "execution_count": 53,
   "metadata": {},
   "outputs": [
    {
     "data": {
      "text/plain": [
       "array([5, 7, 9])"
      ]
     },
     "execution_count": 53,
     "metadata": {},
     "output_type": "execute_result"
    }
   ],
   "source": [
    "# 유니버설 함수(UFunction)\n",
    "l1 = [1,2,3]\n",
    "l2 = [4,5,6]\n",
    "\n",
    "l1 + l2\n",
    "x+y"
   ]
  },
  {
   "cell_type": "code",
   "execution_count": 54,
   "metadata": {},
   "outputs": [],
   "source": [
    "def add(l1,l2):\n",
    "    l4 = []\n",
    "    i = 0\n",
    "    while i < len(l1):\n",
    "        l4.append(l1[i]+l2[i])\n",
    "        i+=1\n",
    "    return l4"
   ]
  },
  {
   "cell_type": "code",
   "execution_count": 55,
   "metadata": {},
   "outputs": [
    {
     "name": "stdout",
     "output_type": "stream",
     "text": [
      "[5, 7, 9]\n"
     ]
    }
   ],
   "source": [
    "result = add(l1, l2)\n",
    "print(result)\n",
    "\n"
   ]
  },
  {
   "cell_type": "code",
   "execution_count": 56,
   "metadata": {},
   "outputs": [
    {
     "name": "stdout",
     "output_type": "stream",
     "text": [
      "[5 7 9]\n",
      "[-3 -3 -3]\n",
      "[ 4 10 18]\n"
     ]
    },
    {
     "data": {
      "text/plain": [
       "array([  1,  32, 729])"
      ]
     },
     "execution_count": 56,
     "metadata": {},
     "output_type": "execute_result"
    }
   ],
   "source": [
    "result = np.add(x,y)\n",
    "print(result)\n",
    "result=np.subtract(x,y)\n",
    "print(result)\n",
    "result=np.multiply(x,y)\n",
    "print(result)\n",
    "\n",
    "x+y\n",
    "x-y\n",
    "x*y\n",
    "x**y\n"
   ]
  },
  {
   "cell_type": "code",
   "execution_count": 57,
   "metadata": {},
   "outputs": [
    {
     "name": "stdout",
     "output_type": "stream",
     "text": [
      "[[0]\n",
      " [1]\n",
      " [2]]\n",
      "[0 1 2]\n"
     ]
    },
    {
     "data": {
      "text/plain": [
       "array([[0, 1, 2],\n",
       "       [1, 2, 3],\n",
       "       [2, 3, 4]])"
      ]
     },
     "execution_count": 57,
     "metadata": {},
     "output_type": "execute_result"
    }
   ],
   "source": [
    "import numpy as np\n",
    "# 브로드 캐스트 같은 차원으로 확장되는것을 말함.\n",
    "a=np.arange(3) # [0 1 2]\n",
    "a\n",
    "b=a[:, np.newaxis]  #\n",
    "print(b)\n",
    "\n",
    "# [1 2 3] + [5 5 5] = [6 7 8 ]\n",
    "z = a + 5 # [1 2 3] + 5 ========> [1 2 3] + [5 5 5]\n",
    "z\n",
    "print(a)\n",
    "z=a+b\n",
    "'''\n",
    "[1 2 3] [[1],    >> [1 2 3]  [1],[1],[1]\n",
    "         [2],    >> [1 2 3]  [2],[2],[2] \n",
    "         [3]]    >> [1 2 3]  [3],[3],[3] \n",
    "'''\n",
    "z"
   ]
  },
  {
   "cell_type": "code",
   "execution_count": 58,
   "metadata": {},
   "outputs": [
    {
     "name": "stdout",
     "output_type": "stream",
     "text": [
      "[[1. 1. 1.]\n",
      " [1. 1. 1.]\n",
      " [1. 1. 1.]]\n",
      "[[0. 0. 0.]\n",
      " [0. 0. 0.]\n",
      " [0. 0. 0.]]\n"
     ]
    }
   ],
   "source": [
    "import numpy as np\n",
    "m = np.ones((3,3))\n",
    "print(m)\n",
    "\n",
    "m=np.zeros((3,3))\n",
    "print(m)"
   ]
  },
  {
   "cell_type": "code",
   "execution_count": 59,
   "metadata": {},
   "outputs": [
    {
     "name": "stdout",
     "output_type": "stream",
     "text": [
      "[0.11093067 0.51737798 0.3933266 ]\n",
      "1.0216352546221523\n",
      "1.0216352546221523\n",
      "967 ns ± 10.3 ns per loop (mean ± std. dev. of 7 runs, 1,000,000 loops each)\n",
      "3.53 µs ± 72.3 ns per loop (mean ± std. dev. of 7 runs, 100,000 loops each)\n"
     ]
    }
   ],
   "source": [
    "# 집계\n",
    "m=np.random.random((3))\n",
    "print(m)\n",
    "print(sum(m))\n",
    "print(np.sum(m))\n",
    "\n",
    "%timeit sum(m)\n",
    "%timeit np.sum(m)\n"
   ]
  },
  {
   "cell_type": "code",
   "execution_count": 60,
   "metadata": {},
   "outputs": [
    {
     "data": {
      "text/plain": [
       "10"
      ]
     },
     "execution_count": 60,
     "metadata": {},
     "output_type": "execute_result"
    }
   ],
   "source": [
    "l= [1,2,3,4]\n",
    "sum(l)\n",
    "t=(1,2,3,4)\n",
    "sum(t)\n"
   ]
  },
  {
   "cell_type": "code",
   "execution_count": 61,
   "metadata": {},
   "outputs": [
    {
     "name": "stdout",
     "output_type": "stream",
     "text": [
      "6.411243376948423\n",
      "6.411243376948423\n",
      "0.9565238361521081\n",
      "0.9565238361521081\n",
      "0.005802040857235902\n",
      "0.005802040857235902\n"
     ]
    }
   ],
   "source": [
    "m = np.random.random((3,4))\n",
    "m\n",
    "print(np.sum(m))\n",
    "print(m.sum())\n",
    "print(m.max())\n",
    "print(np.max(m))\n",
    "print(m.min())\n",
    "print(np.min(m))"
   ]
  },
  {
   "cell_type": "code",
   "execution_count": 62,
   "metadata": {},
   "outputs": [
    {
     "name": "stdout",
     "output_type": "stream",
     "text": [
      "174.25 \n",
      " 182.0 183.0 182.0 193 179.73809523809524 6.931843442745892\n"
     ]
    }
   ],
   "source": [
    "# 통계분석을 위해서는 pandas\n",
    "import pandas as pd\n",
    "df = pd.read_csv(\"https://raw.githubusercontent.com/SoongMoo/soldesk20230715/main/%EC%B0%B8%EA%B3%A0%EC%9E%90%EB%A3%8C/NumPy/data/president_heights.csv\")\n",
    "df\n",
    "\n",
    "df['height(cm)']\n",
    "heights = np.array(df['height(cm)'])\n",
    "heights\n",
    "heights.sum()\n",
    "heights.min() # 최소값 0사분위\n",
    "first=np.percentile(heights, 25) # 1사분위\n",
    "second=np.percentile(heights, 50) # 2사분위\n",
    "second1=np.median(heights)\n",
    "thrid=np.percentile(heights, 70) # 3사분위\n",
    "fourth=heights.max() # 최대값 4사분위\n",
    "average=heights.mean()\n",
    "std=heights.std()\n",
    "\n",
    "\n",
    "print(first,\"\\n\", second, thrid, second1, fourth, average, std)\n",
    "\n",
    "\n"
   ]
  },
  {
   "cell_type": "code",
   "execution_count": 63,
   "metadata": {},
   "outputs": [
    {
     "data": {
      "text/plain": [
       "Text(0, 0.5, 'number')"
      ]
     },
     "execution_count": 63,
     "metadata": {},
     "output_type": "execute_result"
    },
    {
     "data": {
      "image/png": "[encoded data removed]",
      "text/plain": [
       "<Figure size 640x480 with 1 Axes>"
      ]
     },
     "metadata": {},
     "output_type": "display_data"
    }
   ],
   "source": [
    "import matplotlib.pyplot as plt\n",
    "plt.hist(heights)\n",
    "plt.title(\"president\")\n",
    "plt.xlabel(\"height\")\n",
    "plt.ylabel(\"number\")"
   ]
  },
  {
   "cell_type": "code",
   "execution_count": 64,
   "metadata": {},
   "outputs": [
    {
     "name": "stdout",
     "output_type": "stream",
     "text": [
      "[False False False  True  True]\n",
      "[4 5]\n",
      "[4 5]\n",
      "9\n",
      "4\n"
     ]
    }
   ],
   "source": [
    "# 팬시 index, 마스크\n",
    "x=np.array([1,2,3,4,5])\n",
    "print(x>3)  # [False False False  True  True] >> 팬시index\n",
    "print(x[[False, False, False,  True, True]])\n",
    "print(x[x>3])\n",
    "print(np.sum(x[x>3]))\n",
    "print(x[3])\n",
    "\n"
   ]
  },
  {
   "cell_type": "code",
   "execution_count": 65,
   "metadata": {},
   "outputs": [
    {
     "name": "stdout",
     "output_type": "stream",
     "text": [
      "[False False False  True  True]\n",
      "[ True  True False False False]\n",
      "[ True  True  True False False]\n",
      "[False False  True  True  True]\n",
      "[False False  True False False]\n",
      "[ True  True False  True  True]\n"
     ]
    }
   ],
   "source": [
    "#관계연산자\n",
    "print(x > 3)\n",
    "print(x < 3)\n",
    "print(x <= 3)\n",
    "print(x >= 3)\n",
    "print(x == 3)\n",
    "print(x != 3)"
   ]
  },
  {
   "cell_type": "code",
   "execution_count": 72,
   "metadata": {},
   "outputs": [
    {
     "name": "stdout",
     "output_type": "stream",
     "text": [
      "[[False False False]\n",
      " [False  True  True]\n",
      " [ True  True  True]]\n",
      "[6 7 6 7 8]\n",
      "34\n",
      "34\n"
     ]
    }
   ],
   "source": [
    "x1 = np.array([[2,3,4],[4,6,7],[6,7,8]])\n",
    "x1\n",
    "print(x1>5)\n",
    "print(x1[x1>5])\n",
    "print(x1[x1>5].sum())\n",
    "print(np.sum(x1[x1>5]))"
   ]
  },
  {
   "cell_type": "code",
   "execution_count": 90,
   "metadata": {},
   "outputs": [
    {
     "data": {
      "text/plain": [
       "150"
      ]
     },
     "execution_count": 90,
     "metadata": {},
     "output_type": "execute_result"
    }
   ],
   "source": [
    "rainfall=pd.read_csv(\"https://raw.githubusercontent.com/SoongMoo/soldesk20230715/main/%EC%B0%B8%EA%B3%A0%EC%9E%90%EB%A3%8C/NumPy/data/Seattle2014.csv\")\n",
    "inches = np.array(rainfall['PRCP'] / 254)\n",
    "inches\n",
    "# 0.5인치이상 온 날은 몇일입니까?\n",
    "np.sum(inches > 0.5)\n",
    "np.sum(inches[inches > 0.5])\n",
    "inches[inches > 0.5]\n",
    "inches > 0.5\n",
    "# 강수량이 0.5에서 0.8 사이인 날은 몇일이나 되나요?\n",
    "np.sum((inches > 0.5) & (inches < 0.8))\n",
    "np.sum(inches[(inches > 0.5) & (inches < 0.8)])\n",
    "#강수량이 0.5보다 작고 0.8이 온날은?\n",
    "np.sum(~((inches > 0.5) & (inches < 0.8)))\n",
    "#비가 안온 날\n",
    "np.sum((inches == 0))\n",
    "# 비가 온 날은 몇일 일까요?\n",
    "np.sum((inches != 0))"
   ]
  },
  {
   "cell_type": "code",
   "execution_count": 91,
   "metadata": {},
   "outputs": [
    {
     "name": "stdout",
     "output_type": "stream",
     "text": [
      "[2 3 5 6 7]\n"
     ]
    },
    {
     "data": {
      "text/plain": [
       "array([2, 3, 5, 6, 7])"
      ]
     },
     "execution_count": 91,
     "metadata": {},
     "output_type": "execute_result"
    }
   ],
   "source": [
    "# 정렬\n",
    "x = np.array([3,6,2,7,5])\n",
    "print(np.sort(x))\n",
    "x\n",
    "x.sort()\n",
    "x"
   ]
  },
  {
   "cell_type": "code",
   "execution_count": 96,
   "metadata": {},
   "outputs": [
    {
     "name": "stdout",
     "output_type": "stream",
     "text": [
      "[[7 3 1 6 8 2]\n",
      " [6 5 2 9 6 1]\n",
      " [2 0 5 3 0 3]\n",
      " [7 7 2 3 8 6]]\n",
      "[[1 2 3 6 7 8]\n",
      " [1 2 5 6 6 9]\n",
      " [0 0 2 3 3 5]\n",
      " [2 3 6 7 7 8]]\n",
      "[[1 2 3 6 7 8]\n",
      " [1 2 5 6 6 9]\n",
      " [0 0 2 3 3 5]\n",
      " [2 3 6 7 7 8]]\n",
      "[[2 0 1 3 0 1]\n",
      " [6 3 2 3 6 2]\n",
      " [7 5 2 6 8 3]\n",
      " [7 7 5 9 8 6]]\n"
     ]
    }
   ],
   "source": [
    "x = np.random.randint(0, 10,(4, 6))\n",
    "print(x)\n",
    "print(np.sort(x))\n",
    "print(np.sort(x , axis=1)) # 행정렬\n",
    "print(np.sort(x , axis=0)) # 열정렬"
   ]
  },
  {
   "cell_type": "code",
   "execution_count": 99,
   "metadata": {},
   "outputs": [
    {
     "name": "stdout",
     "output_type": "stream",
     "text": [
      "[[7 3 1 6 8 2]\n",
      " [6 5 2 9 6 1]\n",
      " [2 0 5 3 0 3]\n",
      " [7 7 2 3 8 6]]\n",
      "[[1 2 3 6 7 8]\n",
      " [1 2 5 6 6 9]\n",
      " [0 2 0 3 3 5]\n",
      " [3 2 6 7 7 8]]\n",
      "[[1 2 3 6 7 8]\n",
      " [1 2 5 6 6 9]\n",
      " [0 2 0 3 3 5]\n",
      " [3 2 6 7 7 8]]\n",
      "[[2 0 1 3 0 1]\n",
      " [6 3 2 3 6 2]\n",
      " [7 5 2 6 8 3]\n",
      " [7 7 5 9 8 6]]\n"
     ]
    }
   ],
   "source": [
    "# 파티션 나누기 : 작은 값은 왼쪽 또는 위로 \n",
    "#                큰값은 오른쪽 또는 아래로 나누는 것 , 정렬은 안됨\n",
    "print(x)\n",
    "# 작은 수 3개를 앞으로 나머지는 뒤로\n",
    "print(np.partition(x, 4))\n",
    "print(np.partition(x, 4 , axis=1))\n",
    "print(np.partition(x, 2 , axis=0))"
   ]
  },
  {
   "cell_type": "markdown",
   "metadata": {},
   "source": [
    "# 기본자료형 : 정수, 실수, 문자열, 부울\n",
    "# 파이썬 자료형 : 리스트, 튜플, 딕셔너리, 집합\n",
    "# numpy : 배열 (리스트또는 튜플로 만들어진애들) :숫자만\n",
    "# pandas : DataFrame (엑셀의 Sheet와 같다. table, 2차원배열, 딕셔너리)  : 숫자 문자 모두 사용가능\n",
    "#          Series자료형 (1차원 배열, key가 하나인 딕셔너리)\n",
    "\n",
    "dataframe은 테이블 이라고 생각하면된다.\n"
   ]
  },
  {
   "cell_type": "code",
   "execution_count": 112,
   "metadata": {},
   "outputs": [
    {
     "name": "stdout",
     "output_type": "stream",
     "text": [
      "          country continent  year  lifeExp       pop   gdpPercap\n",
      "0     Afghanistan      Asia  1952   28.801   8425333  779.445314\n",
      "1     Afghanistan      Asia  1957   30.332   9240934  820.853030\n",
      "2     Afghanistan      Asia  1962   31.997  10267083  853.100710\n",
      "3     Afghanistan      Asia  1967   34.020  11537966  836.197138\n",
      "4     Afghanistan      Asia  1972   36.088  13079460  739.981106\n",
      "...           ...       ...   ...      ...       ...         ...\n",
      "1699     Zimbabwe    Africa  1987   62.351   9216418  706.157306\n",
      "1700     Zimbabwe    Africa  1992   60.377  10704340  693.420786\n",
      "1701     Zimbabwe    Africa  1997   46.809  11404948  792.449960\n",
      "1702     Zimbabwe    Africa  2002   39.989  11926563  672.038623\n",
      "1703     Zimbabwe    Africa  2007   43.487  12311143  469.709298\n",
      "\n",
      "[1704 rows x 6 columns]\n"
     ]
    }
   ],
   "source": [
    "import pandas as pd\n",
    "df=pd.read_csv(\"https://raw.githubusercontent.com/SoongMoo/soldesk20230715/main/data/gapminder.tsv\",sep=\"\\t\")\n",
    "print(df)\n"
   ]
  },
  {
   "cell_type": "code",
   "execution_count": 124,
   "metadata": {},
   "outputs": [
    {
     "name": "stdout",
     "output_type": "stream",
     "text": [
      "이승무\n"
     ]
    },
    {
     "data": {
      "text/plain": [
       "['Afghanistan', 'Zimbabwe']"
      ]
     },
     "execution_count": 124,
     "metadata": {},
     "output_type": "execute_result"
    }
   ],
   "source": [
    "dic={'a':\"이승무\", 'b':\"이장법\"}\n",
    "print(dic['a'])\n",
    "dic={'country':['Afghanistan','Zimbabwe'],\n",
    "      'continent':['Asia','Africa']}\n",
    "dic['country']"
   ]
  },
  {
   "cell_type": "code",
   "execution_count": 130,
   "metadata": {},
   "outputs": [
    {
     "data": {
      "text/html": [
       "<div>\n",
       "<style scoped>\n",
       "    .dataframe tbody tr th:only-of-type {\n",
       "        vertical-align: middle;\n",
       "    }\n",
       "\n",
       "    .dataframe tbody tr th {\n",
       "        vertical-align: top;\n",
       "    }\n",
       "\n",
       "    .dataframe thead th {\n",
       "        text-align: right;\n",
       "    }\n",
       "</style>\n",
       "<table border=\"1\" class=\"dataframe\">\n",
       "  <thead>\n",
       "    <tr style=\"text-align: right;\">\n",
       "      <th></th>\n",
       "      <th>country</th>\n",
       "      <th>continent</th>\n",
       "      <th>year</th>\n",
       "      <th>lifeExp</th>\n",
       "      <th>pop</th>\n",
       "      <th>gdpPercap</th>\n",
       "    </tr>\n",
       "  </thead>\n",
       "  <tbody>\n",
       "    <tr>\n",
       "      <th>1701</th>\n",
       "      <td>Zimbabwe</td>\n",
       "      <td>Africa</td>\n",
       "      <td>1997</td>\n",
       "      <td>46.809</td>\n",
       "      <td>11404948</td>\n",
       "      <td>792.449960</td>\n",
       "    </tr>\n",
       "    <tr>\n",
       "      <th>1702</th>\n",
       "      <td>Zimbabwe</td>\n",
       "      <td>Africa</td>\n",
       "      <td>2002</td>\n",
       "      <td>39.989</td>\n",
       "      <td>11926563</td>\n",
       "      <td>672.038623</td>\n",
       "    </tr>\n",
       "    <tr>\n",
       "      <th>1703</th>\n",
       "      <td>Zimbabwe</td>\n",
       "      <td>Africa</td>\n",
       "      <td>2007</td>\n",
       "      <td>43.487</td>\n",
       "      <td>12311143</td>\n",
       "      <td>469.709298</td>\n",
       "    </tr>\n",
       "  </tbody>\n",
       "</table>\n",
       "</div>"
      ],
      "text/plain": [
       "       country continent  year  lifeExp       pop   gdpPercap\n",
       "1701  Zimbabwe    Africa  1997   46.809  11404948  792.449960\n",
       "1702  Zimbabwe    Africa  2002   39.989  11926563  672.038623\n",
       "1703  Zimbabwe    Africa  2007   43.487  12311143  469.709298"
      ]
     },
     "execution_count": 130,
     "metadata": {},
     "output_type": "execute_result"
    }
   ],
   "source": [
    "df\n",
    "df['country']\n",
    "df.head()\n",
    "df.head(n=7)\n",
    "df.head(7)\n",
    "\n",
    "df.tail()\n",
    "df.tail(n=8)\n",
    "df.tail(3)"
   ]
  },
  {
   "cell_type": "code",
   "execution_count": 131,
   "metadata": {},
   "outputs": [
    {
     "name": "stdout",
     "output_type": "stream",
     "text": [
      "<class 'list'>\n",
      "<class 'str'>\n",
      "<class 'pandas.core.frame.DataFrame'>\n"
     ]
    }
   ],
   "source": [
    "l = [1,2,3]\n",
    "str1= \"문자\"\n",
    "print(type(l))\n",
    "print(type(str1))\n",
    "print(type(df))"
   ]
  },
  {
   "cell_type": "code",
   "execution_count": 133,
   "metadata": {},
   "outputs": [
    {
     "name": "stdout",
     "output_type": "stream",
     "text": [
      "3\n",
      "2\n",
      "1704\n",
      "(1704, 6)\n",
      "1704\n",
      "6\n",
      "dict_keys(['country', 'continent'])\n",
      "Index(['country', 'continent', 'year', 'lifeExp', 'pop', 'gdpPercap'], dtype='object')\n",
      "country       object\n",
      "continent     object\n",
      "year           int64\n",
      "lifeExp      float64\n",
      "pop            int64\n",
      "gdpPercap    float64\n",
      "dtype: object\n",
      "<class 'pandas.core.frame.DataFrame'>\n",
      "RangeIndex: 1704 entries, 0 to 1703\n",
      "Data columns (total 6 columns):\n",
      " #   Column     Non-Null Count  Dtype  \n",
      "---  ------     --------------  -----  \n",
      " 0   country    1704 non-null   object \n",
      " 1   continent  1704 non-null   object \n",
      " 2   year       1704 non-null   int64  \n",
      " 3   lifeExp    1704 non-null   float64\n",
      " 4   pop        1704 non-null   int64  \n",
      " 5   gdpPercap  1704 non-null   float64\n",
      "dtypes: float64(2), int64(2), object(2)\n",
      "memory usage: 80.0+ KB\n",
      "None\n"
     ]
    }
   ],
   "source": [
    "## 크기\n",
    "print(len(l))\n",
    "print(len(str1))\n",
    "print(len(df)) # 행의 크기\n",
    "print(df.shape) # (1704행, 6열) # 튜플\n",
    "print(df.shape[0]) # 행의 크기\n",
    "print(df.shape[1]) # 열의 크기\n",
    "print(dic.keys())\n",
    "# 열이름 :  컬럼\n",
    "# 행이름 : index\n",
    "# 컬럼명을 가지고 오기\n",
    "print(df.columns)\n",
    "# 각 컬럼의 자료형\n",
    "print(df.dtypes)\n",
    "# DataFrame의 모든 정보\n",
    "print(df.info())\n",
    "\n"
   ]
  },
  {
   "cell_type": "code",
   "execution_count": 137,
   "metadata": {},
   "outputs": [
    {
     "name": "stdout",
     "output_type": "stream",
     "text": [
      "0     Afghanistan\n",
      "1     Afghanistan\n",
      "2     Afghanistan\n",
      "3     Afghanistan\n",
      "4     Afghanistan\n",
      "5     Afghanistan\n",
      "6     Afghanistan\n",
      "7     Afghanistan\n",
      "8     Afghanistan\n",
      "9     Afghanistan\n",
      "10    Afghanistan\n",
      "11    Afghanistan\n",
      "12        Albania\n",
      "13        Albania\n",
      "14        Albania\n",
      "15        Albania\n",
      "16        Albania\n",
      "17        Albania\n",
      "18        Albania\n",
      "19        Albania\n",
      "20        Albania\n",
      "21        Albania\n",
      "22        Albania\n",
      "23        Albania\n",
      "24        Algeria\n",
      "25        Algeria\n",
      "26        Algeria\n",
      "27        Algeria\n",
      "28        Algeria\n",
      "29        Algeria\n",
      "30        Algeria\n",
      "31        Algeria\n",
      "32        Algeria\n",
      "33        Algeria\n",
      "34        Algeria\n",
      "35        Algeria\n",
      "36         Angola\n",
      "37         Angola\n",
      "38         Angola\n",
      "39         Angola\n",
      "40         Angola\n",
      "41         Angola\n",
      "42         Angola\n",
      "43         Angola\n",
      "44         Angola\n",
      "45         Angola\n",
      "46         Angola\n",
      "47         Angola\n",
      "48      Argentina\n",
      "49      Argentina\n",
      "Name: country, dtype: object\n"
     ]
    }
   ],
   "source": [
    "print(df['country'].head(50))"
   ]
  },
  {
   "cell_type": "code",
   "execution_count": 141,
   "metadata": {},
   "outputs": [
    {
     "name": "stdout",
     "output_type": "stream",
     "text": [
      "['Afghanistan', 'Zimbabwe']\n",
      "<class 'list'>\n"
     ]
    },
    {
     "data": {
      "text/html": [
       "<div>\n",
       "<style scoped>\n",
       "    .dataframe tbody tr th:only-of-type {\n",
       "        vertical-align: middle;\n",
       "    }\n",
       "\n",
       "    .dataframe tbody tr th {\n",
       "        vertical-align: top;\n",
       "    }\n",
       "\n",
       "    .dataframe thead th {\n",
       "        text-align: right;\n",
       "    }\n",
       "</style>\n",
       "<table border=\"1\" class=\"dataframe\">\n",
       "  <thead>\n",
       "    <tr style=\"text-align: right;\">\n",
       "      <th></th>\n",
       "      <th>country</th>\n",
       "      <th>continent</th>\n",
       "    </tr>\n",
       "  </thead>\n",
       "  <tbody>\n",
       "    <tr>\n",
       "      <th>0</th>\n",
       "      <td>Afghanistan</td>\n",
       "      <td>Asia</td>\n",
       "    </tr>\n",
       "    <tr>\n",
       "      <th>1</th>\n",
       "      <td>Afghanistan</td>\n",
       "      <td>Asia</td>\n",
       "    </tr>\n",
       "    <tr>\n",
       "      <th>2</th>\n",
       "      <td>Afghanistan</td>\n",
       "      <td>Asia</td>\n",
       "    </tr>\n",
       "    <tr>\n",
       "      <th>3</th>\n",
       "      <td>Afghanistan</td>\n",
       "      <td>Asia</td>\n",
       "    </tr>\n",
       "    <tr>\n",
       "      <th>4</th>\n",
       "      <td>Afghanistan</td>\n",
       "      <td>Asia</td>\n",
       "    </tr>\n",
       "    <tr>\n",
       "      <th>...</th>\n",
       "      <td>...</td>\n",
       "      <td>...</td>\n",
       "    </tr>\n",
       "    <tr>\n",
       "      <th>1699</th>\n",
       "      <td>Zimbabwe</td>\n",
       "      <td>Africa</td>\n",
       "    </tr>\n",
       "    <tr>\n",
       "      <th>1700</th>\n",
       "      <td>Zimbabwe</td>\n",
       "      <td>Africa</td>\n",
       "    </tr>\n",
       "    <tr>\n",
       "      <th>1701</th>\n",
       "      <td>Zimbabwe</td>\n",
       "      <td>Africa</td>\n",
       "    </tr>\n",
       "    <tr>\n",
       "      <th>1702</th>\n",
       "      <td>Zimbabwe</td>\n",
       "      <td>Africa</td>\n",
       "    </tr>\n",
       "    <tr>\n",
       "      <th>1703</th>\n",
       "      <td>Zimbabwe</td>\n",
       "      <td>Africa</td>\n",
       "    </tr>\n",
       "  </tbody>\n",
       "</table>\n",
       "<p>1704 rows × 2 columns</p>\n",
       "</div>"
      ],
      "text/plain": [
       "          country continent\n",
       "0     Afghanistan      Asia\n",
       "1     Afghanistan      Asia\n",
       "2     Afghanistan      Asia\n",
       "3     Afghanistan      Asia\n",
       "4     Afghanistan      Asia\n",
       "...           ...       ...\n",
       "1699     Zimbabwe    Africa\n",
       "1700     Zimbabwe    Africa\n",
       "1701     Zimbabwe    Africa\n",
       "1702     Zimbabwe    Africa\n",
       "1703     Zimbabwe    Africa\n",
       "\n",
       "[1704 rows x 2 columns]"
      ]
     },
     "execution_count": 141,
     "metadata": {},
     "output_type": "execute_result"
    }
   ],
   "source": [
    "dic = {\"country\" : [\"Afghanistan\",\"Zimbabwe\"],\n",
    "       \"continent\" : [\"Asia\",\"Africa\"],\n",
    "       \"year\" :      [\"1952\",\"1952\"]}\n",
    "print(dic['country'])\n",
    "print(type(dic['country']))\n",
    "df[['country','continent']]\n",
    "\n",
    "# df\n",
    "# print(df['country'])\n",
    "# print(type(df['country'])) # Series\n",
    "# # dataFrame에서 열 하나는 Series이다.\n",
    "# df['country'].head()\n",
    "# df['country'].tail()"
   ]
  },
  {
   "cell_type": "code",
   "execution_count": 143,
   "metadata": {},
   "outputs": [
    {
     "data": {
      "text/html": [
       "<div>\n",
       "<style scoped>\n",
       "    .dataframe tbody tr th:only-of-type {\n",
       "        vertical-align: middle;\n",
       "    }\n",
       "\n",
       "    .dataframe tbody tr th {\n",
       "        vertical-align: top;\n",
       "    }\n",
       "\n",
       "    .dataframe thead th {\n",
       "        text-align: right;\n",
       "    }\n",
       "</style>\n",
       "<table border=\"1\" class=\"dataframe\">\n",
       "  <thead>\n",
       "    <tr style=\"text-align: right;\">\n",
       "      <th></th>\n",
       "      <th>country</th>\n",
       "      <th>continent</th>\n",
       "      <th>year</th>\n",
       "    </tr>\n",
       "  </thead>\n",
       "  <tbody>\n",
       "    <tr>\n",
       "      <th>0</th>\n",
       "      <td>Afghanistan</td>\n",
       "      <td>Asia</td>\n",
       "      <td>1952</td>\n",
       "    </tr>\n",
       "    <tr>\n",
       "      <th>1</th>\n",
       "      <td>Zimbabwe</td>\n",
       "      <td>Africa</td>\n",
       "      <td>1952</td>\n",
       "    </tr>\n",
       "  </tbody>\n",
       "</table>\n",
       "</div>"
      ],
      "text/plain": [
       "       country continent  year\n",
       "0  Afghanistan      Asia  1952\n",
       "1     Zimbabwe    Africa  1952"
      ]
     },
     "execution_count": 143,
     "metadata": {},
     "output_type": "execute_result"
    }
   ],
   "source": [
    "dic = {\"country\" : [\"Afghanistan\",\"Zimbabwe\"],\n",
    "       \"continent\" : [\"Asia\",\"Africa\"],\n",
    "       \"year\" :      [\"1952\",\"1952\"]}\n",
    "\n",
    "dic\n",
    "\n",
    "df1=pd.DataFrame(dic)\n",
    "df1"
   ]
  }
 ],
 "metadata": {
  "kernelspec": {
   "display_name": "Python 3",
   "language": "python",
   "name": "python3"
  },
  "language_info": {
   "codemirror_mode": {
    "name": "ipython",
    "version": 3
   },
   "file_extension": ".py",
   "mimetype": "text/x-python",
   "name": "python",
   "nbconvert_exporter": "python",
   "pygments_lexer": "ipython3",
   "version": "3.11.4"
  },
  "orig_nbformat": 4
 },
 "nbformat": 4,
 "nbformat_minor": 2
}
