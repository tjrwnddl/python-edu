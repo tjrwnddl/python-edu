{
 "cells": [
  {
   "cell_type": "code",
   "execution_count": 5,
   "metadata": {},
   "outputs": [
    {
     "name": "stdout",
     "output_type": "stream",
     "text": [
      "12\n",
      "12\n",
      "12\n"
     ]
    }
   ],
   "source": [
    "print(3*4)\n",
    "print(5+7)\n",
    "print(15-3)\n"
   ]
  },
  {
   "cell_type": "markdown",
   "metadata": {},
   "source": [
    "01. comment\n"
   ]
  },
  {
   "cell_type": "code",
   "execution_count": 6,
   "metadata": {},
   "outputs": [
    {
     "name": "stdout",
     "output_type": "stream",
     "text": [
      "Hello World\n"
     ]
    }
   ],
   "source": [
    "# comment\n",
    "# 코드를 하다가 메모를 하는 용도로 사용된다.\n",
    "# 다른 개발자와 협업을 하면 좋다.\n",
    "print(\"Hello World\") # 이것도 코멘트\n"
   ]
  },
  {
   "cell_type": "markdown",
   "metadata": {},
   "source": [
    "02. 자료형 개요\n",
    "- 숫자\n",
    "  - 정수 (-1 -2 -3 0 1 2 3 )\n",
    "  - 소수 (3.14 -7.3 -2.0)\n",
    "- 문자열(String)\n",
    "  - \"Hello\"\n",
    "  - \"2\"\n",
    "- boolean\n",
    "  - True\n",
    "  - False\n",
    "  "
   ]
  },
  {
   "cell_type": "markdown",
   "metadata": {},
   "source": [
    "3. 추상화 개요\n",
    "- 복잡한 내용은 숨기고 주요기능에 집중하는것\n",
    "   - 변수 (variable)\n",
    "   - 함수 (function)\n",
    "    : 명령을 저장하는 것\n",
    "   - 객체 (object)\n"
   ]
  },
  {
   "cell_type": "markdown",
   "metadata": {},
   "source": [
    "4. 변수\n",
    "- 값을 담아두는것"
   ]
  },
  {
   "cell_type": "code",
   "execution_count": 9,
   "metadata": {},
   "outputs": [
    {
     "name": "stdout",
     "output_type": "stream",
     "text": [
      "4990\n",
      "9980\n",
      "6480\n",
      "24200\n"
     ]
    }
   ],
   "source": [
    "\n",
    "burger_price=4990\n",
    "fries_price=1490\n",
    "drink_price=1250\n",
    "\n",
    "print(burger_price)\n",
    "print(burger_price * 2)\n",
    "print(burger_price + fries_price)\n",
    "print(burger_price*3 + fries_price*2 + drink_price*5)\n",
    "\n"
   ]
  },
  {
   "cell_type": "markdown",
   "metadata": {},
   "source": [
    "05. 칼로리 계산기\n",
    "- 실습 과정임"
   ]
  },
  {
   "cell_type": "code",
   "execution_count": 10,
   "metadata": {},
   "outputs": [
    {
     "name": "stdout",
     "output_type": "stream",
     "text": [
      "1194\n",
      "1940\n",
      "929.9\n",
      "1880\n"
     ]
    }
   ],
   "source": [
    "### 문제 ###\n",
    "# 여기에 코드를 작성하세요.\n",
    "kitkat=190\n",
    "oreos=502\n",
    "pringles=292\n",
    "twix=135.9\n",
    "cheetos=485\n",
    "\n",
    "# 다양한 과자 조합\n",
    "print(kitkat + oreos * 2)\n",
    "print(cheetos * 4)\n",
    "print(pringles + oreos + twix)\n",
    "print(pringles * 3 + oreos * 2)"
   ]
  },
  {
   "cell_type": "markdown",
   "metadata": {},
   "source": [
    "06. 함수\n",
    "- 함수는 명령을 저장\n",
    "    - print는 내장함수 (미리만들어 놓은 함수)\n"
   ]
  },
  {
   "cell_type": "code",
   "execution_count": 13,
   "metadata": {},
   "outputs": [
    {
     "name": "stdout",
     "output_type": "stream",
     "text": [
      "Hello\n",
      "Welcome to Codeit\n",
      "Hello\n",
      "Welcome to Codeit\n",
      "Hello\n",
      "Welcome to Codeit\n"
     ]
    }
   ],
   "source": [
    "def hello(): ## 함수의 헤더\n",
    "    print(\"Hello\") ##탭으로 띄워줘야 함\n",
    "    print(\"Welcome to Codeit\") ##탭으로 띄워줘야 함\n",
    "hello()\n",
    "hello()\n",
    "hello()\n"
   ]
  },
  {
   "cell_type": "markdown",
   "metadata": {},
   "source": [
    "##### 07. 카페 모카 레시피 만들기\n",
    ">동욱이는 얼마 전 카페 알바를 시작했습니다. 그런데 아직 초짜이다 보니 실수가 잦네요. 실수를 좀 줄이기 위해, 카페 모카의 레시피를 출력하는 함수를 만들어 보려 합니다.<br>\n",
    "아래의 레시피를 한 줄씩 그대로 출력하여 실습 결과와 같아지도록 함수 cafe_mocha_recipe를 작성하세요.\n",
    "\n"
   ]
  },
  {
   "cell_type": "code",
   "execution_count": 14,
   "metadata": {},
   "outputs": [
    {
     "name": "stdout",
     "output_type": "stream",
     "text": [
      "1. 준비된 컵에 초코 소스를 넣는다.\n",
      "2. 에스프레소를 추출하고 잔에 부어 준다.\n",
      "3. 초코 소스와 커피를 잘 섞어 준다.\n",
      "4. 거품기로 우유 거품을 내고, 잔에 부어 준다.\n",
      "5. 생크림을 얹어 준다.\n"
     ]
    }
   ],
   "source": [
    "def cafe_mocha_recipe():\n",
    "    print(\"1. 준비된 컵에 초코 소스를 넣는다.\")\n",
    "    print(\"2. 에스프레소를 추출하고 잔에 부어 준다.\")\n",
    "    print(\"3. 초코 소스와 커피를 잘 섞어 준다.\")\n",
    "    print(\"4. 거품기로 우유 거품을 내고, 잔에 부어 준다.\")\n",
    "    print(\"5. 생크림을 얹어 준다.\")\n",
    "\n",
    "cafe_mocha_recipe()\n",
    "cafe_mocha_recipe()"
   ]
  },
  {
   "cell_type": "markdown",
   "metadata": {},
   "source": [
    "##### 08. 파라미터\n",
    "> 함수에서 사용하는 변수라고 보면 되겠다.\n",
    "##### 09. 여러개의 파라미터\n",
    "\n"
   ]
  },
  {
   "cell_type": "code",
   "execution_count": 21,
   "metadata": {},
   "outputs": [
    {
     "name": "stdout",
     "output_type": "stream",
     "text": [
      "Hello chris\n",
      "chris\n",
      "Welcome to Codeit\n",
      "7\n",
      "3\n",
      "10\n"
     ]
    }
   ],
   "source": [
    "def hello(name): ## 함수의 헤더\n",
    "    print(\"Hello\" + \" \" + name) ##탭으로 띄워줘야 함\n",
    "    print(name)\n",
    "    print(\"Welcome to Codeit\") ##탭으로 띄워줘야 함\n",
    "\n",
    "hello(\"chris\")\n",
    "\n",
    "## 다수의 파라미터\n",
    "def print_sum(a, b):\n",
    "    print(a)\n",
    "    print(b)\n",
    "    print(a+b)\n",
    "\n",
    "print_sum(7,3)"
   ]
  },
  {
   "cell_type": "markdown",
   "metadata": {},
   "source": [
    "##### 10 파라미터 실습문제\n",
    "> 실습 설명\n",
    "세 수의 곱을 알려주는 프로그램을 만들려고 합니다.<br>\n",
    "파라미터로 정수 값 세 개를 받고, 세 수의 곱을 출력하는 함수 multiply_three_numbers를 만들어 보세요. <br>\n",
    "<br>\n",
    "실습 결과<br>\n",
    "105<br>\n",
    "756<br>\n",
    "-126<br>\n"
   ]
  },
  {
   "cell_type": "code",
   "execution_count": 22,
   "metadata": {},
   "outputs": [
    {
     "name": "stdout",
     "output_type": "stream",
     "text": [
      "105\n",
      "756\n",
      "-126\n"
     ]
    }
   ],
   "source": [
    "# 코드를 작성하세요. \n",
    "def multiply_three_numbers(a,b,c):\n",
    "    print(a*b*c)\n",
    "\n",
    "# 테스트 코드\n",
    "multiply_three_numbers(7, 3, 5)\n",
    "multiply_three_numbers(21, 4, 9)\n",
    "multiply_three_numbers(-7, 6, 3)"
   ]
  },
  {
   "cell_type": "markdown",
   "metadata": {},
   "source": [
    "#####11. return문\n",
    "> return :돌려준다.<br>\n",
    "def get_square(x):\n",
    "    return x*x\n",
    "\n",
    "print(get_square(3) + get_square(4))"
   ]
  },
  {
   "cell_type": "code",
   "execution_count": 23,
   "metadata": {},
   "outputs": [
    {
     "name": "stdout",
     "output_type": "stream",
     "text": [
      "25\n"
     ]
    }
   ],
   "source": [
    "def get_square(x):\n",
    "    return x*x\n",
    "    \n",
    "print(get_square(3) + get_square(4))"
   ]
  }
 ],
 "metadata": {
  "kernelspec": {
   "display_name": "Python 3",
   "language": "python",
   "name": "python3"
  },
  "language_info": {
   "codemirror_mode": {
    "name": "ipython",
    "version": 3
   },
   "file_extension": ".py",
   "mimetype": "text/x-python",
   "name": "python",
   "nbconvert_exporter": "python",
   "pygments_lexer": "ipython3",
   "version": "3.12.4"
  }
 },
 "nbformat": 4,
 "nbformat_minor": 2
}
