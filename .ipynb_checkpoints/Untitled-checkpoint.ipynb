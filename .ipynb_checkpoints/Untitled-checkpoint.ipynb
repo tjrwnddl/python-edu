{
 "cells": [
  {
   "cell_type": "code",
   "execution_count": 1,
   "id": "5eaf895f",
   "metadata": {},
   "outputs": [
    {
     "name": "stdout",
     "output_type": "stream",
     "text": [
      "기상청 육상 중기예보\n",
      "○ (강수) 8일(화) 강원영동에, 9일(수)~10일(목) 강원영동과 경상권에 비가 오겠습니다.<br />○ (기온) 8일(화)~9일(수) 아침 기온은 24~27도, 낮 기온은 28~35도로 평년(최저기온 22~24도, 최고기온 29~33도)보다 높겠습니다.<br />          10일(목)~15일(화) 아침 기온은 22~26도, 낮 기온은 29~33도로 평년과 비슷하겠습니다.<br />○ (해상) 제주도해상은 9일(수)까지, 남해동부해상은 10일(목)까지 물결이 1.0~4.0m(남해동부해상 9일(수) 5.0m 이상)로 매우 높게 일겠으며, <br />          동해상은 8일(화)~11일(금) 물결이 1.0~4.0m(9일(수)~10일(목) 5.0m 이상)로 매우 높게 일겠습니다.<br /><br />* 이번 예보기간 무더위가 지속되는 가운데, 제6호 태풍(카눈)의 이동경로에 따라 강수구역과 시점이 변경될 가능성과 내륙을 중심으로 소나기가 내릴 가능성이 있겠으니, 앞으로 발표되는 최신 예보를 참고하기 바랍니다.\n"
     ]
    },
    {
     "name": "stderr",
     "output_type": "stream",
     "text": [
      "C:\\Users\\soldesk\\AppData\\Local\\Programs\\Python\\Python311\\Lib\\site-packages\\bs4\\builder\\__init__.py:545: XMLParsedAsHTMLWarning: It looks like you're parsing an XML document using an HTML parser. If this really is an HTML document (maybe it's XHTML?), you can ignore or filter this warning. If it's XML, you should know that using an XML parser will be more reliable. To parse this document as XML, make sure you have the lxml package installed, and pass the keyword argument `features=\"xml\"` into the BeautifulSoup constructor.\n",
      "  warnings.warn(\n"
     ]
    }
   ],
   "source": [
    "import urllib.request as req # 스크래핑\n",
    "from bs4 import BeautifulSoup\n",
    " # 크롤링\n",
    "url = \"http://www.kma.go.kr/weather/forecast/mid-term-rss3.jsp\"\n",
    "data = urllib.request.urlopen(url).read()\n",
    "#html = data.decode(\"utf-8\")\n",
    "soup = BeautifulSoup(data, \"html.parser\")\n",
    "#### 크롤링\n",
    "title = soup.find('title').string\n",
    "print(title)\n",
    "wf = soup.find('wf').string\n",
    "print(wf)\n"
   ]
  },
  {
   "cell_type": "code",
   "execution_count": null,
   "id": "b0e2aad8",
   "metadata": {},
   "outputs": [],
   "source": []
  }
 ],
 "metadata": {
  "kernelspec": {
   "display_name": "Python 3 (ipykernel)",
   "language": "python",
   "name": "python3"
  },
  "language_info": {
   "codemirror_mode": {
    "name": "ipython",
    "version": 3
   },
   "file_extension": ".py",
   "mimetype": "text/x-python",
   "name": "python",
   "nbconvert_exporter": "python",
   "pygments_lexer": "ipython3",
   "version": "3.11.4"
  }
 },
 "nbformat": 4,
 "nbformat_minor": 5
}
